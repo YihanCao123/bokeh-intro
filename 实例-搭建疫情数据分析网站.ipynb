{
 "cells": [
  {
   "cell_type": "markdown",
   "metadata": {},
   "source": [
    "# 实例-搭建疫情数据分析网站"
   ]
  },
  {
   "cell_type": "markdown",
   "metadata": {},
   "source": [
    "## 0 实例介绍"
   ]
  },
  {
   "cell_type": "markdown",
   "metadata": {},
   "source": [
    "## 1 获取数据"
   ]
  },
  {
   "cell_type": "markdown",
   "metadata": {},
   "source": [
    "## 2 网站`html`文件编辑"
   ]
  },
  {
   "cell_type": "markdown",
   "metadata": {},
   "source": [
    "## 3 基础图像的绘制\n",
    "\n",
    "本项目中，我们仍然使用`covid19`数据集，该数据集收集了31个身份53天内的疫情数据，我们参考JHU疫情分析以及百度大数据疫情分析网站，来制作基础的图像。"
   ]
  },
  {
   "cell_type": "code",
   "execution_count": 74,
   "metadata": {},
   "outputs": [],
   "source": [
    "import pandas as pd \n",
    "import numpy as np \n",
    "from bokeh.plotting import figure, output_file, show\n",
    "from bokeh.plotting import ColumnDataSource as CDS \n",
    "from bokeh.models import Toggle, Circle, CheckboxButtonGroup, RadioButtonGroup, Select, RadioGroup, HoverTool\n",
    "from bokeh.layouts import layout, column, row\n",
    "from bokeh.embed import file_html\n",
    "from bokeh.events import ButtonClick\n",
    "from bokeh.resources import CDN\n",
    "from bokeh.io import save"
   ]
  },
  {
   "cell_type": "code",
   "execution_count": 6,
   "metadata": {},
   "outputs": [],
   "source": [
    "covid19 = pd.read_csv('covid19.csv')\n",
    "covid19['Observation Date'] = pd.to_datetime(covid19['Observation Date'], format = '%d-%m-%Y')"
   ]
  },
  {
   "cell_type": "code",
   "execution_count": 7,
   "metadata": {},
   "outputs": [],
   "source": [
    "provincedata = covid19.groupby('Province/State')[['Confirmed', 'Observation Date']]"
   ]
  },
  {
   "cell_type": "code",
   "execution_count": 8,
   "metadata": {},
   "outputs": [],
   "source": [
    "cityname = []\n",
    "confirmed = []\n",
    "deaths = []\n",
    "latitude = []\n",
    "longitude = []\n",
    "date = list(provincedata)[0][1]['Observation Date']\n",
    "\n",
    "for city in list(provincedata):\n",
    "    cityname.append(city[0])\n",
    "    confirmed.append(list(city[1]['Confirmed']))\n",
    "    deaths.append(list(city[1]['Deaths']))\n",
    "    latitude.append(city[1]['Latitude'].iloc[0])\n",
    "    longitude.append(city[1]['Longitude'].iloc[0])\n",
    "\n",
    "Confirmed = pd.DataFrame(pd.DataFrame(confirmed).values.T, index = date, columns = cityname)\n",
    "Deaths = pd.DataFrame(pd.DataFrame(deaths).values.T, index = date, columns = cityname)"
   ]
  },
  {
   "cell_type": "code",
   "execution_count": 77,
   "metadata": {
    "tags": [
     "outputPrepend",
     "outputPrepend",
     "outputPrepend",
     "outputPrepend"
    ]
   },
   "outputs": [
    {
     "output_type": "execute_result",
     "data": {
      "text/plain": "'f:\\\\yihan\\\\Github存储库\\\\bokeh-intro\\\\myplot.html'"
     },
     "metadata": {},
     "execution_count": 77
    }
   ],
   "source": [
    "source = CDS(Confirmed)\n",
    "\n",
    "\n",
    "TOOLTIPS = [\n",
    "    ('date', '$x'),\n",
    "    ('Confirmed Infections', '$y{0}'),\n",
    "    ('Province', '@Province')\n",
    "]\n",
    "\n",
    "HoverTool.formatters = {'$x': 'datetime'}\n",
    "\n",
    "pa = figure(plot_width = 800, plot_height = 400, x_axis_type = 'datetime', tooltips = TOOLTIPS)\n",
    "pa.title.text = 'Confirmed Infections(Except Hubei)'\n",
    "pa.title.text_color = 'navy'\n",
    "pa.title.text_font_size = '20px'\n",
    "\n",
    "hbconfirmed = pd.DataFrame(Confirmed['Hubei'])\n",
    "hbconfirmed['date'] = hbconfirmed.index\n",
    "Confirmed2 = Confirmed.drop('Hubei', axis = 1)\n",
    "\n",
    "toggles = []\n",
    "radios = []\n",
    "finalshow = []\n",
    "for data in range(30):\n",
    "    confirmed = pd.DataFrame(Confirmed2.iloc[:, data])\n",
    "    confirmed['Province'] = np.repeat(confirmed.columns[0], 54)\n",
    "    confirmed['date'] = confirmed.index\n",
    "    source = CDS(confirmed)\n",
    "    p1 = pa.line(y = confirmed.columns[0] , x = 'date',source = source,  line_width = 2)\n",
    "    finalshow.append(p1)\n",
    "    p2 = pa.circle(y = confirmed.columns[0] , x = 'date',source = source, width = 0.6, color = 'navy', alpha = 0.5)\n",
    "\n",
    "    selected_circle = Circle(fill_alpha = 1, fill_color = 'firebrick')\n",
    "    unselected_circle = Circle(fill_alpha = 0.2, fill_color = 'blue')\n",
    "\n",
    "    p2.selection_glyph = selected_circle\n",
    "    p2.nonselection_glyph = unselected_circle\n",
    "\n",
    "\n",
    "    #p1.selection_glyph = selected_line\n",
    "    #p1.nonselection_glyph = unselected_line\n",
    "    toggle1 = Toggle(label = confirmed.columns[0], button_type = 'default', active = True, width_policy = 'min', background = 'grey')\n",
    "    toggle1.js_link('active', p1, 'visible')\n",
    "    toggle1.js_link('active', p2, 'visible')\n",
    "    toggles.append(toggle1)\n",
    "\n",
    "pb = figure(plot_width = 800, plot_height = 400, x_axis_type = 'datetime', tooltips = TOOLTIPS)\n",
    "\n",
    "pb.title.text = 'Hubei Confirmed Infections'\n",
    "pb.title.text_color = 'navy'\n",
    "pb.title.text_font_size = '20px'\n",
    "\n",
    "\n",
    "source = CDS(hbconfirmed)\n",
    "pb.line(y = 'Hubei', x = 'date',source = source, line_width = 2)\n",
    "pb.circle(y = 'Hubei', x = 'date',source = source, width = 0.6, color = 'navy', alpha = 0.5)\n",
    "\n",
    "toggles1 = toggles[0:10]\n",
    "toggles2 = toggles[10:20]\n",
    "toggles3 = toggles[20:]\n",
    "\n",
    "layouts = layout([pa, toggles1,toggles2,toggles3,pb])\n",
    "\n",
    "html = file_html(layouts, CDN, \"myplot\")\n",
    "\n",
    "save(layouts)"
   ]
  }
 ],
 "metadata": {
  "language_info": {
   "codemirror_mode": {
    "name": "ipython",
    "version": 3
   },
   "file_extension": ".py",
   "mimetype": "text/x-python",
   "name": "python",
   "nbconvert_exporter": "python",
   "pygments_lexer": "ipython3",
   "version": "3.7.4-final"
  },
  "orig_nbformat": 2,
  "kernelspec": {
   "name": "python37464bit1e709d27370248668c5cb1cb9452c666",
   "display_name": "Python 3.7.4 64-bit"
  }
 },
 "nbformat": 4,
 "nbformat_minor": 2
}