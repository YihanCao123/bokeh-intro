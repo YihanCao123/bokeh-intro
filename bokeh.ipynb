{
 "cells": [
  {
   "cell_type": "markdown",
   "metadata": {},
   "source": [
    "# 交互式作图，网页下的可视化应用\n",
    "##    ——Bokeh Introduction"
   ]
  },
  {
   "cell_type": "markdown",
   "metadata": {},
   "source": [
    "## 0 `Bokeh`简介\n",
    "\n",
    "`Bokeh`是一种依赖于`Python`的交互式绘图库，其结合了`html`、`Python`、`JavaScript`，可视化以及交互能力非常强大。它提供了优雅、简洁的可视化解决方案，并且能够在大数据、流数据上展现高性能的交互系统。对于前端开发、数据分析，`Bokeh`都是一个非常好的选择。"
   ]
  },
  {
   "cell_type": "markdown",
   "metadata": {},
   "source": [
    "## 1 下载与安装`Bokeh`\n",
    "如果您为`conda`的使用者，在`bash`中执行：\n",
    "```\n",
    "conda install bokeh\n",
    "```\n",
    "\n",
    "如果您为`pip`的使用者，在命令行中执行：\n",
    "```\n",
    "pip install bokeh\n",
    "```\n"
   ]
  },
  {
   "cell_type": "markdown",
   "metadata": {},
   "source": [
    "## 2 官方教程与文档：\n",
    "官方文档：https://docs.bokeh.org/en/latest/docs/user_guide.html#userguide\n",
    "\n",
    "官方教程：https://mybinder.org/v2/gh/bokeh/bokeh-notebooks/master?filepath=tutorial%2F00%20-%20Introduction%20and%20Setup.ipynb\n",
    "\n",
    "参考手册：https://docs.bokeh.org/en/latest/docs/reference.html\n",
    "\n",
    "社区：https://discourse.bokeh.org/\n",
    "\n",
    "Github地址：https://github.com/bokeh/bokeh"
   ]
  },
  {
   "cell_type": "markdown",
   "metadata": {},
   "source": [
    "## 3 `Bokeh`基础绘图功能"
   ]
  },
  {
   "cell_type": "markdown",
   "metadata": {},
   "source": [
    "### 3.1 基础的Bokeh对象\n",
    "为了实现高级的Bokeh使用方法，在进行进一步的加载之前，首先定义一系列的Bokeh对象：\n",
    "- 嵌入：嵌入是指Bokeh将图与窗口部件加入到Web程序和网页中的方法，这种操作在Bokeh中同样是可行的。\n",
    "- 形状（Glyphs）：基础的构成模块，例如直线、矩阵、圆等等。\n",
    "- 模型（Models）：构成Bokeh场景图的最低级对象。\n",
    "- 服务器：用于共享、发布Bokeh图形以及应用程序。\n",
    "- 部件：用户模块，例如滑块、菜单、按钮等等，是用户用来交互的主要途径。"
   ]
  },
  {
   "cell_type": "markdown",
   "metadata": {},
   "source": [
    "### 3.2 形状绘图\n",
    "形状绘图，也就是绘制形状对象。首先注意到，如果图像需要保存，在每次绘图之前，都建议设置图像的输出路径。`Bokeh`中可以通过`circle`、`square`等等函数作出美观的交互式图形。"
   ]
  },
  {
   "cell_type": "code",
   "execution_count": 27,
   "metadata": {},
   "outputs": [
    {
     "output_type": "display_data",
     "data": {
      "text/html": "\n    <div class=\"bk-root\">\n        <a href=\"https://bokeh.org\" target=\"_blank\" class=\"bk-logo bk-logo-small bk-logo-notebook\"></a>\n        <span id=\"4847\">Loading BokehJS ...</span>\n    </div>"
     },
     "metadata": {}
    },
    {
     "output_type": "display_data",
     "data": {
      "application/javascript": "\n(function(root) {\n  function now() {\n    return new Date();\n  }\n\n  var force = true;\n\n  if (typeof root._bokeh_onload_callbacks === \"undefined\" || force === true) {\n    root._bokeh_onload_callbacks = [];\n    root._bokeh_is_loading = undefined;\n  }\n\n  var JS_MIME_TYPE = 'application/javascript';\n  var HTML_MIME_TYPE = 'text/html';\n  var EXEC_MIME_TYPE = 'application/vnd.bokehjs_exec.v0+json';\n  var CLASS_NAME = 'output_bokeh rendered_html';\n\n  /**\n   * Render data to the DOM node\n   */\n  function render(props, node) {\n    var script = document.createElement(\"script\");\n    node.appendChild(script);\n  }\n\n  /**\n   * Handle when an output is cleared or removed\n   */\n  function handleClearOutput(event, handle) {\n    var cell = handle.cell;\n\n    var id = cell.output_area._bokeh_element_id;\n    var server_id = cell.output_area._bokeh_server_id;\n    // Clean up Bokeh references\n    if (id != null && id in Bokeh.index) {\n      Bokeh.index[id].model.document.clear();\n      delete Bokeh.index[id];\n    }\n\n    if (server_id !== undefined) {\n      // Clean up Bokeh references\n      var cmd = \"from bokeh.io.state import curstate; print(curstate().uuid_to_server['\" + server_id + \"'].get_sessions()[0].document.roots[0]._id)\";\n      cell.notebook.kernel.execute(cmd, {\n        iopub: {\n          output: function(msg) {\n            var id = msg.content.text.trim();\n            if (id in Bokeh.index) {\n              Bokeh.index[id].model.document.clear();\n              delete Bokeh.index[id];\n            }\n          }\n        }\n      });\n      // Destroy server and session\n      var cmd = \"import bokeh.io.notebook as ion; ion.destroy_server('\" + server_id + \"')\";\n      cell.notebook.kernel.execute(cmd);\n    }\n  }\n\n  /**\n   * Handle when a new output is added\n   */\n  function handleAddOutput(event, handle) {\n    var output_area = handle.output_area;\n    var output = handle.output;\n\n    // limit handleAddOutput to display_data with EXEC_MIME_TYPE content only\n    if ((output.output_type != \"display_data\") || (!output.data.hasOwnProperty(EXEC_MIME_TYPE))) {\n      return\n    }\n\n    var toinsert = output_area.element.find(\".\" + CLASS_NAME.split(' ')[0]);\n\n    if (output.metadata[EXEC_MIME_TYPE][\"id\"] !== undefined) {\n      toinsert[toinsert.length - 1].firstChild.textContent = output.data[JS_MIME_TYPE];\n      // store reference to embed id on output_area\n      output_area._bokeh_element_id = output.metadata[EXEC_MIME_TYPE][\"id\"];\n    }\n    if (output.metadata[EXEC_MIME_TYPE][\"server_id\"] !== undefined) {\n      var bk_div = document.createElement(\"div\");\n      bk_div.innerHTML = output.data[HTML_MIME_TYPE];\n      var script_attrs = bk_div.children[0].attributes;\n      for (var i = 0; i < script_attrs.length; i++) {\n        toinsert[toinsert.length - 1].firstChild.setAttribute(script_attrs[i].name, script_attrs[i].value);\n        toinsert[toinsert.length - 1].firstChild.textContent = bk_div.children[0].textContent\n      }\n      // store reference to server id on output_area\n      output_area._bokeh_server_id = output.metadata[EXEC_MIME_TYPE][\"server_id\"];\n    }\n  }\n\n  function register_renderer(events, OutputArea) {\n\n    function append_mime(data, metadata, element) {\n      // create a DOM node to render to\n      var toinsert = this.create_output_subarea(\n        metadata,\n        CLASS_NAME,\n        EXEC_MIME_TYPE\n      );\n      this.keyboard_manager.register_events(toinsert);\n      // Render to node\n      var props = {data: data, metadata: metadata[EXEC_MIME_TYPE]};\n      render(props, toinsert[toinsert.length - 1]);\n      element.append(toinsert);\n      return toinsert\n    }\n\n    /* Handle when an output is cleared or removed */\n    events.on('clear_output.CodeCell', handleClearOutput);\n    events.on('delete.Cell', handleClearOutput);\n\n    /* Handle when a new output is added */\n    events.on('output_added.OutputArea', handleAddOutput);\n\n    /**\n     * Register the mime type and append_mime function with output_area\n     */\n    OutputArea.prototype.register_mime_type(EXEC_MIME_TYPE, append_mime, {\n      /* Is output safe? */\n      safe: true,\n      /* Index of renderer in `output_area.display_order` */\n      index: 0\n    });\n  }\n\n  // register the mime type if in Jupyter Notebook environment and previously unregistered\n  if (root.Jupyter !== undefined) {\n    var events = require('base/js/events');\n    var OutputArea = require('notebook/js/outputarea').OutputArea;\n\n    if (OutputArea.prototype.mime_types().indexOf(EXEC_MIME_TYPE) == -1) {\n      register_renderer(events, OutputArea);\n    }\n  }\n\n  \n  if (typeof (root._bokeh_timeout) === \"undefined\" || force === true) {\n    root._bokeh_timeout = Date.now() + 5000;\n    root._bokeh_failed_load = false;\n  }\n\n  var NB_LOAD_WARNING = {'data': {'text/html':\n     \"<div style='background-color: #fdd'>\\n\"+\n     \"<p>\\n\"+\n     \"BokehJS does not appear to have successfully loaded. If loading BokehJS from CDN, this \\n\"+\n     \"may be due to a slow or bad network connection. Possible fixes:\\n\"+\n     \"</p>\\n\"+\n     \"<ul>\\n\"+\n     \"<li>re-rerun `output_notebook()` to attempt to load from CDN again, or</li>\\n\"+\n     \"<li>use INLINE resources instead, as so:</li>\\n\"+\n     \"</ul>\\n\"+\n     \"<code>\\n\"+\n     \"from bokeh.resources import INLINE\\n\"+\n     \"output_notebook(resources=INLINE)\\n\"+\n     \"</code>\\n\"+\n     \"</div>\"}};\n\n  function display_loaded() {\n    var el = document.getElementById(\"4847\");\n    if (el != null) {\n      el.textContent = \"BokehJS is loading...\";\n    }\n    if (root.Bokeh !== undefined) {\n      if (el != null) {\n        el.textContent = \"BokehJS \" + root.Bokeh.version + \" successfully loaded.\";\n      }\n    } else if (Date.now() < root._bokeh_timeout) {\n      setTimeout(display_loaded, 100)\n    }\n  }\n\n\n  function run_callbacks() {\n    try {\n      root._bokeh_onload_callbacks.forEach(function(callback) {\n        if (callback != null)\n          callback();\n      });\n    } finally {\n      delete root._bokeh_onload_callbacks\n    }\n    console.debug(\"Bokeh: all callbacks have finished\");\n  }\n\n  function load_libs(css_urls, js_urls, callback) {\n    if (css_urls == null) css_urls = [];\n    if (js_urls == null) js_urls = [];\n\n    root._bokeh_onload_callbacks.push(callback);\n    if (root._bokeh_is_loading > 0) {\n      console.debug(\"Bokeh: BokehJS is being loaded, scheduling callback at\", now());\n      return null;\n    }\n    if (js_urls == null || js_urls.length === 0) {\n      run_callbacks();\n      return null;\n    }\n    console.debug(\"Bokeh: BokehJS not loaded, scheduling load and callback at\", now());\n    root._bokeh_is_loading = css_urls.length + js_urls.length;\n\n    function on_load() {\n      root._bokeh_is_loading--;\n      if (root._bokeh_is_loading === 0) {\n        console.debug(\"Bokeh: all BokehJS libraries/stylesheets loaded\");\n        run_callbacks()\n      }\n    }\n\n    function on_error() {\n      console.error(\"failed to load \" + url);\n    }\n\n    for (var i = 0; i < css_urls.length; i++) {\n      var url = css_urls[i];\n      const element = document.createElement(\"link\");\n      element.onload = on_load;\n      element.onerror = on_error;\n      element.rel = \"stylesheet\";\n      element.type = \"text/css\";\n      element.href = url;\n      console.debug(\"Bokeh: injecting link tag for BokehJS stylesheet: \", url);\n      document.body.appendChild(element);\n    }\n\n    const hashes = {\"https://cdn.bokeh.org/bokeh/release/bokeh-2.0.2.min.js\": \"ufR9RFnRs6lniiaFvtJziE0YeidtAgBRH6ux2oUItHw5WTvE1zuk9uzhUU/FJXDp\", \"https://cdn.bokeh.org/bokeh/release/bokeh-widgets-2.0.2.min.js\": \"8QM/PGWBT+IssZuRcDcjzwIh1mkOmJSoNMmyYDZbCfXJg3Ap1lEvdVgFuSAwhb/J\", \"https://cdn.bokeh.org/bokeh/release/bokeh-tables-2.0.2.min.js\": \"Jm8cH3Rg0P6UeZhVY5cLy1WzKajUT9KImCY+76hEqrcJt59/d8GPvFHjCkYgnSIn\", \"https://cdn.bokeh.org/bokeh/release/bokeh-gl-2.0.2.min.js\": \"Ozhzj+SI7ywm74aOI/UajcWz+C0NjsPunEVyVIrxzYkB+jA+2tUw8x5xJCbVtK5I\"};\n\n    for (var i = 0; i < js_urls.length; i++) {\n      var url = js_urls[i];\n      var element = document.createElement('script');\n      element.onload = on_load;\n      element.onerror = on_error;\n      element.async = false;\n      element.src = url;\n      if (url in hashes) {\n        element.crossOrigin = \"anonymous\";\n        element.integrity = \"sha384-\" + hashes[url];\n      }\n      console.debug(\"Bokeh: injecting script tag for BokehJS library: \", url);\n      document.head.appendChild(element);\n    }\n  };\n\n  function inject_raw_css(css) {\n    const element = document.createElement(\"style\");\n    element.appendChild(document.createTextNode(css));\n    document.body.appendChild(element);\n  }\n\n  \n  var js_urls = [\"https://cdn.bokeh.org/bokeh/release/bokeh-2.0.2.min.js\", \"https://cdn.bokeh.org/bokeh/release/bokeh-widgets-2.0.2.min.js\", \"https://cdn.bokeh.org/bokeh/release/bokeh-tables-2.0.2.min.js\", \"https://cdn.bokeh.org/bokeh/release/bokeh-gl-2.0.2.min.js\"];\n  var css_urls = [];\n  \n\n  var inline_js = [\n    function(Bokeh) {\n      Bokeh.set_log_level(\"info\");\n    },\n    function(Bokeh) {\n    \n    \n    }\n  ];\n\n  function run_inline_js() {\n    \n    if (root.Bokeh !== undefined || force === true) {\n      \n    for (var i = 0; i < inline_js.length; i++) {\n      inline_js[i].call(root, root.Bokeh);\n    }\n    if (force === true) {\n        display_loaded();\n      }} else if (Date.now() < root._bokeh_timeout) {\n      setTimeout(run_inline_js, 100);\n    } else if (!root._bokeh_failed_load) {\n      console.log(\"Bokeh: BokehJS failed to load within specified timeout.\");\n      root._bokeh_failed_load = true;\n    } else if (force !== true) {\n      var cell = $(document.getElementById(\"4847\")).parents('.cell').data().cell;\n      cell.output_area.append_execute_result(NB_LOAD_WARNING)\n    }\n\n  }\n\n  if (root._bokeh_is_loading === 0) {\n    console.debug(\"Bokeh: BokehJS loaded, going straight to plotting\");\n    run_inline_js();\n  } else {\n    load_libs(css_urls, js_urls, function() {\n      console.debug(\"Bokeh: BokehJS plotting callback run at\", now());\n      run_inline_js();\n    });\n  }\n}(window));",
      "application/vnd.bokehjs_load.v0+json": "\n(function(root) {\n  function now() {\n    return new Date();\n  }\n\n  var force = true;\n\n  if (typeof root._bokeh_onload_callbacks === \"undefined\" || force === true) {\n    root._bokeh_onload_callbacks = [];\n    root._bokeh_is_loading = undefined;\n  }\n\n  \n\n  \n  if (typeof (root._bokeh_timeout) === \"undefined\" || force === true) {\n    root._bokeh_timeout = Date.now() + 5000;\n    root._bokeh_failed_load = false;\n  }\n\n  var NB_LOAD_WARNING = {'data': {'text/html':\n     \"<div style='background-color: #fdd'>\\n\"+\n     \"<p>\\n\"+\n     \"BokehJS does not appear to have successfully loaded. If loading BokehJS from CDN, this \\n\"+\n     \"may be due to a slow or bad network connection. Possible fixes:\\n\"+\n     \"</p>\\n\"+\n     \"<ul>\\n\"+\n     \"<li>re-rerun `output_notebook()` to attempt to load from CDN again, or</li>\\n\"+\n     \"<li>use INLINE resources instead, as so:</li>\\n\"+\n     \"</ul>\\n\"+\n     \"<code>\\n\"+\n     \"from bokeh.resources import INLINE\\n\"+\n     \"output_notebook(resources=INLINE)\\n\"+\n     \"</code>\\n\"+\n     \"</div>\"}};\n\n  function display_loaded() {\n    var el = document.getElementById(\"4847\");\n    if (el != null) {\n      el.textContent = \"BokehJS is loading...\";\n    }\n    if (root.Bokeh !== undefined) {\n      if (el != null) {\n        el.textContent = \"BokehJS \" + root.Bokeh.version + \" successfully loaded.\";\n      }\n    } else if (Date.now() < root._bokeh_timeout) {\n      setTimeout(display_loaded, 100)\n    }\n  }\n\n\n  function run_callbacks() {\n    try {\n      root._bokeh_onload_callbacks.forEach(function(callback) {\n        if (callback != null)\n          callback();\n      });\n    } finally {\n      delete root._bokeh_onload_callbacks\n    }\n    console.debug(\"Bokeh: all callbacks have finished\");\n  }\n\n  function load_libs(css_urls, js_urls, callback) {\n    if (css_urls == null) css_urls = [];\n    if (js_urls == null) js_urls = [];\n\n    root._bokeh_onload_callbacks.push(callback);\n    if (root._bokeh_is_loading > 0) {\n      console.debug(\"Bokeh: BokehJS is being loaded, scheduling callback at\", now());\n      return null;\n    }\n    if (js_urls == null || js_urls.length === 0) {\n      run_callbacks();\n      return null;\n    }\n    console.debug(\"Bokeh: BokehJS not loaded, scheduling load and callback at\", now());\n    root._bokeh_is_loading = css_urls.length + js_urls.length;\n\n    function on_load() {\n      root._bokeh_is_loading--;\n      if (root._bokeh_is_loading === 0) {\n        console.debug(\"Bokeh: all BokehJS libraries/stylesheets loaded\");\n        run_callbacks()\n      }\n    }\n\n    function on_error() {\n      console.error(\"failed to load \" + url);\n    }\n\n    for (var i = 0; i < css_urls.length; i++) {\n      var url = css_urls[i];\n      const element = document.createElement(\"link\");\n      element.onload = on_load;\n      element.onerror = on_error;\n      element.rel = \"stylesheet\";\n      element.type = \"text/css\";\n      element.href = url;\n      console.debug(\"Bokeh: injecting link tag for BokehJS stylesheet: \", url);\n      document.body.appendChild(element);\n    }\n\n    const hashes = {\"https://cdn.bokeh.org/bokeh/release/bokeh-2.0.2.min.js\": \"ufR9RFnRs6lniiaFvtJziE0YeidtAgBRH6ux2oUItHw5WTvE1zuk9uzhUU/FJXDp\", \"https://cdn.bokeh.org/bokeh/release/bokeh-widgets-2.0.2.min.js\": \"8QM/PGWBT+IssZuRcDcjzwIh1mkOmJSoNMmyYDZbCfXJg3Ap1lEvdVgFuSAwhb/J\", \"https://cdn.bokeh.org/bokeh/release/bokeh-tables-2.0.2.min.js\": \"Jm8cH3Rg0P6UeZhVY5cLy1WzKajUT9KImCY+76hEqrcJt59/d8GPvFHjCkYgnSIn\", \"https://cdn.bokeh.org/bokeh/release/bokeh-gl-2.0.2.min.js\": \"Ozhzj+SI7ywm74aOI/UajcWz+C0NjsPunEVyVIrxzYkB+jA+2tUw8x5xJCbVtK5I\"};\n\n    for (var i = 0; i < js_urls.length; i++) {\n      var url = js_urls[i];\n      var element = document.createElement('script');\n      element.onload = on_load;\n      element.onerror = on_error;\n      element.async = false;\n      element.src = url;\n      if (url in hashes) {\n        element.crossOrigin = \"anonymous\";\n        element.integrity = \"sha384-\" + hashes[url];\n      }\n      console.debug(\"Bokeh: injecting script tag for BokehJS library: \", url);\n      document.head.appendChild(element);\n    }\n  };\n\n  function inject_raw_css(css) {\n    const element = document.createElement(\"style\");\n    element.appendChild(document.createTextNode(css));\n    document.body.appendChild(element);\n  }\n\n  \n  var js_urls = [\"https://cdn.bokeh.org/bokeh/release/bokeh-2.0.2.min.js\", \"https://cdn.bokeh.org/bokeh/release/bokeh-widgets-2.0.2.min.js\", \"https://cdn.bokeh.org/bokeh/release/bokeh-tables-2.0.2.min.js\", \"https://cdn.bokeh.org/bokeh/release/bokeh-gl-2.0.2.min.js\"];\n  var css_urls = [];\n  \n\n  var inline_js = [\n    function(Bokeh) {\n      Bokeh.set_log_level(\"info\");\n    },\n    function(Bokeh) {\n    \n    \n    }\n  ];\n\n  function run_inline_js() {\n    \n    if (root.Bokeh !== undefined || force === true) {\n      \n    for (var i = 0; i < inline_js.length; i++) {\n      inline_js[i].call(root, root.Bokeh);\n    }\n    if (force === true) {\n        display_loaded();\n      }} else if (Date.now() < root._bokeh_timeout) {\n      setTimeout(run_inline_js, 100);\n    } else if (!root._bokeh_failed_load) {\n      console.log(\"Bokeh: BokehJS failed to load within specified timeout.\");\n      root._bokeh_failed_load = true;\n    } else if (force !== true) {\n      var cell = $(document.getElementById(\"4847\")).parents('.cell').data().cell;\n      cell.output_area.append_execute_result(NB_LOAD_WARNING)\n    }\n\n  }\n\n  if (root._bokeh_is_loading === 0) {\n    console.debug(\"Bokeh: BokehJS loaded, going straight to plotting\");\n    run_inline_js();\n  } else {\n    load_libs(css_urls, js_urls, function() {\n      console.debug(\"Bokeh: BokehJS plotting callback run at\", now());\n      run_inline_js();\n    });\n  }\n}(window));"
     },
     "metadata": {}
    },
    {
     "output_type": "display_data",
     "data": {
      "text/html": "\n\n\n\n\n\n  <div class=\"bk-root\" id=\"f8083971-ec7d-4d38-93ee-2194eb8acb19\" data-root-id=\"4848\"></div>\n"
     },
     "metadata": {}
    },
    {
     "output_type": "display_data",
     "data": {
      "application/javascript": "(function(root) {\n  function embed_document(root) {\n    \n  var docs_json = {\"18ad4ad9-9f8d-4df4-a201-58d42ca20789\":{\"roots\":{\"references\":[{\"attributes\":{\"below\":[{\"id\":\"4857\"}],\"center\":[{\"id\":\"4860\"},{\"id\":\"4864\"}],\"left\":[{\"id\":\"4861\"}],\"plot_height\":400,\"plot_width\":400,\"renderers\":[{\"id\":\"4882\"},{\"id\":\"4887\"}],\"title\":{\"id\":\"4901\"},\"toolbar\":{\"id\":\"4872\"},\"x_range\":{\"id\":\"4849\"},\"x_scale\":{\"id\":\"4853\"},\"y_range\":{\"id\":\"4851\"},\"y_scale\":{\"id\":\"4855\"}},\"id\":\"4848\",\"subtype\":\"Figure\",\"type\":\"Plot\"},{\"attributes\":{},\"id\":\"4908\",\"type\":\"Selection\"},{\"attributes\":{},\"id\":\"4870\",\"type\":\"HelpTool\"},{\"attributes\":{\"data_source\":{\"id\":\"4879\"},\"glyph\":{\"id\":\"4880\"},\"hover_glyph\":null,\"muted_glyph\":null,\"nonselection_glyph\":{\"id\":\"4881\"},\"selection_glyph\":null,\"view\":{\"id\":\"4883\"}},\"id\":\"4882\",\"type\":\"GlyphRenderer\"},{\"attributes\":{\"formatter\":{\"id\":\"4905\"},\"ticker\":{\"id\":\"4862\"}},\"id\":\"4861\",\"type\":\"LinearAxis\"},{\"attributes\":{\"axis\":{\"id\":\"4857\"},\"ticker\":null},\"id\":\"4860\",\"type\":\"Grid\"},{\"attributes\":{\"active_drag\":\"auto\",\"active_inspect\":\"auto\",\"active_multi\":null,\"active_scroll\":\"auto\",\"active_tap\":\"auto\",\"tools\":[{\"id\":\"4865\"},{\"id\":\"4866\"},{\"id\":\"4867\"},{\"id\":\"4868\"},{\"id\":\"4869\"},{\"id\":\"4870\"}]},\"id\":\"4872\",\"type\":\"Toolbar\"},{\"attributes\":{},\"id\":\"4909\",\"type\":\"UnionRenderers\"},{\"attributes\":{},\"id\":\"4868\",\"type\":\"SaveTool\"},{\"attributes\":{\"data\":{\"x\":[1,2],\"y\":[6,7]},\"selected\":{\"id\":\"4908\"},\"selection_policy\":{\"id\":\"4907\"}},\"id\":\"4879\",\"type\":\"ColumnDataSource\"},{\"attributes\":{\"source\":{\"id\":\"4884\"}},\"id\":\"4888\",\"type\":\"CDSView\"},{\"attributes\":{},\"id\":\"4849\",\"type\":\"DataRange1d\"},{\"attributes\":{},\"id\":\"4858\",\"type\":\"BasicTicker\"},{\"attributes\":{},\"id\":\"4903\",\"type\":\"BasicTickFormatter\"},{\"attributes\":{\"source\":{\"id\":\"4879\"}},\"id\":\"4883\",\"type\":\"CDSView\"},{\"attributes\":{\"bottom_units\":\"screen\",\"fill_alpha\":0.5,\"fill_color\":\"lightgrey\",\"left_units\":\"screen\",\"level\":\"overlay\",\"line_alpha\":1.0,\"line_color\":\"black\",\"line_dash\":[4,4],\"line_width\":2,\"render_mode\":\"css\",\"right_units\":\"screen\",\"top_units\":\"screen\"},\"id\":\"4871\",\"type\":\"BoxAnnotation\"},{\"attributes\":{},\"id\":\"4855\",\"type\":\"LinearScale\"},{\"attributes\":{},\"id\":\"4869\",\"type\":\"ResetTool\"},{\"attributes\":{},\"id\":\"4910\",\"type\":\"Selection\"},{\"attributes\":{\"formatter\":{\"id\":\"4903\"},\"ticker\":{\"id\":\"4858\"}},\"id\":\"4857\",\"type\":\"LinearAxis\"},{\"attributes\":{\"fill_alpha\":{\"value\":0.5},\"fill_color\":{\"value\":\"navy\"},\"line_alpha\":{\"value\":0.5},\"line_color\":{\"value\":\"navy\"},\"size\":{\"units\":\"screen\",\"value\":20},\"x\":{\"field\":\"x\"},\"y\":{\"field\":\"y\"}},\"id\":\"4880\",\"type\":\"CircleCross\"},{\"attributes\":{\"data\":{\"x\":[3,4,5],\"y\":[2,4,5]},\"selected\":{\"id\":\"4910\"},\"selection_policy\":{\"id\":\"4909\"}},\"id\":\"4884\",\"type\":\"ColumnDataSource\"},{\"attributes\":{\"fill_alpha\":{\"value\":0.1},\"fill_color\":{\"value\":\"red\"},\"line_alpha\":{\"value\":0.1},\"line_color\":{\"value\":\"red\"},\"size\":{\"units\":\"screen\",\"value\":10},\"x\":{\"field\":\"x\"},\"y\":{\"field\":\"y\"}},\"id\":\"4886\",\"type\":\"Dash\"},{\"attributes\":{\"axis\":{\"id\":\"4861\"},\"dimension\":1,\"ticker\":null},\"id\":\"4864\",\"type\":\"Grid\"},{\"attributes\":{\"fill_alpha\":{\"value\":0.1},\"fill_color\":{\"value\":\"navy\"},\"line_alpha\":{\"value\":0.1},\"line_color\":{\"value\":\"navy\"},\"size\":{\"units\":\"screen\",\"value\":20},\"x\":{\"field\":\"x\"},\"y\":{\"field\":\"y\"}},\"id\":\"4881\",\"type\":\"CircleCross\"},{\"attributes\":{\"text\":\"\"},\"id\":\"4901\",\"type\":\"Title\"},{\"attributes\":{},\"id\":\"4851\",\"type\":\"DataRange1d\"},{\"attributes\":{},\"id\":\"4866\",\"type\":\"WheelZoomTool\"},{\"attributes\":{\"fill_alpha\":{\"value\":0.5},\"fill_color\":{\"value\":\"red\"},\"line_alpha\":{\"value\":0.5},\"line_color\":{\"value\":\"red\"},\"size\":{\"units\":\"screen\",\"value\":10},\"x\":{\"field\":\"x\"},\"y\":{\"field\":\"y\"}},\"id\":\"4885\",\"type\":\"Dash\"},{\"attributes\":{\"overlay\":{\"id\":\"4871\"}},\"id\":\"4867\",\"type\":\"BoxZoomTool\"},{\"attributes\":{},\"id\":\"4862\",\"type\":\"BasicTicker\"},{\"attributes\":{},\"id\":\"4853\",\"type\":\"LinearScale\"},{\"attributes\":{},\"id\":\"4865\",\"type\":\"PanTool\"},{\"attributes\":{},\"id\":\"4905\",\"type\":\"BasicTickFormatter\"},{\"attributes\":{},\"id\":\"4907\",\"type\":\"UnionRenderers\"},{\"attributes\":{\"data_source\":{\"id\":\"4884\"},\"glyph\":{\"id\":\"4885\"},\"hover_glyph\":null,\"muted_glyph\":null,\"nonselection_glyph\":{\"id\":\"4886\"},\"selection_glyph\":null,\"view\":{\"id\":\"4888\"}},\"id\":\"4887\",\"type\":\"GlyphRenderer\"}],\"root_ids\":[\"4848\"]},\"title\":\"Bokeh Application\",\"version\":\"2.0.2\"}};\n  var render_items = [{\"docid\":\"18ad4ad9-9f8d-4df4-a201-58d42ca20789\",\"notebook_comms_target\":\"4911\",\"root_ids\":[\"4848\"],\"roots\":{\"4848\":\"f8083971-ec7d-4d38-93ee-2194eb8acb19\"}}];\n  root.Bokeh.embed.embed_items_notebook(docs_json, render_items);\n\n  }\n  if (root.Bokeh !== undefined) {\n    embed_document(root);\n  } else {\n    var attempts = 0;\n    var timer = setInterval(function(root) {\n      if (root.Bokeh !== undefined) {\n        clearInterval(timer);\n        embed_document(root);\n      } else {\n        attempts++;\n        if (attempts > 100) {\n          clearInterval(timer);\n          console.log(\"Bokeh: ERROR: Unable to run BokehJS code because BokehJS library is missing\");\n        }\n      }\n    }, 10, root)\n  }\n})(window);",
      "application/vnd.bokehjs_exec.v0+json": ""
     },
     "metadata": {
      "application/vnd.bokehjs_exec.v0+json": {
       "id": "4848"
      }
     }
    },
    {
     "output_type": "execute_result",
     "data": {
      "text/plain": "<bokeh.io.notebook.CommsHandle at 0x223324673c8>",
      "text/html": "<p><code>&lt;Bokeh Notebook handle for <strong>In[27]</strong>&gt;</code></p>"
     },
     "metadata": {},
     "execution_count": 27
    }
   ],
   "source": [
    "from bokeh.plotting import figure,  show\n",
    "from bokeh.io import output_notebook, push_notebook\n",
    "\n",
    "output_notebook()\n",
    "p = figure(plot_width = 400, plot_height = 400)#set the size of the figure\n",
    "\n",
    "p.circle_cross([1,2,], [6,7], size = 20, color = 'navy', alpha = 0.5)#plot circles\n",
    "\n",
    "p.dash([3,4,5], [2,4,5], size = 10, color = 'red', alpha = 0.5)#plot squares\n",
    "\n",
    "show(p, notebook_handle=True)"
   ]
  },
  {
   "cell_type": "markdown",
   "metadata": {},
   "source": [
    "- 绘制直线\n",
    "\n",
    "为了更好地展示绘制直线的效果，我们使用已有数据集`covid19.csv`来进行描述，并提取其中的安徽省的日感染数据进行分析。首先需要使用`pandas`对数据进行清洗。"
   ]
  },
  {
   "cell_type": "code",
   "execution_count": 28,
   "metadata": {},
   "outputs": [],
   "source": [
    "import pandas as pd \n",
    "import numpy as np \n",
    "from datetime import datetime\n",
    "ncov = pd.read_csv('covid19.csv')\n",
    "ncov['Observation Date'] = pd.to_datetime(ncov['Observation Date'], format = '%d-%m-%Y')\n",
    "ahncov = ncov[ncov['Province/State'] == 'Anhui']\n",
    "ahconfirmed = ahncov.Confirmed\n",
    "ahdate = np.arange(0,54)"
   ]
  },
  {
   "cell_type": "code",
   "execution_count": 29,
   "metadata": {},
   "outputs": [
    {
     "output_type": "display_data",
     "data": {
      "text/html": "\n\n\n\n\n\n  <div class=\"bk-root\" id=\"f43cce9e-8cbf-42da-8af5-6046d8f6942b\" data-root-id=\"4978\"></div>\n"
     },
     "metadata": {}
    },
    {
     "output_type": "display_data",
     "data": {
      "application/javascript": "(function(root) {\n  function embed_document(root) {\n    \n  var docs_json = {\"6cfd19de-4ccd-4de0-9486-bf29333a75d6\":{\"roots\":{\"references\":[{\"attributes\":{\"below\":[{\"id\":\"4987\"}],\"center\":[{\"id\":\"4990\"},{\"id\":\"4994\"}],\"left\":[{\"id\":\"4991\"}],\"plot_height\":400,\"plot_width\":400,\"renderers\":[{\"id\":\"5012\"}],\"title\":{\"id\":\"5037\"},\"toolbar\":{\"id\":\"5002\"},\"x_range\":{\"id\":\"4979\"},\"x_scale\":{\"id\":\"4983\"},\"y_range\":{\"id\":\"4981\"},\"y_scale\":{\"id\":\"4985\"}},\"id\":\"4978\",\"subtype\":\"Figure\",\"type\":\"Plot\"},{\"attributes\":{\"axis\":{\"id\":\"4991\"},\"dimension\":1,\"ticker\":null},\"id\":\"4994\",\"type\":\"Grid\"},{\"attributes\":{\"bottom_units\":\"screen\",\"fill_alpha\":0.5,\"fill_color\":\"lightgrey\",\"left_units\":\"screen\",\"level\":\"overlay\",\"line_alpha\":1.0,\"line_color\":\"black\",\"line_dash\":[4,4],\"line_width\":2,\"render_mode\":\"css\",\"right_units\":\"screen\",\"top_units\":\"screen\"},\"id\":\"5001\",\"type\":\"BoxAnnotation\"},{\"attributes\":{\"line_alpha\":0.1,\"line_color\":\"#1f77b4\",\"line_width\":2,\"x\":{\"field\":\"x\"},\"y\":{\"field\":\"y\"}},\"id\":\"5011\",\"type\":\"Line\"},{\"attributes\":{},\"id\":\"4981\",\"type\":\"DataRange1d\"},{\"attributes\":{},\"id\":\"4983\",\"type\":\"LinearScale\"},{\"attributes\":{\"line_color\":\"#1f77b4\",\"line_width\":2,\"x\":{\"field\":\"x\"},\"y\":{\"field\":\"y\"}},\"id\":\"5010\",\"type\":\"Line\"},{\"attributes\":{},\"id\":\"4995\",\"type\":\"PanTool\"},{\"attributes\":{\"data\":{\"x\":{\"__ndarray__\":\"AAAAAAEAAAACAAAAAwAAAAQAAAAFAAAABgAAAAcAAAAIAAAACQAAAAoAAAALAAAADAAAAA0AAAAOAAAADwAAABAAAAARAAAAEgAAABMAAAAUAAAAFQAAABYAAAAXAAAAGAAAABkAAAAaAAAAGwAAABwAAAAdAAAAHgAAAB8AAAAgAAAAIQAAACIAAAAjAAAAJAAAACUAAAAmAAAAJwAAACgAAAApAAAAKgAAACsAAAAsAAAALQAAAC4AAAAvAAAAMAAAADEAAAAyAAAAMwAAADQAAAA1AAAA\",\"dtype\":\"int32\",\"shape\":[54]},\"y\":[1,9,15,39,60,70,106,152,200,237,297,340,408,480,530,591,665,733,779,830,860,889,910,934,950,962,973,982,986,987,988,989,989,989,989,989,989,990,990,990,990,990,990,990,990,990,990,990,990,990,990,990,990,990]},\"selected\":{\"id\":\"5044\"},\"selection_policy\":{\"id\":\"5043\"}},\"id\":\"5009\",\"type\":\"ColumnDataSource\"},{\"attributes\":{},\"id\":\"5000\",\"type\":\"HelpTool\"},{\"attributes\":{\"formatter\":{\"id\":\"5041\"},\"ticker\":{\"id\":\"4992\"}},\"id\":\"4991\",\"type\":\"LinearAxis\"},{\"attributes\":{},\"id\":\"4996\",\"type\":\"WheelZoomTool\"},{\"attributes\":{\"axis\":{\"id\":\"4987\"},\"ticker\":null},\"id\":\"4990\",\"type\":\"Grid\"},{\"attributes\":{\"source\":{\"id\":\"5009\"}},\"id\":\"5013\",\"type\":\"CDSView\"},{\"attributes\":{},\"id\":\"5044\",\"type\":\"Selection\"},{\"attributes\":{},\"id\":\"4999\",\"type\":\"ResetTool\"},{\"attributes\":{\"text\":\"\"},\"id\":\"5037\",\"type\":\"Title\"},{\"attributes\":{\"overlay\":{\"id\":\"5001\"}},\"id\":\"4997\",\"type\":\"BoxZoomTool\"},{\"attributes\":{},\"id\":\"4992\",\"type\":\"BasicTicker\"},{\"attributes\":{},\"id\":\"5043\",\"type\":\"UnionRenderers\"},{\"attributes\":{},\"id\":\"4979\",\"type\":\"DataRange1d\"},{\"attributes\":{},\"id\":\"4998\",\"type\":\"SaveTool\"},{\"attributes\":{},\"id\":\"5041\",\"type\":\"BasicTickFormatter\"},{\"attributes\":{\"active_drag\":\"auto\",\"active_inspect\":\"auto\",\"active_multi\":null,\"active_scroll\":\"auto\",\"active_tap\":\"auto\",\"tools\":[{\"id\":\"4995\"},{\"id\":\"4996\"},{\"id\":\"4997\"},{\"id\":\"4998\"},{\"id\":\"4999\"},{\"id\":\"5000\"}]},\"id\":\"5002\",\"type\":\"Toolbar\"},{\"attributes\":{\"data_source\":{\"id\":\"5009\"},\"glyph\":{\"id\":\"5010\"},\"hover_glyph\":null,\"muted_glyph\":null,\"nonselection_glyph\":{\"id\":\"5011\"},\"selection_glyph\":null,\"view\":{\"id\":\"5013\"}},\"id\":\"5012\",\"type\":\"GlyphRenderer\"},{\"attributes\":{\"formatter\":{\"id\":\"5039\"},\"ticker\":{\"id\":\"4988\"}},\"id\":\"4987\",\"type\":\"LinearAxis\"},{\"attributes\":{},\"id\":\"4985\",\"type\":\"LinearScale\"},{\"attributes\":{},\"id\":\"5039\",\"type\":\"BasicTickFormatter\"},{\"attributes\":{},\"id\":\"4988\",\"type\":\"BasicTicker\"}],\"root_ids\":[\"4978\"]},\"title\":\"Bokeh Application\",\"version\":\"2.0.2\"}};\n  var render_items = [{\"docid\":\"6cfd19de-4ccd-4de0-9486-bf29333a75d6\",\"notebook_comms_target\":\"5045\",\"root_ids\":[\"4978\"],\"roots\":{\"4978\":\"f43cce9e-8cbf-42da-8af5-6046d8f6942b\"}}];\n  root.Bokeh.embed.embed_items_notebook(docs_json, render_items);\n\n  }\n  if (root.Bokeh !== undefined) {\n    embed_document(root);\n  } else {\n    var attempts = 0;\n    var timer = setInterval(function(root) {\n      if (root.Bokeh !== undefined) {\n        clearInterval(timer);\n        embed_document(root);\n      } else {\n        attempts++;\n        if (attempts > 100) {\n          clearInterval(timer);\n          console.log(\"Bokeh: ERROR: Unable to run BokehJS code because BokehJS library is missing\");\n        }\n      }\n    }, 10, root)\n  }\n})(window);",
      "application/vnd.bokehjs_exec.v0+json": ""
     },
     "metadata": {
      "application/vnd.bokehjs_exec.v0+json": {
       "id": "4978"
      }
     }
    },
    {
     "output_type": "execute_result",
     "data": {
      "text/plain": "<bokeh.io.notebook.CommsHandle at 0x223326b1e08>",
      "text/html": "<p><code>&lt;Bokeh Notebook handle for <strong>In[29]</strong>&gt;</code></p>"
     },
     "metadata": {},
     "execution_count": 29
    }
   ],
   "source": [
    "p = figure(plot_width = 400, plot_height = 400)\n",
    "\n",
    "p.line(ahdate, ahconfirmed, line_width = 2)\n",
    "\n",
    "show(p, notebook_handle=True)"
   ]
  },
  {
   "cell_type": "markdown",
   "metadata": {},
   "source": [
    "- 绘制阶梯状的直线\n",
    "\n",
    "这种作图在生存分析与医学统计学中非常常见，可以清楚地描述出某一天的具体的增加程度。"
   ]
  },
  {
   "cell_type": "code",
   "execution_count": 30,
   "metadata": {},
   "outputs": [
    {
     "output_type": "display_data",
     "data": {
      "text/html": "\n\n\n\n\n\n  <div class=\"bk-root\" id=\"861c046e-1cc9-4141-b2cc-42ead6ee2e07\" data-root-id=\"5100\"></div>\n"
     },
     "metadata": {}
    },
    {
     "output_type": "display_data",
     "data": {
      "application/javascript": "(function(root) {\n  function embed_document(root) {\n    \n  var docs_json = {\"b5100a88-8866-4747-ba18-8e7d6f75439f\":{\"roots\":{\"references\":[{\"attributes\":{\"below\":[{\"id\":\"5109\"}],\"center\":[{\"id\":\"5112\"},{\"id\":\"5116\"}],\"left\":[{\"id\":\"5113\"}],\"plot_height\":400,\"plot_width\":400,\"renderers\":[{\"id\":\"5134\"}],\"title\":{\"id\":\"5168\"},\"toolbar\":{\"id\":\"5124\"},\"x_range\":{\"id\":\"5101\"},\"x_scale\":{\"id\":\"5105\"},\"y_range\":{\"id\":\"5103\"},\"y_scale\":{\"id\":\"5107\"}},\"id\":\"5100\",\"subtype\":\"Figure\",\"type\":\"Plot\"},{\"attributes\":{},\"id\":\"5175\",\"type\":\"Selection\"},{\"attributes\":{\"axis\":{\"id\":\"5113\"},\"dimension\":1,\"ticker\":null},\"id\":\"5116\",\"type\":\"Grid\"},{\"attributes\":{},\"id\":\"5120\",\"type\":\"SaveTool\"},{\"attributes\":{},\"id\":\"5105\",\"type\":\"LinearScale\"},{\"attributes\":{},\"id\":\"5117\",\"type\":\"PanTool\"},{\"attributes\":{\"active_drag\":\"auto\",\"active_inspect\":\"auto\",\"active_multi\":null,\"active_scroll\":\"auto\",\"active_tap\":\"auto\",\"tools\":[{\"id\":\"5117\"},{\"id\":\"5118\"},{\"id\":\"5119\"},{\"id\":\"5120\"},{\"id\":\"5121\"},{\"id\":\"5122\"}]},\"id\":\"5124\",\"type\":\"Toolbar\"},{\"attributes\":{\"text\":\"\"},\"id\":\"5168\",\"type\":\"Title\"},{\"attributes\":{},\"id\":\"5114\",\"type\":\"BasicTicker\"},{\"attributes\":{},\"id\":\"5118\",\"type\":\"WheelZoomTool\"},{\"attributes\":{\"line_color\":{\"value\":\"#1f77b4\"},\"line_width\":{\"value\":2},\"mode\":\"center\",\"x\":{\"field\":\"x\"},\"y\":{\"field\":\"y\"}},\"id\":\"5132\",\"type\":\"Step\"},{\"attributes\":{\"formatter\":{\"id\":\"5172\"},\"ticker\":{\"id\":\"5114\"}},\"id\":\"5113\",\"type\":\"LinearAxis\"},{\"attributes\":{},\"id\":\"5110\",\"type\":\"BasicTicker\"},{\"attributes\":{\"data_source\":{\"id\":\"5131\"},\"glyph\":{\"id\":\"5132\"},\"hover_glyph\":null,\"muted_glyph\":null,\"nonselection_glyph\":{\"id\":\"5133\"},\"selection_glyph\":null,\"view\":{\"id\":\"5135\"}},\"id\":\"5134\",\"type\":\"GlyphRenderer\"},{\"attributes\":{},\"id\":\"5121\",\"type\":\"ResetTool\"},{\"attributes\":{},\"id\":\"5172\",\"type\":\"BasicTickFormatter\"},{\"attributes\":{},\"id\":\"5107\",\"type\":\"LinearScale\"},{\"attributes\":{\"formatter\":{\"id\":\"5170\"},\"ticker\":{\"id\":\"5110\"}},\"id\":\"5109\",\"type\":\"LinearAxis\"},{\"attributes\":{\"axis\":{\"id\":\"5109\"},\"ticker\":null},\"id\":\"5112\",\"type\":\"Grid\"},{\"attributes\":{\"line_alpha\":{\"value\":0.1},\"line_color\":{\"value\":\"#1f77b4\"},\"line_width\":{\"value\":2},\"mode\":\"center\",\"x\":{\"field\":\"x\"},\"y\":{\"field\":\"y\"}},\"id\":\"5133\",\"type\":\"Step\"},{\"attributes\":{},\"id\":\"5103\",\"type\":\"DataRange1d\"},{\"attributes\":{\"source\":{\"id\":\"5131\"}},\"id\":\"5135\",\"type\":\"CDSView\"},{\"attributes\":{},\"id\":\"5174\",\"type\":\"UnionRenderers\"},{\"attributes\":{\"bottom_units\":\"screen\",\"fill_alpha\":0.5,\"fill_color\":\"lightgrey\",\"left_units\":\"screen\",\"level\":\"overlay\",\"line_alpha\":1.0,\"line_color\":\"black\",\"line_dash\":[4,4],\"line_width\":2,\"render_mode\":\"css\",\"right_units\":\"screen\",\"top_units\":\"screen\"},\"id\":\"5123\",\"type\":\"BoxAnnotation\"},{\"attributes\":{},\"id\":\"5170\",\"type\":\"BasicTickFormatter\"},{\"attributes\":{},\"id\":\"5101\",\"type\":\"DataRange1d\"},{\"attributes\":{},\"id\":\"5122\",\"type\":\"HelpTool\"},{\"attributes\":{\"data\":{\"x\":{\"__ndarray__\":\"AAAAAAEAAAACAAAAAwAAAAQAAAAFAAAABgAAAAcAAAAIAAAACQAAAAoAAAALAAAADAAAAA0AAAAOAAAADwAAABAAAAARAAAAEgAAABMAAAAUAAAAFQAAABYAAAAXAAAAGAAAABkAAAAaAAAAGwAAABwAAAAdAAAAHgAAAB8AAAAgAAAAIQAAACIAAAAjAAAAJAAAACUAAAAmAAAAJwAAACgAAAApAAAAKgAAACsAAAAsAAAALQAAAC4AAAAvAAAAMAAAADEAAAAyAAAAMwAAADQAAAA1AAAA\",\"dtype\":\"int32\",\"shape\":[54]},\"y\":[1,9,15,39,60,70,106,152,200,237,297,340,408,480,530,591,665,733,779,830,860,889,910,934,950,962,973,982,986,987,988,989,989,989,989,989,989,990,990,990,990,990,990,990,990,990,990,990,990,990,990,990,990,990]},\"selected\":{\"id\":\"5175\"},\"selection_policy\":{\"id\":\"5174\"}},\"id\":\"5131\",\"type\":\"ColumnDataSource\"},{\"attributes\":{\"overlay\":{\"id\":\"5123\"}},\"id\":\"5119\",\"type\":\"BoxZoomTool\"}],\"root_ids\":[\"5100\"]},\"title\":\"Bokeh Application\",\"version\":\"2.0.2\"}};\n  var render_items = [{\"docid\":\"b5100a88-8866-4747-ba18-8e7d6f75439f\",\"notebook_comms_target\":\"5176\",\"root_ids\":[\"5100\"],\"roots\":{\"5100\":\"861c046e-1cc9-4141-b2cc-42ead6ee2e07\"}}];\n  root.Bokeh.embed.embed_items_notebook(docs_json, render_items);\n\n  }\n  if (root.Bokeh !== undefined) {\n    embed_document(root);\n  } else {\n    var attempts = 0;\n    var timer = setInterval(function(root) {\n      if (root.Bokeh !== undefined) {\n        clearInterval(timer);\n        embed_document(root);\n      } else {\n        attempts++;\n        if (attempts > 100) {\n          clearInterval(timer);\n          console.log(\"Bokeh: ERROR: Unable to run BokehJS code because BokehJS library is missing\");\n        }\n      }\n    }, 10, root)\n  }\n})(window);",
      "application/vnd.bokehjs_exec.v0+json": ""
     },
     "metadata": {
      "application/vnd.bokehjs_exec.v0+json": {
       "id": "5100"
      }
     }
    },
    {
     "output_type": "execute_result",
     "data": {
      "text/plain": "<bokeh.io.notebook.CommsHandle at 0x22332220348>",
      "text/html": "<p><code>&lt;Bokeh Notebook handle for <strong>In[30]</strong>&gt;</code></p>"
     },
     "metadata": {},
     "execution_count": 30
    }
   ],
   "source": [
    "p = figure(plot_width = 400, plot_height = 400)\n",
    "\n",
    "p.step(ahdate, ahconfirmed, line_width = 2, mode = 'center')\n",
    "\n",
    "show(p, notebook_handle=True)"
   ]
  },
  {
   "cell_type": "markdown",
   "metadata": {},
   "source": [
    "- 绘制多条曲线\n",
    "\n",
    "从`ncov`数据集中提取`Hubei`的数据，与`Anhui`进行对比。"
   ]
  },
  {
   "cell_type": "code",
   "execution_count": 31,
   "metadata": {},
   "outputs": [],
   "source": [
    "hbncov = ncov[ncov['Province/State'] == 'Hubei']\n",
    "hbconfirmed = hbncov.Confirmed"
   ]
  },
  {
   "cell_type": "code",
   "execution_count": 32,
   "metadata": {},
   "outputs": [
    {
     "output_type": "display_data",
     "data": {
      "text/html": "\n\n\n\n\n\n  <div class=\"bk-root\" id=\"64987c47-437f-4917-bcb7-09a869e13bd1\" data-root-id=\"5231\"></div>\n"
     },
     "metadata": {}
    },
    {
     "output_type": "display_data",
     "data": {
      "application/javascript": "(function(root) {\n  function embed_document(root) {\n    \n  var docs_json = {\"3fc0ed78-50c8-44bf-9b04-002c90c32d97\":{\"roots\":{\"references\":[{\"attributes\":{\"below\":[{\"id\":\"5240\"}],\"center\":[{\"id\":\"5243\"},{\"id\":\"5247\"}],\"left\":[{\"id\":\"5244\"}],\"plot_height\":400,\"plot_width\":400,\"renderers\":[{\"id\":\"5265\"}],\"title\":{\"id\":\"5308\"},\"toolbar\":{\"id\":\"5255\"},\"x_range\":{\"id\":\"5232\"},\"x_scale\":{\"id\":\"5236\"},\"y_range\":{\"id\":\"5234\"},\"y_scale\":{\"id\":\"5238\"}},\"id\":\"5231\",\"subtype\":\"Figure\",\"type\":\"Plot\"},{\"attributes\":{},\"id\":\"5314\",\"type\":\"UnionRenderers\"},{\"attributes\":{\"axis\":{\"id\":\"5240\"},\"ticker\":null},\"id\":\"5243\",\"type\":\"Grid\"},{\"attributes\":{\"active_drag\":\"auto\",\"active_inspect\":\"auto\",\"active_multi\":null,\"active_scroll\":\"auto\",\"active_tap\":\"auto\",\"tools\":[{\"id\":\"5248\"},{\"id\":\"5249\"},{\"id\":\"5250\"},{\"id\":\"5251\"},{\"id\":\"5252\"},{\"id\":\"5253\"}]},\"id\":\"5255\",\"type\":\"Toolbar\"},{\"attributes\":{\"line_alpha\":{\"value\":0.1},\"line_color\":{\"field\":\"line_color\"},\"line_width\":{\"value\":2},\"xs\":{\"field\":\"xs\"},\"ys\":{\"field\":\"ys\"}},\"id\":\"5264\",\"type\":\"MultiLine\"},{\"attributes\":{},\"id\":\"5241\",\"type\":\"BasicTicker\"},{\"attributes\":{},\"id\":\"5238\",\"type\":\"LinearScale\"},{\"attributes\":{},\"id\":\"5236\",\"type\":\"LinearScale\"},{\"attributes\":{\"axis\":{\"id\":\"5244\"},\"dimension\":1,\"ticker\":null},\"id\":\"5247\",\"type\":\"Grid\"},{\"attributes\":{},\"id\":\"5310\",\"type\":\"BasicTickFormatter\"},{\"attributes\":{\"formatter\":{\"id\":\"5310\"},\"ticker\":{\"id\":\"5241\"}},\"id\":\"5240\",\"type\":\"LinearAxis\"},{\"attributes\":{\"text\":\"\"},\"id\":\"5308\",\"type\":\"Title\"},{\"attributes\":{},\"id\":\"5312\",\"type\":\"BasicTickFormatter\"},{\"attributes\":{\"bottom_units\":\"screen\",\"fill_alpha\":0.5,\"fill_color\":\"lightgrey\",\"left_units\":\"screen\",\"level\":\"overlay\",\"line_alpha\":1.0,\"line_color\":\"black\",\"line_dash\":[4,4],\"line_width\":2,\"render_mode\":\"css\",\"right_units\":\"screen\",\"top_units\":\"screen\"},\"id\":\"5254\",\"type\":\"BoxAnnotation\"},{\"attributes\":{\"formatter\":{\"id\":\"5312\"},\"ticker\":{\"id\":\"5245\"}},\"id\":\"5244\",\"type\":\"LinearAxis\"},{\"attributes\":{},\"id\":\"5315\",\"type\":\"Selection\"},{\"attributes\":{},\"id\":\"5253\",\"type\":\"HelpTool\"},{\"attributes\":{},\"id\":\"5245\",\"type\":\"BasicTicker\"},{\"attributes\":{\"data_source\":{\"id\":\"5262\"},\"glyph\":{\"id\":\"5263\"},\"hover_glyph\":null,\"muted_glyph\":null,\"nonselection_glyph\":{\"id\":\"5264\"},\"selection_glyph\":null,\"view\":{\"id\":\"5266\"}},\"id\":\"5265\",\"type\":\"GlyphRenderer\"},{\"attributes\":{\"data\":{\"line_alpha\":[0.5,0.8],\"line_color\":[\"firebrick\",\"navy\"],\"xs\":[{\"__ndarray__\":\"AAAAAAEAAAACAAAAAwAAAAQAAAAFAAAABgAAAAcAAAAIAAAACQAAAAoAAAALAAAADAAAAA0AAAAOAAAADwAAABAAAAARAAAAEgAAABMAAAAUAAAAFQAAABYAAAAXAAAAGAAAABkAAAAaAAAAGwAAABwAAAAdAAAAHgAAAB8AAAAgAAAAIQAAACIAAAAjAAAAJAAAACUAAAAmAAAAJwAAACgAAAApAAAAKgAAACsAAAAsAAAALQAAAC4AAAAvAAAAMAAAADEAAAAyAAAAMwAAADQAAAA1AAAA\",\"dtype\":\"int32\",\"shape\":[54]},{\"__ndarray__\":\"AAAAAAEAAAACAAAAAwAAAAQAAAAFAAAABgAAAAcAAAAIAAAACQAAAAoAAAALAAAADAAAAA0AAAAOAAAADwAAABAAAAARAAAAEgAAABMAAAAUAAAAFQAAABYAAAAXAAAAGAAAABkAAAAaAAAAGwAAABwAAAAdAAAAHgAAAB8AAAAgAAAAIQAAACIAAAAjAAAAJAAAACUAAAAmAAAAJwAAACgAAAApAAAAKgAAACsAAAAsAAAALQAAAC4AAAAvAAAAMAAAADEAAAAyAAAAMwAAADQAAAA1AAAA\",\"dtype\":\"int32\",\"shape\":[54]}],\"ys\":[[1,9,15,39,60,70,106,152,200,237,297,340,408,480,530,591,665,733,779,830,860,889,910,934,950,962,973,982,986,987,988,989,989,989,989,989,989,990,990,990,990,990,990,990,990,990,990,990,990,990,990,990,990,990],[444,444,549,761,1058,1423,3554,3554,4903,5806,7153,11177,13522,16678,19665,22112,24953,27100,29631,31728,33366,33366,48206,54406,56249,58182,59989,61682,62031,62442,62662,64084,64084,64287,64786,65187,65596,65914,66337,66907,67103,67217,67332,67466,67592,67666,67707,67743,67760,67773,67781,67786,67790,67794]]},\"selected\":{\"id\":\"5315\"},\"selection_policy\":{\"id\":\"5314\"}},\"id\":\"5262\",\"type\":\"ColumnDataSource\"},{\"attributes\":{\"source\":{\"id\":\"5262\"}},\"id\":\"5266\",\"type\":\"CDSView\"},{\"attributes\":{},\"id\":\"5252\",\"type\":\"ResetTool\"},{\"attributes\":{\"overlay\":{\"id\":\"5254\"}},\"id\":\"5250\",\"type\":\"BoxZoomTool\"},{\"attributes\":{},\"id\":\"5251\",\"type\":\"SaveTool\"},{\"attributes\":{},\"id\":\"5232\",\"type\":\"DataRange1d\"},{\"attributes\":{},\"id\":\"5249\",\"type\":\"WheelZoomTool\"},{\"attributes\":{},\"id\":\"5234\",\"type\":\"DataRange1d\"},{\"attributes\":{},\"id\":\"5248\",\"type\":\"PanTool\"},{\"attributes\":{\"line_alpha\":{\"field\":\"line_alpha\"},\"line_color\":{\"field\":\"line_color\"},\"line_width\":{\"value\":2},\"xs\":{\"field\":\"xs\"},\"ys\":{\"field\":\"ys\"}},\"id\":\"5263\",\"type\":\"MultiLine\"}],\"root_ids\":[\"5231\"]},\"title\":\"Bokeh Application\",\"version\":\"2.0.2\"}};\n  var render_items = [{\"docid\":\"3fc0ed78-50c8-44bf-9b04-002c90c32d97\",\"notebook_comms_target\":\"5316\",\"root_ids\":[\"5231\"],\"roots\":{\"5231\":\"64987c47-437f-4917-bcb7-09a869e13bd1\"}}];\n  root.Bokeh.embed.embed_items_notebook(docs_json, render_items);\n\n  }\n  if (root.Bokeh !== undefined) {\n    embed_document(root);\n  } else {\n    var attempts = 0;\n    var timer = setInterval(function(root) {\n      if (root.Bokeh !== undefined) {\n        clearInterval(timer);\n        embed_document(root);\n      } else {\n        attempts++;\n        if (attempts > 100) {\n          clearInterval(timer);\n          console.log(\"Bokeh: ERROR: Unable to run BokehJS code because BokehJS library is missing\");\n        }\n      }\n    }, 10, root)\n  }\n})(window);",
      "application/vnd.bokehjs_exec.v0+json": ""
     },
     "metadata": {
      "application/vnd.bokehjs_exec.v0+json": {
       "id": "5231"
      }
     }
    },
    {
     "output_type": "execute_result",
     "data": {
      "text/plain": "<bokeh.io.notebook.CommsHandle at 0x2231fe6fa48>",
      "text/html": "<p><code>&lt;Bokeh Notebook handle for <strong>In[32]</strong>&gt;</code></p>"
     },
     "metadata": {},
     "execution_count": 32
    }
   ],
   "source": [
    "p = figure(plot_width = 400, plot_height = 400)\n",
    "\n",
    "p.multi_line([ahdate, ahdate], [ahconfirmed, hbconfirmed], color = ['firebrick', 'navy'], alpha = [0.5,0.8], line_width = 2)\n",
    "\n",
    "show(p, notebook_handle = True)"
   ]
  },
  {
   "cell_type": "markdown",
   "metadata": {},
   "source": [
    "- 绘制叠加的曲线\n",
    "\n",
    "叠加的曲线与多条曲线有相通的地方。叠加的曲线，也就是对于每一个$x$点，$y_i$的值为$y_{i-1}+y_i$。\n",
    "\n",
    "**注意**： 虽然上面的绘图的对象类型可以为`List`, `Series`等，但是该案例中需要先使用`ColumnDataSource`合并所有数据。"
   ]
  },
  {
   "cell_type": "code",
   "execution_count": 33,
   "metadata": {},
   "outputs": [
    {
     "output_type": "display_data",
     "data": {
      "text/html": "\n\n\n\n\n\n  <div class=\"bk-root\" id=\"06e94c45-f501-4a92-89d6-8b28dc7eafad\" data-root-id=\"5372\"></div>\n"
     },
     "metadata": {}
    },
    {
     "output_type": "display_data",
     "data": {
      "application/javascript": "(function(root) {\n  function embed_document(root) {\n    \n  var docs_json = {\"59fa728d-cde6-4a05-bff9-af5d83bc9172\":{\"roots\":{\"references\":[{\"attributes\":{\"below\":[{\"id\":\"5381\"}],\"center\":[{\"id\":\"5384\"},{\"id\":\"5388\"}],\"left\":[{\"id\":\"5385\"}],\"plot_height\":400,\"plot_width\":400,\"renderers\":[{\"id\":\"5408\"},{\"id\":\"5413\"}],\"title\":{\"id\":\"5465\"},\"toolbar\":{\"id\":\"5396\"},\"x_range\":{\"id\":\"5373\"},\"x_scale\":{\"id\":\"5377\"},\"y_range\":{\"id\":\"5375\"},\"y_scale\":{\"id\":\"5379\"}},\"id\":\"5372\",\"subtype\":\"Figure\",\"type\":\"Plot\"},{\"attributes\":{\"formatter\":{\"id\":\"5469\"},\"ticker\":{\"id\":\"5386\"}},\"id\":\"5385\",\"type\":\"LinearAxis\"},{\"attributes\":{\"line_alpha\":0.1,\"line_color\":\"firebrick\",\"line_width\":2,\"x\":{\"field\":\"x\"},\"y\":{\"expr\":{\"id\":\"5403\"}}},\"id\":\"5407\",\"type\":\"Line\"},{\"attributes\":{},\"id\":\"5392\",\"type\":\"SaveTool\"},{\"attributes\":{},\"id\":\"5393\",\"type\":\"ResetTool\"},{\"attributes\":{},\"id\":\"5394\",\"type\":\"HelpTool\"},{\"attributes\":{},\"id\":\"5467\",\"type\":\"BasicTickFormatter\"},{\"attributes\":{},\"id\":\"5472\",\"type\":\"Selection\"},{\"attributes\":{\"source\":{\"id\":\"5371\"}},\"id\":\"5414\",\"type\":\"CDSView\"},{\"attributes\":{},\"id\":\"5373\",\"type\":\"DataRange1d\"},{\"attributes\":{\"text\":\"\"},\"id\":\"5465\",\"type\":\"Title\"},{\"attributes\":{\"source\":{\"id\":\"5371\"}},\"id\":\"5409\",\"type\":\"CDSView\"},{\"attributes\":{\"formatter\":{\"id\":\"5467\"},\"ticker\":{\"id\":\"5382\"}},\"id\":\"5381\",\"type\":\"LinearAxis\"},{\"attributes\":{},\"id\":\"5382\",\"type\":\"BasicTicker\"},{\"attributes\":{\"data\":{\"x\":{\"__ndarray__\":\"AAAAAAEAAAACAAAAAwAAAAQAAAAFAAAABgAAAAcAAAAIAAAACQAAAAoAAAALAAAADAAAAA0AAAAOAAAADwAAABAAAAARAAAAEgAAABMAAAAUAAAAFQAAABYAAAAXAAAAGAAAABkAAAAaAAAAGwAAABwAAAAdAAAAHgAAAB8AAAAgAAAAIQAAACIAAAAjAAAAJAAAACUAAAAmAAAAJwAAACgAAAApAAAAKgAAACsAAAAsAAAALQAAAC4AAAAvAAAAMAAAADEAAAAyAAAAMwAAADQAAAA1AAAA\",\"dtype\":\"int32\",\"shape\":[54]},\"y1\":[1,9,15,39,60,70,106,152,200,237,297,340,408,480,530,591,665,733,779,830,860,889,910,934,950,962,973,982,986,987,988,989,989,989,989,989,989,990,990,990,990,990,990,990,990,990,990,990,990,990,990,990,990,990],\"y2\":[444,444,549,761,1058,1423,3554,3554,4903,5806,7153,11177,13522,16678,19665,22112,24953,27100,29631,31728,33366,33366,48206,54406,56249,58182,59989,61682,62031,62442,62662,64084,64084,64287,64786,65187,65596,65914,66337,66907,67103,67217,67332,67466,67592,67666,67707,67743,67760,67773,67781,67786,67790,67794]},\"selected\":{\"id\":\"5472\"},\"selection_policy\":{\"id\":\"5471\"}},\"id\":\"5371\",\"type\":\"ColumnDataSource\"},{\"attributes\":{\"data_source\":{\"id\":\"5371\"},\"glyph\":{\"id\":\"5406\"},\"hover_glyph\":null,\"muted_glyph\":null,\"name\":\"y1\",\"nonselection_glyph\":{\"id\":\"5407\"},\"selection_glyph\":null,\"view\":{\"id\":\"5409\"}},\"id\":\"5408\",\"type\":\"GlyphRenderer\"},{\"attributes\":{},\"id\":\"5386\",\"type\":\"BasicTicker\"},{\"attributes\":{\"overlay\":{\"id\":\"5395\"}},\"id\":\"5391\",\"type\":\"BoxZoomTool\"},{\"attributes\":{\"line_alpha\":0.5,\"line_color\":\"firebrick\",\"line_width\":2,\"x\":{\"field\":\"x\"},\"y\":{\"expr\":{\"id\":\"5403\"}}},\"id\":\"5406\",\"type\":\"Line\"},{\"attributes\":{\"line_alpha\":0.1,\"line_color\":\"navy\",\"line_width\":2,\"x\":{\"field\":\"x\"},\"y\":{\"expr\":{\"id\":\"5404\"}}},\"id\":\"5412\",\"type\":\"Line\"},{\"attributes\":{},\"id\":\"5390\",\"type\":\"WheelZoomTool\"},{\"attributes\":{\"fields\":[\"y1\"]},\"id\":\"5403\",\"type\":\"Stack\"},{\"attributes\":{\"axis\":{\"id\":\"5381\"},\"ticker\":null},\"id\":\"5384\",\"type\":\"Grid\"},{\"attributes\":{},\"id\":\"5377\",\"type\":\"LinearScale\"},{\"attributes\":{},\"id\":\"5469\",\"type\":\"BasicTickFormatter\"},{\"attributes\":{\"bottom_units\":\"screen\",\"fill_alpha\":0.5,\"fill_color\":\"lightgrey\",\"left_units\":\"screen\",\"level\":\"overlay\",\"line_alpha\":1.0,\"line_color\":\"black\",\"line_dash\":[4,4],\"line_width\":2,\"render_mode\":\"css\",\"right_units\":\"screen\",\"top_units\":\"screen\"},\"id\":\"5395\",\"type\":\"BoxAnnotation\"},{\"attributes\":{\"fields\":[\"y1\",\"y2\"]},\"id\":\"5404\",\"type\":\"Stack\"},{\"attributes\":{\"data_source\":{\"id\":\"5371\"},\"glyph\":{\"id\":\"5411\"},\"hover_glyph\":null,\"muted_glyph\":null,\"name\":\"y2\",\"nonselection_glyph\":{\"id\":\"5412\"},\"selection_glyph\":null,\"view\":{\"id\":\"5414\"}},\"id\":\"5413\",\"type\":\"GlyphRenderer\"},{\"attributes\":{\"axis\":{\"id\":\"5385\"},\"dimension\":1,\"ticker\":null},\"id\":\"5388\",\"type\":\"Grid\"},{\"attributes\":{\"active_drag\":\"auto\",\"active_inspect\":\"auto\",\"active_multi\":null,\"active_scroll\":\"auto\",\"active_tap\":\"auto\",\"tools\":[{\"id\":\"5389\"},{\"id\":\"5390\"},{\"id\":\"5391\"},{\"id\":\"5392\"},{\"id\":\"5393\"},{\"id\":\"5394\"}]},\"id\":\"5396\",\"type\":\"Toolbar\"},{\"attributes\":{},\"id\":\"5389\",\"type\":\"PanTool\"},{\"attributes\":{},\"id\":\"5379\",\"type\":\"LinearScale\"},{\"attributes\":{\"line_alpha\":0.8,\"line_color\":\"navy\",\"line_width\":2,\"x\":{\"field\":\"x\"},\"y\":{\"expr\":{\"id\":\"5404\"}}},\"id\":\"5411\",\"type\":\"Line\"},{\"attributes\":{},\"id\":\"5471\",\"type\":\"UnionRenderers\"},{\"attributes\":{},\"id\":\"5375\",\"type\":\"DataRange1d\"}],\"root_ids\":[\"5372\"]},\"title\":\"Bokeh Application\",\"version\":\"2.0.2\"}};\n  var render_items = [{\"docid\":\"59fa728d-cde6-4a05-bff9-af5d83bc9172\",\"notebook_comms_target\":\"5473\",\"root_ids\":[\"5372\"],\"roots\":{\"5372\":\"06e94c45-f501-4a92-89d6-8b28dc7eafad\"}}];\n  root.Bokeh.embed.embed_items_notebook(docs_json, render_items);\n\n  }\n  if (root.Bokeh !== undefined) {\n    embed_document(root);\n  } else {\n    var attempts = 0;\n    var timer = setInterval(function(root) {\n      if (root.Bokeh !== undefined) {\n        clearInterval(timer);\n        embed_document(root);\n      } else {\n        attempts++;\n        if (attempts > 100) {\n          clearInterval(timer);\n          console.log(\"Bokeh: ERROR: Unable to run BokehJS code because BokehJS library is missing\");\n        }\n      }\n    }, 10, root)\n  }\n})(window);",
      "application/vnd.bokehjs_exec.v0+json": ""
     },
     "metadata": {
      "application/vnd.bokehjs_exec.v0+json": {
       "id": "5372"
      }
     }
    },
    {
     "output_type": "execute_result",
     "data": {
      "text/plain": "<bokeh.io.notebook.CommsHandle at 0x223326d4788>",
      "text/html": "<p><code>&lt;Bokeh Notebook handle for <strong>In[33]</strong>&gt;</code></p>"
     },
     "metadata": {},
     "execution_count": 33
    }
   ],
   "source": [
    "from bokeh.models import ColumnDataSource\n",
    "\n",
    "source = ColumnDataSource(data = dict(x = ahdate, y1 = ahconfirmed, y2 = hbconfirmed))\n",
    "\n",
    "p = figure(plot_width = 400, plot_height = 400)\n",
    "\n",
    "p.vline_stack(['y1', 'y2'], x = 'x', source = source, color = ['firebrick', 'navy'], alpha = [0.5,0.8], line_width = 2)\n",
    "\n",
    "show(p, notebook_handle=True)"
   ]
  },
  {
   "cell_type": "markdown",
   "metadata": {},
   "source": [
    "- 绘制条形"
   ]
  },
  {
   "cell_type": "code",
   "execution_count": 34,
   "metadata": {},
   "outputs": [
    {
     "output_type": "display_data",
     "data": {
      "text/html": "\n\n\n\n\n\n  <div class=\"bk-root\" id=\"6589dbcc-c91f-479d-b2a1-16513c790569\" data-root-id=\"5528\"></div>\n"
     },
     "metadata": {}
    },
    {
     "output_type": "display_data",
     "data": {
      "application/javascript": "(function(root) {\n  function embed_document(root) {\n    \n  var docs_json = {\"f3eefb06-6dda-4b34-8de5-52b5793c3d86\":{\"roots\":{\"references\":[{\"attributes\":{\"below\":[{\"id\":\"5537\"}],\"center\":[{\"id\":\"5540\"},{\"id\":\"5544\"}],\"left\":[{\"id\":\"5541\"}],\"plot_height\":400,\"plot_width\":400,\"renderers\":[{\"id\":\"5562\"}],\"title\":{\"id\":\"5623\"},\"toolbar\":{\"id\":\"5552\"},\"x_range\":{\"id\":\"5529\"},\"x_scale\":{\"id\":\"5533\"},\"y_range\":{\"id\":\"5531\"},\"y_scale\":{\"id\":\"5535\"}},\"id\":\"5528\",\"subtype\":\"Figure\",\"type\":\"Plot\"},{\"attributes\":{},\"id\":\"5529\",\"type\":\"DataRange1d\"},{\"attributes\":{\"text\":\"\"},\"id\":\"5623\",\"type\":\"Title\"},{\"attributes\":{\"fill_alpha\":{\"value\":0.1},\"fill_color\":{\"value\":\"#1f77b4\"},\"line_alpha\":{\"value\":0.1},\"line_color\":{\"value\":\"#1f77b4\"},\"top\":{\"field\":\"top\"},\"width\":{\"value\":0.5},\"x\":{\"field\":\"x\"}},\"id\":\"5561\",\"type\":\"VBar\"},{\"attributes\":{},\"id\":\"5625\",\"type\":\"BasicTickFormatter\"},{\"attributes\":{\"source\":{\"id\":\"5559\"}},\"id\":\"5563\",\"type\":\"CDSView\"},{\"attributes\":{\"data\":{\"top\":[1,2,3],\"x\":[1,2,3]},\"selected\":{\"id\":\"5630\"},\"selection_policy\":{\"id\":\"5629\"}},\"id\":\"5559\",\"type\":\"ColumnDataSource\"},{\"attributes\":{\"active_drag\":\"auto\",\"active_inspect\":\"auto\",\"active_multi\":null,\"active_scroll\":\"auto\",\"active_tap\":\"auto\",\"tools\":[{\"id\":\"5545\"},{\"id\":\"5546\"},{\"id\":\"5547\"},{\"id\":\"5548\"},{\"id\":\"5549\"},{\"id\":\"5550\"}]},\"id\":\"5552\",\"type\":\"Toolbar\"},{\"attributes\":{\"formatter\":{\"id\":\"5627\"},\"ticker\":{\"id\":\"5542\"}},\"id\":\"5541\",\"type\":\"LinearAxis\"},{\"attributes\":{},\"id\":\"5535\",\"type\":\"LinearScale\"},{\"attributes\":{\"formatter\":{\"id\":\"5625\"},\"ticker\":{\"id\":\"5538\"}},\"id\":\"5537\",\"type\":\"LinearAxis\"},{\"attributes\":{},\"id\":\"5546\",\"type\":\"WheelZoomTool\"},{\"attributes\":{},\"id\":\"5545\",\"type\":\"PanTool\"},{\"attributes\":{},\"id\":\"5549\",\"type\":\"ResetTool\"},{\"attributes\":{},\"id\":\"5538\",\"type\":\"BasicTicker\"},{\"attributes\":{},\"id\":\"5542\",\"type\":\"BasicTicker\"},{\"attributes\":{},\"id\":\"5630\",\"type\":\"Selection\"},{\"attributes\":{},\"id\":\"5550\",\"type\":\"HelpTool\"},{\"attributes\":{},\"id\":\"5629\",\"type\":\"UnionRenderers\"},{\"attributes\":{},\"id\":\"5627\",\"type\":\"BasicTickFormatter\"},{\"attributes\":{\"overlay\":{\"id\":\"5551\"}},\"id\":\"5547\",\"type\":\"BoxZoomTool\"},{\"attributes\":{},\"id\":\"5533\",\"type\":\"LinearScale\"},{\"attributes\":{\"fill_color\":{\"value\":\"#1f77b4\"},\"line_color\":{\"value\":\"#1f77b4\"},\"top\":{\"field\":\"top\"},\"width\":{\"value\":0.5},\"x\":{\"field\":\"x\"}},\"id\":\"5560\",\"type\":\"VBar\"},{\"attributes\":{\"bottom_units\":\"screen\",\"fill_alpha\":0.5,\"fill_color\":\"lightgrey\",\"left_units\":\"screen\",\"level\":\"overlay\",\"line_alpha\":1.0,\"line_color\":\"black\",\"line_dash\":[4,4],\"line_width\":2,\"render_mode\":\"css\",\"right_units\":\"screen\",\"top_units\":\"screen\"},\"id\":\"5551\",\"type\":\"BoxAnnotation\"},{\"attributes\":{\"axis\":{\"id\":\"5541\"},\"dimension\":1,\"ticker\":null},\"id\":\"5544\",\"type\":\"Grid\"},{\"attributes\":{\"axis\":{\"id\":\"5537\"},\"ticker\":null},\"id\":\"5540\",\"type\":\"Grid\"},{\"attributes\":{\"data_source\":{\"id\":\"5559\"},\"glyph\":{\"id\":\"5560\"},\"hover_glyph\":null,\"muted_glyph\":null,\"nonselection_glyph\":{\"id\":\"5561\"},\"selection_glyph\":null,\"view\":{\"id\":\"5563\"}},\"id\":\"5562\",\"type\":\"GlyphRenderer\"},{\"attributes\":{},\"id\":\"5548\",\"type\":\"SaveTool\"},{\"attributes\":{},\"id\":\"5531\",\"type\":\"DataRange1d\"}],\"root_ids\":[\"5528\"]},\"title\":\"Bokeh Application\",\"version\":\"2.0.2\"}};\n  var render_items = [{\"docid\":\"f3eefb06-6dda-4b34-8de5-52b5793c3d86\",\"notebook_comms_target\":\"5631\",\"root_ids\":[\"5528\"],\"roots\":{\"5528\":\"6589dbcc-c91f-479d-b2a1-16513c790569\"}}];\n  root.Bokeh.embed.embed_items_notebook(docs_json, render_items);\n\n  }\n  if (root.Bokeh !== undefined) {\n    embed_document(root);\n  } else {\n    var attempts = 0;\n    var timer = setInterval(function(root) {\n      if (root.Bokeh !== undefined) {\n        clearInterval(timer);\n        embed_document(root);\n      } else {\n        attempts++;\n        if (attempts > 100) {\n          clearInterval(timer);\n          console.log(\"Bokeh: ERROR: Unable to run BokehJS code because BokehJS library is missing\");\n        }\n      }\n    }, 10, root)\n  }\n})(window);",
      "application/vnd.bokehjs_exec.v0+json": ""
     },
     "metadata": {
      "application/vnd.bokehjs_exec.v0+json": {
       "id": "5528"
      }
     }
    },
    {
     "output_type": "execute_result",
     "data": {
      "text/plain": "<bokeh.io.notebook.CommsHandle at 0x223326ef8c8>",
      "text/html": "<p><code>&lt;Bokeh Notebook handle for <strong>In[34]</strong>&gt;</code></p>"
     },
     "metadata": {},
     "execution_count": 34
    }
   ],
   "source": [
    "from bokeh.plotting import figure, output_file, show\n",
    "\n",
    "p = figure(plot_width = 400, plot_height = 400)\n",
    "\n",
    "p.vbar(x = [1,2,3], width = 0.5, bottom = 0, top = [1,2,3])\n",
    "\n",
    "show(p, notebook_handle=True)"
   ]
  },
  {
   "cell_type": "markdown",
   "metadata": {},
   "source": [
    "同样的，对于横向的条形，只需要把`vbar`更改为`hbar`， x与top更改为y与right即可。对于一个层叠的条形，可以像上面层叠的曲线一样，首先创建一个基础的source对象，然后对source使用`hbar_stack`即可。"
   ]
  },
  {
   "cell_type": "markdown",
   "metadata": {},
   "source": [
    "- 绘制条状区域\n",
    "\n",
    "条状区域为两个序列之间的空白部分的填充。可以使用`harea`来绘制填充，或者使用`varea_stack`绘制叠加的区域。"
   ]
  },
  {
   "cell_type": "code",
   "execution_count": 35,
   "metadata": {},
   "outputs": [
    {
     "output_type": "display_data",
     "data": {
      "text/html": "\n\n\n\n\n\n  <div class=\"bk-root\" id=\"dfa3d8d4-0c2d-4a9a-91f1-2151bbcd92f7\" data-root-id=\"5686\"></div>\n"
     },
     "metadata": {}
    },
    {
     "output_type": "display_data",
     "data": {
      "application/javascript": "(function(root) {\n  function embed_document(root) {\n    \n  var docs_json = {\"aea3b819-b0e9-4b0e-9508-4b83d0d5b631\":{\"roots\":{\"references\":[{\"attributes\":{\"below\":[{\"id\":\"5695\"}],\"center\":[{\"id\":\"5698\"},{\"id\":\"5702\"}],\"left\":[{\"id\":\"5699\"}],\"plot_height\":400,\"plot_width\":400,\"renderers\":[{\"id\":\"5720\"}],\"title\":{\"id\":\"5790\"},\"toolbar\":{\"id\":\"5710\"},\"x_range\":{\"id\":\"5687\"},\"x_scale\":{\"id\":\"5691\"},\"y_range\":{\"id\":\"5689\"},\"y_scale\":{\"id\":\"5693\"}},\"id\":\"5686\",\"subtype\":\"Figure\",\"type\":\"Plot\"},{\"attributes\":{\"axis\":{\"id\":\"5695\"},\"ticker\":null},\"id\":\"5698\",\"type\":\"Grid\"},{\"attributes\":{},\"id\":\"5693\",\"type\":\"LinearScale\"},{\"attributes\":{},\"id\":\"5707\",\"type\":\"ResetTool\"},{\"attributes\":{\"bottom_units\":\"screen\",\"fill_alpha\":0.5,\"fill_color\":\"lightgrey\",\"left_units\":\"screen\",\"level\":\"overlay\",\"line_alpha\":1.0,\"line_color\":\"black\",\"line_dash\":[4,4],\"line_width\":2,\"render_mode\":\"css\",\"right_units\":\"screen\",\"top_units\":\"screen\"},\"id\":\"5709\",\"type\":\"BoxAnnotation\"},{\"attributes\":{},\"id\":\"5797\",\"type\":\"Selection\"},{\"attributes\":{},\"id\":\"5792\",\"type\":\"BasicTickFormatter\"},{\"attributes\":{},\"id\":\"5696\",\"type\":\"BasicTicker\"},{\"attributes\":{\"source\":{\"id\":\"5717\"}},\"id\":\"5721\",\"type\":\"CDSView\"},{\"attributes\":{\"formatter\":{\"id\":\"5794\"},\"ticker\":{\"id\":\"5700\"}},\"id\":\"5699\",\"type\":\"LinearAxis\"},{\"attributes\":{\"overlay\":{\"id\":\"5709\"}},\"id\":\"5705\",\"type\":\"BoxZoomTool\"},{\"attributes\":{},\"id\":\"5708\",\"type\":\"HelpTool\"},{\"attributes\":{\"fill_color\":\"#1f77b4\",\"x\":{\"field\":\"x\"},\"y1\":{\"field\":\"y1\"},\"y2\":{\"field\":\"y2\"}},\"id\":\"5718\",\"type\":\"VArea\"},{\"attributes\":{},\"id\":\"5689\",\"type\":\"DataRange1d\"},{\"attributes\":{},\"id\":\"5704\",\"type\":\"WheelZoomTool\"},{\"attributes\":{\"formatter\":{\"id\":\"5792\"},\"ticker\":{\"id\":\"5696\"}},\"id\":\"5695\",\"type\":\"LinearAxis\"},{\"attributes\":{\"active_drag\":\"auto\",\"active_inspect\":\"auto\",\"active_multi\":null,\"active_scroll\":\"auto\",\"active_tap\":\"auto\",\"tools\":[{\"id\":\"5703\"},{\"id\":\"5704\"},{\"id\":\"5705\"},{\"id\":\"5706\"},{\"id\":\"5707\"},{\"id\":\"5708\"}]},\"id\":\"5710\",\"type\":\"Toolbar\"},{\"attributes\":{\"axis\":{\"id\":\"5699\"},\"dimension\":1,\"ticker\":null},\"id\":\"5702\",\"type\":\"Grid\"},{\"attributes\":{},\"id\":\"5687\",\"type\":\"DataRange1d\"},{\"attributes\":{},\"id\":\"5700\",\"type\":\"BasicTicker\"},{\"attributes\":{},\"id\":\"5796\",\"type\":\"UnionRenderers\"},{\"attributes\":{\"fill_alpha\":0.1,\"fill_color\":\"#1f77b4\",\"x\":{\"field\":\"x\"},\"y1\":{\"field\":\"y1\"},\"y2\":{\"field\":\"y2\"}},\"id\":\"5719\",\"type\":\"VArea\"},{\"attributes\":{},\"id\":\"5691\",\"type\":\"LinearScale\"},{\"attributes\":{\"data_source\":{\"id\":\"5717\"},\"glyph\":{\"id\":\"5718\"},\"hover_glyph\":null,\"muted_glyph\":null,\"nonselection_glyph\":{\"id\":\"5719\"},\"selection_glyph\":null,\"view\":{\"id\":\"5721\"}},\"id\":\"5720\",\"type\":\"GlyphRenderer\"},{\"attributes\":{},\"id\":\"5706\",\"type\":\"SaveTool\"},{\"attributes\":{},\"id\":\"5703\",\"type\":\"PanTool\"},{\"attributes\":{\"data\":{\"x\":{\"__ndarray__\":\"AAAAAAEAAAACAAAAAwAAAAQAAAAFAAAABgAAAAcAAAAIAAAACQAAAAoAAAALAAAADAAAAA0AAAAOAAAADwAAABAAAAARAAAAEgAAABMAAAAUAAAAFQAAABYAAAAXAAAAGAAAABkAAAAaAAAAGwAAABwAAAAdAAAAHgAAAB8AAAAgAAAAIQAAACIAAAAjAAAAJAAAACUAAAAmAAAAJwAAACgAAAApAAAAKgAAACsAAAAsAAAALQAAAC4AAAAvAAAAMAAAADEAAAAyAAAAMwAAADQAAAA1AAAA\",\"dtype\":\"int32\",\"shape\":[54]},\"y1\":[1,9,15,39,60,70,106,152,200,237,297,340,408,480,530,591,665,733,779,830,860,889,910,934,950,962,973,982,986,987,988,989,989,989,989,989,989,990,990,990,990,990,990,990,990,990,990,990,990,990,990,990,990,990],\"y2\":[444,444,549,761,1058,1423,3554,3554,4903,5806,7153,11177,13522,16678,19665,22112,24953,27100,29631,31728,33366,33366,48206,54406,56249,58182,59989,61682,62031,62442,62662,64084,64084,64287,64786,65187,65596,65914,66337,66907,67103,67217,67332,67466,67592,67666,67707,67743,67760,67773,67781,67786,67790,67794]},\"selected\":{\"id\":\"5797\"},\"selection_policy\":{\"id\":\"5796\"}},\"id\":\"5717\",\"type\":\"ColumnDataSource\"},{\"attributes\":{},\"id\":\"5794\",\"type\":\"BasicTickFormatter\"},{\"attributes\":{\"text\":\"\"},\"id\":\"5790\",\"type\":\"Title\"}],\"root_ids\":[\"5686\"]},\"title\":\"Bokeh Application\",\"version\":\"2.0.2\"}};\n  var render_items = [{\"docid\":\"aea3b819-b0e9-4b0e-9508-4b83d0d5b631\",\"notebook_comms_target\":\"5798\",\"root_ids\":[\"5686\"],\"roots\":{\"5686\":\"dfa3d8d4-0c2d-4a9a-91f1-2151bbcd92f7\"}}];\n  root.Bokeh.embed.embed_items_notebook(docs_json, render_items);\n\n  }\n  if (root.Bokeh !== undefined) {\n    embed_document(root);\n  } else {\n    var attempts = 0;\n    var timer = setInterval(function(root) {\n      if (root.Bokeh !== undefined) {\n        clearInterval(timer);\n        embed_document(root);\n      } else {\n        attempts++;\n        if (attempts > 100) {\n          clearInterval(timer);\n          console.log(\"Bokeh: ERROR: Unable to run BokehJS code because BokehJS library is missing\");\n        }\n      }\n    }, 10, root)\n  }\n})(window);",
      "application/vnd.bokehjs_exec.v0+json": ""
     },
     "metadata": {
      "application/vnd.bokehjs_exec.v0+json": {
       "id": "5686"
      }
     }
    },
    {
     "output_type": "execute_result",
     "data": {
      "text/plain": "<bokeh.io.notebook.CommsHandle at 0x223326fc108>",
      "text/html": "<p><code>&lt;Bokeh Notebook handle for <strong>In[35]</strong>&gt;</code></p>"
     },
     "metadata": {},
     "execution_count": 35
    }
   ],
   "source": [
    "from bokeh.plotting import figure, output_file, show\n",
    "\n",
    "p = figure(plot_width = 400, plot_height = 400)\n",
    "\n",
    "p.varea(x = ahdate, y1 = ahconfirmed, y2 = hbconfirmed)\n",
    "\n",
    "show(p, notebook_handle=True)"
   ]
  },
  {
   "cell_type": "code",
   "execution_count": 36,
   "metadata": {},
   "outputs": [
    {
     "output_type": "display_data",
     "data": {
      "text/html": "\n\n\n\n\n\n  <div class=\"bk-root\" id=\"902d137d-06c8-4f19-80d4-37e9c3de427c\" data-root-id=\"5854\"></div>\n"
     },
     "metadata": {}
    },
    {
     "output_type": "display_data",
     "data": {
      "application/javascript": "(function(root) {\n  function embed_document(root) {\n    \n  var docs_json = {\"6e967e7d-88ba-499b-b15d-d9798b33d380\":{\"roots\":{\"references\":[{\"attributes\":{\"below\":[{\"id\":\"5863\"}],\"center\":[{\"id\":\"5866\"},{\"id\":\"5870\"}],\"left\":[{\"id\":\"5867\"}],\"plot_height\":400,\"plot_width\":400,\"renderers\":[{\"id\":\"5892\"},{\"id\":\"5897\"}],\"title\":{\"id\":\"5976\"},\"toolbar\":{\"id\":\"5878\"},\"x_range\":{\"id\":\"5855\"},\"x_scale\":{\"id\":\"5859\"},\"y_range\":{\"id\":\"5857\"},\"y_scale\":{\"id\":\"5861\"}},\"id\":\"5854\",\"subtype\":\"Figure\",\"type\":\"Plot\"},{\"attributes\":{\"fill_alpha\":0.1,\"fill_color\":\"lightgrey\",\"x\":{\"field\":\"x\"},\"y1\":{\"expr\":{\"id\":\"5887\"}},\"y2\":{\"expr\":{\"id\":\"5888\"}}},\"id\":\"5896\",\"type\":\"VArea\"},{\"attributes\":{},\"id\":\"5857\",\"type\":\"DataRange1d\"},{\"attributes\":{},\"id\":\"5876\",\"type\":\"HelpTool\"},{\"attributes\":{\"bottom_units\":\"screen\",\"fill_alpha\":0.5,\"fill_color\":\"lightgrey\",\"left_units\":\"screen\",\"level\":\"overlay\",\"line_alpha\":1.0,\"line_color\":\"black\",\"line_dash\":[4,4],\"line_width\":2,\"render_mode\":\"css\",\"right_units\":\"screen\",\"top_units\":\"screen\"},\"id\":\"5877\",\"type\":\"BoxAnnotation\"},{\"attributes\":{},\"id\":\"5875\",\"type\":\"ResetTool\"},{\"attributes\":{\"fill_color\":\"lightgrey\",\"x\":{\"field\":\"x\"},\"y1\":{\"expr\":{\"id\":\"5887\"}},\"y2\":{\"expr\":{\"id\":\"5888\"}}},\"id\":\"5895\",\"type\":\"VArea\"},{\"attributes\":{},\"id\":\"5868\",\"type\":\"BasicTicker\"},{\"attributes\":{\"overlay\":{\"id\":\"5877\"}},\"id\":\"5873\",\"type\":\"BoxZoomTool\"},{\"attributes\":{\"source\":{\"id\":\"5853\"}},\"id\":\"5898\",\"type\":\"CDSView\"},{\"attributes\":{\"formatter\":{\"id\":\"5980\"},\"ticker\":{\"id\":\"5868\"}},\"id\":\"5867\",\"type\":\"LinearAxis\"},{\"attributes\":{},\"id\":\"5859\",\"type\":\"LinearScale\"},{\"attributes\":{\"axis\":{\"id\":\"5863\"},\"ticker\":null},\"id\":\"5866\",\"type\":\"Grid\"},{\"attributes\":{\"text\":\"\"},\"id\":\"5976\",\"type\":\"Title\"},{\"attributes\":{},\"id\":\"5871\",\"type\":\"PanTool\"},{\"attributes\":{},\"id\":\"5980\",\"type\":\"BasicTickFormatter\"},{\"attributes\":{},\"id\":\"5861\",\"type\":\"LinearScale\"},{\"attributes\":{\"data\":{\"x\":{\"__ndarray__\":\"AAAAAAEAAAACAAAAAwAAAAQAAAAFAAAABgAAAAcAAAAIAAAACQAAAAoAAAALAAAADAAAAA0AAAAOAAAADwAAABAAAAARAAAAEgAAABMAAAAUAAAAFQAAABYAAAAXAAAAGAAAABkAAAAaAAAAGwAAABwAAAAdAAAAHgAAAB8AAAAgAAAAIQAAACIAAAAjAAAAJAAAACUAAAAmAAAAJwAAACgAAAApAAAAKgAAACsAAAAsAAAALQAAAC4AAAAvAAAAMAAAADEAAAAyAAAAMwAAADQAAAA1AAAA\",\"dtype\":\"int32\",\"shape\":[54]},\"y1\":[1,9,15,39,60,70,106,152,200,237,297,340,408,480,530,591,665,733,779,830,860,889,910,934,950,962,973,982,986,987,988,989,989,989,989,989,989,990,990,990,990,990,990,990,990,990,990,990,990,990,990,990,990,990],\"y2\":[444,444,549,761,1058,1423,3554,3554,4903,5806,7153,11177,13522,16678,19665,22112,24953,27100,29631,31728,33366,33366,48206,54406,56249,58182,59989,61682,62031,62442,62662,64084,64084,64287,64786,65187,65596,65914,66337,66907,67103,67217,67332,67466,67592,67666,67707,67743,67760,67773,67781,67786,67790,67794]},\"selected\":{\"id\":\"5983\"},\"selection_policy\":{\"id\":\"5982\"}},\"id\":\"5853\",\"type\":\"ColumnDataSource\"},{\"attributes\":{\"fields\":[]},\"id\":\"5885\",\"type\":\"Stack\"},{\"attributes\":{\"formatter\":{\"id\":\"5978\"},\"ticker\":{\"id\":\"5864\"}},\"id\":\"5863\",\"type\":\"LinearAxis\"},{\"attributes\":{\"source\":{\"id\":\"5853\"}},\"id\":\"5893\",\"type\":\"CDSView\"},{\"attributes\":{\"data_source\":{\"id\":\"5853\"},\"glyph\":{\"id\":\"5895\"},\"hover_glyph\":null,\"muted_glyph\":null,\"name\":\"y2\",\"nonselection_glyph\":{\"id\":\"5896\"},\"selection_glyph\":null,\"view\":{\"id\":\"5898\"}},\"id\":\"5897\",\"type\":\"GlyphRenderer\"},{\"attributes\":{\"fill_color\":\"grey\",\"x\":{\"field\":\"x\"},\"y1\":{\"expr\":{\"id\":\"5885\"}},\"y2\":{\"expr\":{\"id\":\"5886\"}}},\"id\":\"5890\",\"type\":\"VArea\"},{\"attributes\":{\"data_source\":{\"id\":\"5853\"},\"glyph\":{\"id\":\"5890\"},\"hover_glyph\":null,\"muted_glyph\":null,\"name\":\"y1\",\"nonselection_glyph\":{\"id\":\"5891\"},\"selection_glyph\":null,\"view\":{\"id\":\"5893\"}},\"id\":\"5892\",\"type\":\"GlyphRenderer\"},{\"attributes\":{\"active_drag\":\"auto\",\"active_inspect\":\"auto\",\"active_multi\":null,\"active_scroll\":\"auto\",\"active_tap\":\"auto\",\"tools\":[{\"id\":\"5871\"},{\"id\":\"5872\"},{\"id\":\"5873\"},{\"id\":\"5874\"},{\"id\":\"5875\"},{\"id\":\"5876\"}]},\"id\":\"5878\",\"type\":\"Toolbar\"},{\"attributes\":{},\"id\":\"5978\",\"type\":\"BasicTickFormatter\"},{\"attributes\":{\"fill_alpha\":0.1,\"fill_color\":\"grey\",\"x\":{\"field\":\"x\"},\"y1\":{\"expr\":{\"id\":\"5885\"}},\"y2\":{\"expr\":{\"id\":\"5886\"}}},\"id\":\"5891\",\"type\":\"VArea\"},{\"attributes\":{},\"id\":\"5874\",\"type\":\"SaveTool\"},{\"attributes\":{\"fields\":[\"y1\"]},\"id\":\"5886\",\"type\":\"Stack\"},{\"attributes\":{},\"id\":\"5982\",\"type\":\"UnionRenderers\"},{\"attributes\":{},\"id\":\"5983\",\"type\":\"Selection\"},{\"attributes\":{\"fields\":[\"y1\",\"y2\"]},\"id\":\"5888\",\"type\":\"Stack\"},{\"attributes\":{\"axis\":{\"id\":\"5867\"},\"dimension\":1,\"ticker\":null},\"id\":\"5870\",\"type\":\"Grid\"},{\"attributes\":{},\"id\":\"5855\",\"type\":\"DataRange1d\"},{\"attributes\":{},\"id\":\"5864\",\"type\":\"BasicTicker\"},{\"attributes\":{\"fields\":[\"y1\"]},\"id\":\"5887\",\"type\":\"Stack\"},{\"attributes\":{},\"id\":\"5872\",\"type\":\"WheelZoomTool\"}],\"root_ids\":[\"5854\"]},\"title\":\"Bokeh Application\",\"version\":\"2.0.2\"}};\n  var render_items = [{\"docid\":\"6e967e7d-88ba-499b-b15d-d9798b33d380\",\"notebook_comms_target\":\"5984\",\"root_ids\":[\"5854\"],\"roots\":{\"5854\":\"902d137d-06c8-4f19-80d4-37e9c3de427c\"}}];\n  root.Bokeh.embed.embed_items_notebook(docs_json, render_items);\n\n  }\n  if (root.Bokeh !== undefined) {\n    embed_document(root);\n  } else {\n    var attempts = 0;\n    var timer = setInterval(function(root) {\n      if (root.Bokeh !== undefined) {\n        clearInterval(timer);\n        embed_document(root);\n      } else {\n        attempts++;\n        if (attempts > 100) {\n          clearInterval(timer);\n          console.log(\"Bokeh: ERROR: Unable to run BokehJS code because BokehJS library is missing\");\n        }\n      }\n    }, 10, root)\n  }\n})(window);",
      "application/vnd.bokehjs_exec.v0+json": ""
     },
     "metadata": {
      "application/vnd.bokehjs_exec.v0+json": {
       "id": "5854"
      }
     }
    },
    {
     "output_type": "execute_result",
     "data": {
      "text/plain": "<bokeh.io.notebook.CommsHandle at 0x2233275bf88>",
      "text/html": "<p><code>&lt;Bokeh Notebook handle for <strong>In[36]</strong>&gt;</code></p>"
     },
     "metadata": {},
     "execution_count": 36
    }
   ],
   "source": [
    "#绘制叠加区域\n",
    "\n",
    "from bokeh.models import ColumnDataSource\n",
    "from bokeh.plotting import figure, show\n",
    "\n",
    "source = ColumnDataSource(data = dict(x = ahdate, y1 = ahconfirmed, y2 = hbconfirmed))\n",
    "\n",
    "p = figure(plot_width = 400, plot_height = 400)\n",
    "\n",
    "p.varea_stack(['y1', 'y2'], x = 'x', source = source, color = ['grey', 'lightgrey'])\n",
    "\n",
    "show(p,notebook_handle=True)"
   ]
  },
  {
   "cell_type": "markdown",
   "metadata": {},
   "source": [
    "- 绘制时间序列图形\n",
    "\n",
    "在`Bokeh`中可以绘制基础的时间序列图。结合`figure()`与`bokeh.plotting`可以画出交互式的时间序列图。下面我们使用安徽省的感染人数数据来展示这一功能的具体用法。\n",
    "\n"
   ]
  },
  {
   "cell_type": "code",
   "execution_count": 37,
   "metadata": {},
   "outputs": [
    {
     "output_type": "display_data",
     "data": {
      "text/html": "\n\n\n\n\n\n  <div class=\"bk-root\" id=\"d414f17e-4ac8-4616-8c95-da05519d3029\" data-root-id=\"6039\"></div>\n"
     },
     "metadata": {}
    },
    {
     "output_type": "display_data",
     "data": {
      "application/javascript": "(function(root) {\n  function embed_document(root) {\n    \n  var docs_json = {\"5b4b976c-d56a-4c97-9eb3-13b76f63baee\":{\"roots\":{\"references\":[{\"attributes\":{\"below\":[{\"id\":\"6048\"}],\"center\":[{\"id\":\"6051\"},{\"id\":\"6055\"}],\"left\":[{\"id\":\"6052\"}],\"plot_height\":250,\"plot_width\":800,\"renderers\":[{\"id\":\"6073\"}],\"title\":{\"id\":\"6161\"},\"toolbar\":{\"id\":\"6063\"},\"x_range\":{\"id\":\"6040\"},\"x_scale\":{\"id\":\"6044\"},\"y_range\":{\"id\":\"6042\"},\"y_scale\":{\"id\":\"6046\"}},\"id\":\"6039\",\"subtype\":\"Figure\",\"type\":\"Plot\"},{\"attributes\":{\"source\":{\"id\":\"6070\"}},\"id\":\"6074\",\"type\":\"CDSView\"},{\"attributes\":{\"months\":[0,1,2,3,4,5,6,7,8,9,10,11]},\"id\":\"6174\",\"type\":\"MonthsTicker\"},{\"attributes\":{\"text\":\"\"},\"id\":\"6161\",\"type\":\"Title\"},{\"attributes\":{},\"id\":\"6046\",\"type\":\"LinearScale\"},{\"attributes\":{\"num_minor_ticks\":5,\"tickers\":[{\"id\":\"6167\"},{\"id\":\"6168\"},{\"id\":\"6169\"},{\"id\":\"6170\"},{\"id\":\"6171\"},{\"id\":\"6172\"},{\"id\":\"6173\"},{\"id\":\"6174\"},{\"id\":\"6175\"},{\"id\":\"6176\"},{\"id\":\"6177\"},{\"id\":\"6178\"}]},\"id\":\"6049\",\"type\":\"DatetimeTicker\"},{\"attributes\":{\"data\":{\"x\":{\"__ndarray__\":\"AABAx6j8dkIAAAAt+/x2QgAAwJJN/XZCAACA+J/9dkIAAEBe8v12QgAAAMRE/nZCAADAKZf+dkIAAICP6f52QgAAQPU7/3ZCAAAAW47/dkIAAMDA4P92QgAAgCYzAHdCAABAjIUAd0IAAADy1wB3QgAAwFcqAXdCAACAvXwBd0IAAEAjzwF3QgAAAIkhAndCAADA7nMCd0IAAIBUxgJ3QgAAQLoYA3dCAAAAIGsDd0IAAMCFvQN3QgAAgOsPBHdCAABAUWIEd0IAAAC3tAR3QgAAwBwHBXdCAACAglkFd0IAAEDoqwV3QgAAAE7+BXdCAADAs1AGd0IAAIAZowZ3QgAAQH/1BndCAAAA5UcHd0IAAMBKmgd3QgAAgLDsB3dCAABAFj8Id0IAAAB8kQh3QgAAwOHjCHdCAACARzYJd0IAAECtiAl3QgAAABPbCXdCAADAeC0Kd0IAAIDefwp3QgAAQETSCndCAAAAqiQLd0IAAMAPdwt3QgAAgHXJC3dCAABA2xsMd0IAAABBbgx3QgAAwKbADHdCAACADBMNd0IAAEByZQ13QgAAANi3DXdC\",\"dtype\":\"float64\",\"shape\":[54]},\"y\":[1,9,15,39,60,70,106,152,200,237,297,340,408,480,530,591,665,733,779,830,860,889,910,934,950,962,973,982,986,987,988,989,989,989,989,989,989,990,990,990,990,990,990,990,990,990,990,990,990,990,990,990,990,990]},\"selected\":{\"id\":\"6180\"},\"selection_policy\":{\"id\":\"6179\"}},\"id\":\"6070\",\"type\":\"ColumnDataSource\"},{\"attributes\":{},\"id\":\"6053\",\"type\":\"BasicTicker\"},{\"attributes\":{\"active_drag\":\"auto\",\"active_inspect\":\"auto\",\"active_multi\":null,\"active_scroll\":\"auto\",\"active_tap\":\"auto\",\"tools\":[{\"id\":\"6056\"},{\"id\":\"6057\"},{\"id\":\"6058\"},{\"id\":\"6059\"},{\"id\":\"6060\"},{\"id\":\"6061\"}]},\"id\":\"6063\",\"type\":\"Toolbar\"},{\"attributes\":{},\"id\":\"6057\",\"type\":\"WheelZoomTool\"},{\"attributes\":{},\"id\":\"6040\",\"type\":\"DataRange1d\"},{\"attributes\":{\"mantissas\":[1,2,5],\"max_interval\":500.0,\"num_minor_ticks\":0},\"id\":\"6167\",\"type\":\"AdaptiveTicker\"},{\"attributes\":{\"axis\":{\"id\":\"6048\"},\"ticker\":null},\"id\":\"6051\",\"type\":\"Grid\"},{\"attributes\":{},\"id\":\"6056\",\"type\":\"PanTool\"},{\"attributes\":{},\"id\":\"6180\",\"type\":\"Selection\"},{\"attributes\":{\"base\":60,\"mantissas\":[1,2,5,10,15,20,30],\"max_interval\":1800000.0,\"min_interval\":1000.0,\"num_minor_ticks\":0},\"id\":\"6168\",\"type\":\"AdaptiveTicker\"},{\"attributes\":{\"days\":[1,15]},\"id\":\"6173\",\"type\":\"DaysTicker\"},{\"attributes\":{\"days\":[1,4,7,10,13,16,19,22,25,28]},\"id\":\"6171\",\"type\":\"DaysTicker\"},{\"attributes\":{\"line_alpha\":0.6,\"line_color\":\"navy\",\"x\":{\"field\":\"x\"},\"y\":{\"field\":\"y\"}},\"id\":\"6071\",\"type\":\"Line\"},{\"attributes\":{},\"id\":\"6060\",\"type\":\"ResetTool\"},{\"attributes\":{\"months\":[0,6]},\"id\":\"6177\",\"type\":\"MonthsTicker\"},{\"attributes\":{\"base\":24,\"mantissas\":[1,2,4,6,8,12],\"max_interval\":43200000.0,\"min_interval\":3600000.0,\"num_minor_ticks\":0},\"id\":\"6169\",\"type\":\"AdaptiveTicker\"},{\"attributes\":{\"axis\":{\"id\":\"6052\"},\"dimension\":1,\"ticker\":null},\"id\":\"6055\",\"type\":\"Grid\"},{\"attributes\":{},\"id\":\"6044\",\"type\":\"LinearScale\"},{\"attributes\":{},\"id\":\"6061\",\"type\":\"HelpTool\"},{\"attributes\":{\"days\":[1,8,15,22]},\"id\":\"6172\",\"type\":\"DaysTicker\"},{\"attributes\":{},\"id\":\"6179\",\"type\":\"UnionRenderers\"},{\"attributes\":{},\"id\":\"6059\",\"type\":\"SaveTool\"},{\"attributes\":{\"line_alpha\":0.1,\"line_color\":\"navy\",\"x\":{\"field\":\"x\"},\"y\":{\"field\":\"y\"}},\"id\":\"6072\",\"type\":\"Line\"},{\"attributes\":{\"formatter\":{\"id\":\"6163\"},\"ticker\":{\"id\":\"6049\"}},\"id\":\"6048\",\"type\":\"DatetimeAxis\"},{\"attributes\":{\"bottom_units\":\"screen\",\"fill_alpha\":0.5,\"fill_color\":\"lightgrey\",\"left_units\":\"screen\",\"level\":\"overlay\",\"line_alpha\":1.0,\"line_color\":\"black\",\"line_dash\":[4,4],\"line_width\":2,\"render_mode\":\"css\",\"right_units\":\"screen\",\"top_units\":\"screen\"},\"id\":\"6062\",\"type\":\"BoxAnnotation\"},{\"attributes\":{\"days\":[1,2,3,4,5,6,7,8,9,10,11,12,13,14,15,16,17,18,19,20,21,22,23,24,25,26,27,28,29,30,31]},\"id\":\"6170\",\"type\":\"DaysTicker\"},{\"attributes\":{\"overlay\":{\"id\":\"6062\"}},\"id\":\"6058\",\"type\":\"BoxZoomTool\"},{\"attributes\":{},\"id\":\"6165\",\"type\":\"BasicTickFormatter\"},{\"attributes\":{\"months\":[0,4,8]},\"id\":\"6176\",\"type\":\"MonthsTicker\"},{\"attributes\":{\"data_source\":{\"id\":\"6070\"},\"glyph\":{\"id\":\"6071\"},\"hover_glyph\":null,\"muted_glyph\":null,\"nonselection_glyph\":{\"id\":\"6072\"},\"selection_glyph\":null,\"view\":{\"id\":\"6074\"}},\"id\":\"6073\",\"type\":\"GlyphRenderer\"},{\"attributes\":{},\"id\":\"6163\",\"type\":\"DatetimeTickFormatter\"},{\"attributes\":{\"months\":[0,2,4,6,8,10]},\"id\":\"6175\",\"type\":\"MonthsTicker\"},{\"attributes\":{},\"id\":\"6178\",\"type\":\"YearsTicker\"},{\"attributes\":{\"formatter\":{\"id\":\"6165\"},\"ticker\":{\"id\":\"6053\"}},\"id\":\"6052\",\"type\":\"LinearAxis\"},{\"attributes\":{},\"id\":\"6042\",\"type\":\"DataRange1d\"}],\"root_ids\":[\"6039\"]},\"title\":\"Bokeh Application\",\"version\":\"2.0.2\"}};\n  var render_items = [{\"docid\":\"5b4b976c-d56a-4c97-9eb3-13b76f63baee\",\"notebook_comms_target\":\"6181\",\"root_ids\":[\"6039\"],\"roots\":{\"6039\":\"d414f17e-4ac8-4616-8c95-da05519d3029\"}}];\n  root.Bokeh.embed.embed_items_notebook(docs_json, render_items);\n\n  }\n  if (root.Bokeh !== undefined) {\n    embed_document(root);\n  } else {\n    var attempts = 0;\n    var timer = setInterval(function(root) {\n      if (root.Bokeh !== undefined) {\n        clearInterval(timer);\n        embed_document(root);\n      } else {\n        attempts++;\n        if (attempts > 100) {\n          clearInterval(timer);\n          console.log(\"Bokeh: ERROR: Unable to run BokehJS code because BokehJS library is missing\");\n        }\n      }\n    }, 10, root)\n  }\n})(window);",
      "application/vnd.bokehjs_exec.v0+json": ""
     },
     "metadata": {
      "application/vnd.bokehjs_exec.v0+json": {
       "id": "6039"
      }
     }
    },
    {
     "output_type": "execute_result",
     "data": {
      "text/plain": "<bokeh.io.notebook.CommsHandle at 0x2233221fa48>",
      "text/html": "<p><code>&lt;Bokeh Notebook handle for <strong>In[37]</strong>&gt;</code></p>"
     },
     "metadata": {},
     "execution_count": 37
    }
   ],
   "source": [
    "from bokeh.plotting import figure, show\n",
    "\n",
    "p = figure(plot_width = 800, plot_height = 250, x_axis_type = 'datetime')\n",
    "\n",
    "p.line(ahncov['Observation Date'], ahconfirmed, color = 'navy', alpha = 0.6)\n",
    "\n",
    "show(p, notebook_handle=True)"
   ]
  },
  {
   "cell_type": "markdown",
   "metadata": {},
   "source": [
    "## 4 获取`Bokeh`可处理的数据对象"
   ]
  },
  {
   "cell_type": "markdown",
   "metadata": {},
   "source": [
    "在前文中，我们看到，对于一些函数需要使用`ColumnDataSource`将原始数据转换为`Bokeh`可处理的对象。同样的，`Bokeh`是一个可以用于统计绘图的库，故其与`Pandas`之间的联系也非常紧密。下面，通过`ncov`数据集来对`Bokeh`的数据对象进行描述。"
   ]
  },
  {
   "cell_type": "markdown",
   "metadata": {},
   "source": [
    "### 4.1 数据源"
   ]
  },
  {
   "cell_type": "markdown",
   "metadata": {},
   "source": [
    "- 使用`ColumnDataSource`\n",
    "\n",
    "使用`ColumnDataSource`是一种最基础的，也是应用最广泛的`Bokeh`数据处理对象。简单的`CDS`，其实就是一个`dict`对象，其中定义了列名等。在上面的例子中，我们使用的大多都是简单的`CDS`对象。"
   ]
  },
  {
   "cell_type": "markdown",
   "metadata": {},
   "source": [
    "- 使用`Pandas`\n",
    "\n",
    "`Pandas`库能够对数据进行很多统计处理，可视化这些结果是非常必要的。幸运的是，`Bokeh`中也有直接对`DataFrame`及`GroupBy`对象进行可视化的函数。当然，数据框对象可以直接使用`CDS`转换为`CDS`对象。"
   ]
  },
  {
   "cell_type": "code",
   "execution_count": 38,
   "metadata": {},
   "outputs": [],
   "source": [
    "source = ColumnDataSource(ncov)"
   ]
  },
  {
   "cell_type": "markdown",
   "metadata": {},
   "source": [
    "对`pandas`的`Groupby`对象也可以实现轻松转换：\n"
   ]
  },
  {
   "cell_type": "code",
   "execution_count": 39,
   "metadata": {},
   "outputs": [],
   "source": [
    "group  = ncov.groupby('Province/State')\n",
    "source = ColumnDataSource(group)"
   ]
  },
  {
   "cell_type": "markdown",
   "metadata": {},
   "source": [
    "## 5 为图表添加图例"
   ]
  },
  {
   "cell_type": "markdown",
   "metadata": {},
   "source": [
    "在`Bokeh`中可以使用`factor_cmap()`以及`factor_mark`为图表创建图例。仍然以湖北以及安徽省的确诊案例数为例。"
   ]
  },
  {
   "cell_type": "code",
   "execution_count": 40,
   "metadata": {
    "tags": []
   },
   "outputs": [
    {
     "output_type": "display_data",
     "data": {
      "text/html": "\n\n\n\n\n\n  <div class=\"bk-root\" id=\"461b8cc2-4aa9-4f87-a0a9-0bc7e751b4c1\" data-root-id=\"6310\"></div>\n"
     },
     "metadata": {}
    },
    {
     "output_type": "display_data",
     "data": {
      "application/javascript": "(function(root) {\n  function embed_document(root) {\n    \n  var docs_json = {\"7051c65e-d5e6-4fbb-8f90-683f1c4f3fde\":{\"roots\":{\"references\":[{\"attributes\":{\"below\":[{\"id\":\"6321\"}],\"center\":[{\"id\":\"6324\"},{\"id\":\"6328\"},{\"id\":\"6351\"}],\"left\":[{\"id\":\"6325\"}],\"plot_height\":250,\"plot_width\":800,\"renderers\":[{\"id\":\"6347\"}],\"title\":{\"id\":\"6311\"},\"toolbar\":{\"id\":\"6336\"},\"x_range\":{\"id\":\"6313\"},\"x_scale\":{\"id\":\"6317\"},\"y_range\":{\"id\":\"6315\"},\"y_scale\":{\"id\":\"6319\"}},\"id\":\"6310\",\"subtype\":\"Figure\",\"type\":\"Plot\"},{\"attributes\":{\"overlay\":{\"id\":\"6335\"}},\"id\":\"6331\",\"type\":\"BoxZoomTool\"},{\"attributes\":{},\"id\":\"6315\",\"type\":\"DataRange1d\"},{\"attributes\":{},\"id\":\"6334\",\"type\":\"HelpTool\"},{\"attributes\":{\"bottom_units\":\"screen\",\"fill_alpha\":0.5,\"fill_color\":\"lightgrey\",\"left_units\":\"screen\",\"level\":\"overlay\",\"line_alpha\":1.0,\"line_color\":\"black\",\"line_dash\":[4,4],\"line_width\":2,\"render_mode\":\"css\",\"right_units\":\"screen\",\"top_units\":\"screen\"},\"id\":\"6335\",\"type\":\"BoxAnnotation\"},{\"attributes\":{\"base\":60,\"mantissas\":[1,2,5,10,15,20,30],\"max_interval\":1800000.0,\"min_interval\":1000.0,\"num_minor_ticks\":0},\"id\":\"6465\",\"type\":\"AdaptiveTicker\"},{\"attributes\":{\"formatter\":{\"id\":\"6462\"},\"ticker\":{\"id\":\"6326\"}},\"id\":\"6325\",\"type\":\"LinearAxis\"},{\"attributes\":{},\"id\":\"6332\",\"type\":\"SaveTool\"},{\"attributes\":{\"months\":[0,2,4,6,8,10]},\"id\":\"6472\",\"type\":\"MonthsTicker\"},{\"attributes\":{\"index\":1,\"label\":{\"value\":\"Hubei\"},\"renderers\":[{\"id\":\"6347\"}]},\"id\":\"6350\",\"type\":\"LegendItem\"},{\"attributes\":{},\"id\":\"6330\",\"type\":\"WheelZoomTool\"},{\"attributes\":{\"axis\":{\"id\":\"6325\"},\"dimension\":1,\"ticker\":null},\"id\":\"6328\",\"type\":\"Grid\"},{\"attributes\":{\"index\":0,\"label\":{\"value\":\"Anhui\"},\"renderers\":[{\"id\":\"6347\"}]},\"id\":\"6349\",\"type\":\"LegendItem\"},{\"attributes\":{\"data\":{\"line_alpha\":[0.5,0.8],\"line_color\":[\"firebrick\",\"navy\"],\"xs\":[[1579651200000.0,1579737600000.0,1579824000000.0,1579910400000.0,1579996800000.0,1580083200000.0,1580169600000.0,1580256000000.0,1580342400000.0,1580428800000.0,1580515200000.0,1580601600000.0,1580688000000.0,1580774400000.0,1580860800000.0,1580947200000.0,1581033600000.0,1581120000000.0,1581206400000.0,1581292800000.0,1581379200000.0,1581465600000.0,1581552000000.0,1581638400000.0,1581724800000.0,1581811200000.0,1581897600000.0,1581984000000.0,1582070400000.0,1582156800000.0,1582243200000.0,1582329600000.0,1582416000000.0,1582502400000.0,1582588800000.0,1582675200000.0,1582761600000.0,1582848000000.0,1582934400000.0,1583020800000.0,1583107200000.0,1583193600000.0,1583280000000.0,1583366400000.0,1583452800000.0,1583539200000.0,1583625600000.0,1583712000000.0,1583798400000.0,1583884800000.0,1583971200000.0,1584057600000.0,1584144000000.0,1584230400000.0],[1579651200000.0,1579737600000.0,1579824000000.0,1579910400000.0,1579996800000.0,1580083200000.0,1580169600000.0,1580256000000.0,1580342400000.0,1580428800000.0,1580515200000.0,1580601600000.0,1580688000000.0,1580774400000.0,1580860800000.0,1580947200000.0,1581033600000.0,1581120000000.0,1581206400000.0,1581292800000.0,1581379200000.0,1581465600000.0,1581552000000.0,1581638400000.0,1581724800000.0,1581811200000.0,1581897600000.0,1581984000000.0,1582070400000.0,1582156800000.0,1582243200000.0,1582329600000.0,1582416000000.0,1582502400000.0,1582588800000.0,1582675200000.0,1582761600000.0,1582848000000.0,1582934400000.0,1583020800000.0,1583107200000.0,1583193600000.0,1583280000000.0,1583366400000.0,1583452800000.0,1583539200000.0,1583625600000.0,1583712000000.0,1583798400000.0,1583884800000.0,1583971200000.0,1584057600000.0,1584144000000.0,1584230400000.0]],\"ys\":[[1,9,15,39,60,70,106,152,200,237,297,340,408,480,530,591,665,733,779,830,860,889,910,934,950,962,973,982,986,987,988,989,989,989,989,989,989,990,990,990,990,990,990,990,990,990,990,990,990,990,990,990,990,990],[444,444,549,761,1058,1423,3554,3554,4903,5806,7153,11177,13522,16678,19665,22112,24953,27100,29631,31728,33366,33366,48206,54406,56249,58182,59989,61682,62031,62442,62662,64084,64084,64287,64786,65187,65596,65914,66337,66907,67103,67217,67332,67466,67592,67666,67707,67743,67760,67773,67781,67786,67790,67794]]},\"selected\":{\"id\":\"6477\"},\"selection_policy\":{\"id\":\"6476\"}},\"id\":\"6344\",\"type\":\"ColumnDataSource\"},{\"attributes\":{},\"id\":\"6317\",\"type\":\"LinearScale\"},{\"attributes\":{\"mantissas\":[1,2,5],\"max_interval\":500.0,\"num_minor_ticks\":0},\"id\":\"6464\",\"type\":\"AdaptiveTicker\"},{\"attributes\":{\"num_minor_ticks\":5,\"tickers\":[{\"id\":\"6464\"},{\"id\":\"6465\"},{\"id\":\"6466\"},{\"id\":\"6467\"},{\"id\":\"6468\"},{\"id\":\"6469\"},{\"id\":\"6470\"},{\"id\":\"6471\"},{\"id\":\"6472\"},{\"id\":\"6473\"},{\"id\":\"6474\"},{\"id\":\"6475\"}]},\"id\":\"6322\",\"type\":\"DatetimeTicker\"},{\"attributes\":{\"days\":[1,15]},\"id\":\"6470\",\"type\":\"DaysTicker\"},{\"attributes\":{\"axis_label\":\"Date\",\"formatter\":{\"id\":\"6460\"},\"ticker\":{\"id\":\"6322\"}},\"id\":\"6321\",\"type\":\"DatetimeAxis\"},{\"attributes\":{\"days\":[1,2,3,4,5,6,7,8,9,10,11,12,13,14,15,16,17,18,19,20,21,22,23,24,25,26,27,28,29,30,31]},\"id\":\"6467\",\"type\":\"DaysTicker\"},{\"attributes\":{\"items\":[{\"id\":\"6349\"},{\"id\":\"6350\"}]},\"id\":\"6351\",\"type\":\"Legend\"},{\"attributes\":{\"days\":[1,8,15,22]},\"id\":\"6469\",\"type\":\"DaysTicker\"},{\"attributes\":{},\"id\":\"6333\",\"type\":\"ResetTool\"},{\"attributes\":{\"active_drag\":\"auto\",\"active_inspect\":\"auto\",\"active_multi\":null,\"active_scroll\":\"auto\",\"active_tap\":\"auto\",\"tools\":[{\"id\":\"6329\"},{\"id\":\"6330\"},{\"id\":\"6331\"},{\"id\":\"6332\"},{\"id\":\"6333\"},{\"id\":\"6334\"}]},\"id\":\"6336\",\"type\":\"Toolbar\"},{\"attributes\":{},\"id\":\"6462\",\"type\":\"BasicTickFormatter\"},{\"attributes\":{},\"id\":\"6313\",\"type\":\"DataRange1d\"},{\"attributes\":{\"data_source\":{\"id\":\"6344\"},\"glyph\":{\"id\":\"6345\"},\"hover_glyph\":null,\"muted_glyph\":null,\"nonselection_glyph\":{\"id\":\"6346\"},\"selection_glyph\":null,\"view\":{\"id\":\"6348\"}},\"id\":\"6347\",\"type\":\"GlyphRenderer\"},{\"attributes\":{},\"id\":\"6329\",\"type\":\"PanTool\"},{\"attributes\":{\"line_alpha\":{\"field\":\"line_alpha\"},\"line_color\":{\"field\":\"line_color\"},\"xs\":{\"field\":\"xs\"},\"ys\":{\"field\":\"ys\"}},\"id\":\"6345\",\"type\":\"MultiLine\"},{\"attributes\":{},\"id\":\"6460\",\"type\":\"DatetimeTickFormatter\"},{\"attributes\":{\"line_alpha\":{\"value\":0.1},\"line_color\":{\"field\":\"line_color\"},\"xs\":{\"field\":\"xs\"},\"ys\":{\"field\":\"ys\"}},\"id\":\"6346\",\"type\":\"MultiLine\"},{\"attributes\":{},\"id\":\"6326\",\"type\":\"BasicTicker\"},{\"attributes\":{\"months\":[0,4,8]},\"id\":\"6473\",\"type\":\"MonthsTicker\"},{\"attributes\":{},\"id\":\"6319\",\"type\":\"LinearScale\"},{\"attributes\":{\"days\":[1,4,7,10,13,16,19,22,25,28]},\"id\":\"6468\",\"type\":\"DaysTicker\"},{\"attributes\":{\"months\":[0,6]},\"id\":\"6474\",\"type\":\"MonthsTicker\"},{\"attributes\":{\"axis\":{\"id\":\"6321\"},\"ticker\":null},\"id\":\"6324\",\"type\":\"Grid\"},{\"attributes\":{\"text\":\"Daily Confirmed in Hubei and Anhui\"},\"id\":\"6311\",\"type\":\"Title\"},{\"attributes\":{\"base\":24,\"mantissas\":[1,2,4,6,8,12],\"max_interval\":43200000.0,\"min_interval\":3600000.0,\"num_minor_ticks\":0},\"id\":\"6466\",\"type\":\"AdaptiveTicker\"},{\"attributes\":{\"months\":[0,1,2,3,4,5,6,7,8,9,10,11]},\"id\":\"6471\",\"type\":\"MonthsTicker\"},{\"attributes\":{},\"id\":\"6475\",\"type\":\"YearsTicker\"},{\"attributes\":{},\"id\":\"6476\",\"type\":\"UnionRenderers\"},{\"attributes\":{},\"id\":\"6477\",\"type\":\"Selection\"},{\"attributes\":{\"source\":{\"id\":\"6344\"}},\"id\":\"6348\",\"type\":\"CDSView\"}],\"root_ids\":[\"6310\"]},\"title\":\"Bokeh Application\",\"version\":\"2.0.2\"}};\n  var render_items = [{\"docid\":\"7051c65e-d5e6-4fbb-8f90-683f1c4f3fde\",\"notebook_comms_target\":\"6478\",\"root_ids\":[\"6310\"],\"roots\":{\"6310\":\"461b8cc2-4aa9-4f87-a0a9-0bc7e751b4c1\"}}];\n  root.Bokeh.embed.embed_items_notebook(docs_json, render_items);\n\n  }\n  if (root.Bokeh !== undefined) {\n    embed_document(root);\n  } else {\n    var attempts = 0;\n    var timer = setInterval(function(root) {\n      if (root.Bokeh !== undefined) {\n        clearInterval(timer);\n        embed_document(root);\n      } else {\n        attempts++;\n        if (attempts > 100) {\n          clearInterval(timer);\n          console.log(\"Bokeh: ERROR: Unable to run BokehJS code because BokehJS library is missing\");\n        }\n      }\n    }, 10, root)\n  }\n})(window);",
      "application/vnd.bokehjs_exec.v0+json": ""
     },
     "metadata": {
      "application/vnd.bokehjs_exec.v0+json": {
       "id": "6310"
      }
     }
    },
    {
     "output_type": "execute_result",
     "data": {
      "text/plain": "<bokeh.io.notebook.CommsHandle at 0x22332796d48>",
      "text/html": "<p><code>&lt;Bokeh Notebook handle for <strong>In[40]</strong>&gt;</code></p>"
     },
     "metadata": {},
     "execution_count": 40
    }
   ],
   "source": [
    "from bokeh.plotting import figure, show\n",
    "from bokeh.models import Legend, LegendItem\n",
    "\n",
    "Province = ['Hubei', 'Anhui']\n",
    "Markers = ['line', 'line']\n",
    "\n",
    "p = figure(title = 'Daily Confirmed in Hubei and Anhui', plot_width = 800, plot_height = 250, x_axis_type = 'datetime')\n",
    "p.xaxis.axis_label = 'Date'\n",
    "#p.yaxis_axis_label = 'Confirmed'\n",
    "\n",
    "source = ColumnDataSource(dict(x = ahncov['Observation Date'], y1 = ahconfirmed, y2 = hbconfirmed))\n",
    "r = p.multi_line([ahncov['Observation Date'], ahncov['Observation Date']], [ahconfirmed, hbconfirmed], line_color = ['firebrick', 'navy'], line_alpha = [0.5,0.8])\n",
    "\n",
    "legend = Legend(items = [\n",
    "    LegendItem(label = 'Anhui', renderers = [r], index = 0),\n",
    "    LegendItem(label = 'Hubei', renderers = [r], index = 1)\n",
    "])\n",
    "p.add_layout(legend)\n",
    "\n",
    "show(p, notebook_handle=True)"
   ]
  },
  {
   "cell_type": "markdown",
   "metadata": {},
   "source": [
    "<span id=inter1>图例也可以进行交互式展示，例如：</span>"
   ]
  },
  {
   "cell_type": "code",
   "execution_count": 41,
   "metadata": {},
   "outputs": [
    {
     "output_type": "display_data",
     "data": {
      "text/html": "\n\n\n\n\n\n  <div class=\"bk-root\" id=\"7ec4253a-2305-45ff-8a3b-0fbf9a860349\" data-root-id=\"6599\"></div>\n"
     },
     "metadata": {}
    },
    {
     "output_type": "display_data",
     "data": {
      "application/javascript": "(function(root) {\n  function embed_document(root) {\n    \n  var docs_json = {\"3cf3ca00-0e11-4823-9127-22f8dcaf9a0c\":{\"roots\":{\"references\":[{\"attributes\":{\"below\":[{\"id\":\"6610\"}],\"center\":[{\"id\":\"6613\"},{\"id\":\"6617\"},{\"id\":\"6655\"}],\"left\":[{\"id\":\"6614\"}],\"plot_height\":250,\"plot_width\":800,\"renderers\":[{\"id\":\"6635\"},{\"id\":\"6660\"}],\"title\":{\"id\":\"6600\"},\"toolbar\":{\"id\":\"6625\"},\"x_range\":{\"id\":\"6602\"},\"x_scale\":{\"id\":\"6606\"},\"y_range\":{\"id\":\"6604\"},\"y_scale\":{\"id\":\"6608\"}},\"id\":\"6599\",\"subtype\":\"Figure\",\"type\":\"Plot\"},{\"attributes\":{},\"id\":\"6829\",\"type\":\"UnionRenderers\"},{\"attributes\":{\"data_source\":{\"id\":\"6657\"},\"glyph\":{\"id\":\"6658\"},\"hover_glyph\":null,\"muted_glyph\":null,\"nonselection_glyph\":{\"id\":\"6659\"},\"selection_glyph\":null,\"view\":{\"id\":\"6661\"}},\"id\":\"6660\",\"type\":\"GlyphRenderer\"},{\"attributes\":{\"overlay\":{\"id\":\"6624\"}},\"id\":\"6620\",\"type\":\"BoxZoomTool\"},{\"attributes\":{\"line_alpha\":0.8,\"line_color\":\"navy\",\"x\":{\"field\":\"x\"},\"y\":{\"field\":\"y\"}},\"id\":\"6658\",\"type\":\"Line\"},{\"attributes\":{\"axis\":{\"id\":\"6614\"},\"dimension\":1,\"ticker\":null},\"id\":\"6617\",\"type\":\"Grid\"},{\"attributes\":{\"months\":[0,4,8]},\"id\":\"6652\",\"type\":\"MonthsTicker\"},{\"attributes\":{\"data\":{\"x\":{\"__ndarray__\":\"AABAx6j8dkIAAAAt+/x2QgAAwJJN/XZCAACA+J/9dkIAAEBe8v12QgAAAMRE/nZCAADAKZf+dkIAAICP6f52QgAAQPU7/3ZCAAAAW47/dkIAAMDA4P92QgAAgCYzAHdCAABAjIUAd0IAAADy1wB3QgAAwFcqAXdCAACAvXwBd0IAAEAjzwF3QgAAAIkhAndCAADA7nMCd0IAAIBUxgJ3QgAAQLoYA3dCAAAAIGsDd0IAAMCFvQN3QgAAgOsPBHdCAABAUWIEd0IAAAC3tAR3QgAAwBwHBXdCAACAglkFd0IAAEDoqwV3QgAAAE7+BXdCAADAs1AGd0IAAIAZowZ3QgAAQH/1BndCAAAA5UcHd0IAAMBKmgd3QgAAgLDsB3dCAABAFj8Id0IAAAB8kQh3QgAAwOHjCHdCAACARzYJd0IAAECtiAl3QgAAABPbCXdCAADAeC0Kd0IAAIDefwp3QgAAQETSCndCAAAAqiQLd0IAAMAPdwt3QgAAgHXJC3dCAABA2xsMd0IAAABBbgx3QgAAwKbADHdCAACADBMNd0IAAEByZQ13QgAAANi3DXdC\",\"dtype\":\"float64\",\"shape\":[54]},\"y\":[444,444,549,761,1058,1423,3554,3554,4903,5806,7153,11177,13522,16678,19665,22112,24953,27100,29631,31728,33366,33366,48206,54406,56249,58182,59989,61682,62031,62442,62662,64084,64084,64287,64786,65187,65596,65914,66337,66907,67103,67217,67332,67466,67592,67666,67707,67743,67760,67773,67781,67786,67790,67794]},\"selected\":{\"id\":\"6830\"},\"selection_policy\":{\"id\":\"6829\"}},\"id\":\"6657\",\"type\":\"ColumnDataSource\"},{\"attributes\":{\"days\":[1,2,3,4,5,6,7,8,9,10,11,12,13,14,15,16,17,18,19,20,21,22,23,24,25,26,27,28,29,30,31]},\"id\":\"6646\",\"type\":\"DaysTicker\"},{\"attributes\":{},\"id\":\"6639\",\"type\":\"DatetimeTickFormatter\"},{\"attributes\":{\"base\":60,\"mantissas\":[1,2,5,10,15,20,30],\"max_interval\":1800000.0,\"min_interval\":1000.0,\"num_minor_ticks\":0},\"id\":\"6644\",\"type\":\"AdaptiveTicker\"},{\"attributes\":{\"days\":[1,15]},\"id\":\"6649\",\"type\":\"DaysTicker\"},{\"attributes\":{\"mantissas\":[1,2,5],\"max_interval\":500.0,\"num_minor_ticks\":0},\"id\":\"6643\",\"type\":\"AdaptiveTicker\"},{\"attributes\":{\"label\":{\"value\":\"Hubei\"},\"renderers\":[{\"id\":\"6660\"}]},\"id\":\"6682\",\"type\":\"LegendItem\"},{\"attributes\":{\"num_minor_ticks\":5,\"tickers\":[{\"id\":\"6643\"},{\"id\":\"6644\"},{\"id\":\"6645\"},{\"id\":\"6646\"},{\"id\":\"6647\"},{\"id\":\"6648\"},{\"id\":\"6649\"},{\"id\":\"6650\"},{\"id\":\"6651\"},{\"id\":\"6652\"},{\"id\":\"6653\"},{\"id\":\"6654\"}]},\"id\":\"6611\",\"type\":\"DatetimeTicker\"},{\"attributes\":{},\"id\":\"6680\",\"type\":\"UnionRenderers\"},{\"attributes\":{\"months\":[0,2,4,6,8,10]},\"id\":\"6651\",\"type\":\"MonthsTicker\"},{\"attributes\":{},\"id\":\"6608\",\"type\":\"LinearScale\"},{\"attributes\":{\"click_policy\":\"hide\",\"items\":[{\"id\":\"6656\"},{\"id\":\"6682\"}],\"location\":\"top_left\"},\"id\":\"6655\",\"type\":\"Legend\"},{\"attributes\":{},\"id\":\"6622\",\"type\":\"ResetTool\"},{\"attributes\":{\"source\":{\"id\":\"6657\"}},\"id\":\"6661\",\"type\":\"CDSView\"},{\"attributes\":{},\"id\":\"6604\",\"type\":\"DataRange1d\"},{\"attributes\":{},\"id\":\"6615\",\"type\":\"BasicTicker\"},{\"attributes\":{\"axis_label\":\"Date\",\"formatter\":{\"id\":\"6639\"},\"ticker\":{\"id\":\"6611\"}},\"id\":\"6610\",\"type\":\"DatetimeAxis\"},{\"attributes\":{},\"id\":\"6606\",\"type\":\"LinearScale\"},{\"attributes\":{},\"id\":\"6619\",\"type\":\"WheelZoomTool\"},{\"attributes\":{},\"id\":\"6621\",\"type\":\"SaveTool\"},{\"attributes\":{\"bottom_units\":\"screen\",\"fill_alpha\":0.5,\"fill_color\":\"lightgrey\",\"left_units\":\"screen\",\"level\":\"overlay\",\"line_alpha\":1.0,\"line_color\":\"black\",\"line_dash\":[4,4],\"line_width\":2,\"render_mode\":\"css\",\"right_units\":\"screen\",\"top_units\":\"screen\"},\"id\":\"6624\",\"type\":\"BoxAnnotation\"},{\"attributes\":{\"days\":[1,4,7,10,13,16,19,22,25,28]},\"id\":\"6647\",\"type\":\"DaysTicker\"},{\"attributes\":{\"months\":[0,1,2,3,4,5,6,7,8,9,10,11]},\"id\":\"6650\",\"type\":\"MonthsTicker\"},{\"attributes\":{\"axis\":{\"id\":\"6610\"},\"ticker\":null},\"id\":\"6613\",\"type\":\"Grid\"},{\"attributes\":{},\"id\":\"6602\",\"type\":\"DataRange1d\"},{\"attributes\":{\"line_alpha\":0.1,\"line_color\":\"firebrick\",\"x\":{\"field\":\"x\"},\"y\":{\"field\":\"y\"}},\"id\":\"6634\",\"type\":\"Line\"},{\"attributes\":{\"label\":{\"value\":\"Anhui\"},\"renderers\":[{\"id\":\"6635\"}]},\"id\":\"6656\",\"type\":\"LegendItem\"},{\"attributes\":{},\"id\":\"6641\",\"type\":\"BasicTickFormatter\"},{\"attributes\":{\"base\":24,\"mantissas\":[1,2,4,6,8,12],\"max_interval\":43200000.0,\"min_interval\":3600000.0,\"num_minor_ticks\":0},\"id\":\"6645\",\"type\":\"AdaptiveTicker\"},{\"attributes\":{},\"id\":\"6654\",\"type\":\"YearsTicker\"},{\"attributes\":{},\"id\":\"6830\",\"type\":\"Selection\"},{\"attributes\":{\"text\":\"Daily Confirmed in Hubei and Anhui\"},\"id\":\"6600\",\"type\":\"Title\"},{\"attributes\":{\"formatter\":{\"id\":\"6641\"},\"ticker\":{\"id\":\"6615\"}},\"id\":\"6614\",\"type\":\"LinearAxis\"},{\"attributes\":{\"line_alpha\":0.5,\"line_color\":\"firebrick\",\"x\":{\"field\":\"x\"},\"y\":{\"field\":\"y\"}},\"id\":\"6633\",\"type\":\"Line\"},{\"attributes\":{\"line_alpha\":0.1,\"line_color\":\"navy\",\"x\":{\"field\":\"x\"},\"y\":{\"field\":\"y\"}},\"id\":\"6659\",\"type\":\"Line\"},{\"attributes\":{},\"id\":\"6623\",\"type\":\"HelpTool\"},{\"attributes\":{},\"id\":\"6681\",\"type\":\"Selection\"},{\"attributes\":{\"source\":{\"id\":\"6632\"}},\"id\":\"6636\",\"type\":\"CDSView\"},{\"attributes\":{\"days\":[1,8,15,22]},\"id\":\"6648\",\"type\":\"DaysTicker\"},{\"attributes\":{\"data_source\":{\"id\":\"6632\"},\"glyph\":{\"id\":\"6633\"},\"hover_glyph\":null,\"muted_glyph\":null,\"nonselection_glyph\":{\"id\":\"6634\"},\"selection_glyph\":null,\"view\":{\"id\":\"6636\"}},\"id\":\"6635\",\"type\":\"GlyphRenderer\"},{\"attributes\":{},\"id\":\"6618\",\"type\":\"PanTool\"},{\"attributes\":{\"data\":{\"x\":{\"__ndarray__\":\"AABAx6j8dkIAAAAt+/x2QgAAwJJN/XZCAACA+J/9dkIAAEBe8v12QgAAAMRE/nZCAADAKZf+dkIAAICP6f52QgAAQPU7/3ZCAAAAW47/dkIAAMDA4P92QgAAgCYzAHdCAABAjIUAd0IAAADy1wB3QgAAwFcqAXdCAACAvXwBd0IAAEAjzwF3QgAAAIkhAndCAADA7nMCd0IAAIBUxgJ3QgAAQLoYA3dCAAAAIGsDd0IAAMCFvQN3QgAAgOsPBHdCAABAUWIEd0IAAAC3tAR3QgAAwBwHBXdCAACAglkFd0IAAEDoqwV3QgAAAE7+BXdCAADAs1AGd0IAAIAZowZ3QgAAQH/1BndCAAAA5UcHd0IAAMBKmgd3QgAAgLDsB3dCAABAFj8Id0IAAAB8kQh3QgAAwOHjCHdCAACARzYJd0IAAECtiAl3QgAAABPbCXdCAADAeC0Kd0IAAIDefwp3QgAAQETSCndCAAAAqiQLd0IAAMAPdwt3QgAAgHXJC3dCAABA2xsMd0IAAABBbgx3QgAAwKbADHdCAACADBMNd0IAAEByZQ13QgAAANi3DXdC\",\"dtype\":\"float64\",\"shape\":[54]},\"y\":[1,9,15,39,60,70,106,152,200,237,297,340,408,480,530,591,665,733,779,830,860,889,910,934,950,962,973,982,986,987,988,989,989,989,989,989,989,990,990,990,990,990,990,990,990,990,990,990,990,990,990,990,990,990]},\"selected\":{\"id\":\"6681\"},\"selection_policy\":{\"id\":\"6680\"}},\"id\":\"6632\",\"type\":\"ColumnDataSource\"},{\"attributes\":{\"months\":[0,6]},\"id\":\"6653\",\"type\":\"MonthsTicker\"},{\"attributes\":{\"active_drag\":\"auto\",\"active_inspect\":\"auto\",\"active_multi\":null,\"active_scroll\":\"auto\",\"active_tap\":\"auto\",\"tools\":[{\"id\":\"6618\"},{\"id\":\"6619\"},{\"id\":\"6620\"},{\"id\":\"6621\"},{\"id\":\"6622\"},{\"id\":\"6623\"}]},\"id\":\"6625\",\"type\":\"Toolbar\"}],\"root_ids\":[\"6599\"]},\"title\":\"Bokeh Application\",\"version\":\"2.0.2\"}};\n  var render_items = [{\"docid\":\"3cf3ca00-0e11-4823-9127-22f8dcaf9a0c\",\"notebook_comms_target\":\"6831\",\"root_ids\":[\"6599\"],\"roots\":{\"6599\":\"7ec4253a-2305-45ff-8a3b-0fbf9a860349\"}}];\n  root.Bokeh.embed.embed_items_notebook(docs_json, render_items);\n\n  }\n  if (root.Bokeh !== undefined) {\n    embed_document(root);\n  } else {\n    var attempts = 0;\n    var timer = setInterval(function(root) {\n      if (root.Bokeh !== undefined) {\n        clearInterval(timer);\n        embed_document(root);\n      } else {\n        attempts++;\n        if (attempts > 100) {\n          clearInterval(timer);\n          console.log(\"Bokeh: ERROR: Unable to run BokehJS code because BokehJS library is missing\");\n        }\n      }\n    }, 10, root)\n  }\n})(window);",
      "application/vnd.bokehjs_exec.v0+json": ""
     },
     "metadata": {
      "application/vnd.bokehjs_exec.v0+json": {
       "id": "6599"
      }
     }
    },
    {
     "output_type": "execute_result",
     "data": {
      "text/plain": "<bokeh.io.notebook.CommsHandle at 0x2233246a348>",
      "text/html": "<p><code>&lt;Bokeh Notebook handle for <strong>In[41]</strong>&gt;</code></p>"
     },
     "metadata": {},
     "execution_count": 41
    }
   ],
   "source": [
    "from bokeh.plotting import figure, show\n",
    "from bokeh.models import Legend, LegendItem\n",
    "\n",
    "Province = ['Hubei', 'Anhui']\n",
    "Markers = ['line', 'line']\n",
    "\n",
    "p = figure(title = 'Daily Confirmed in Hubei and Anhui', plot_width = 800, plot_height = 250, x_axis_type = 'datetime')\n",
    "p.xaxis.axis_label = 'Date'\n",
    "#p.yaxis_axis_label = 'Confirmed'\n",
    "\n",
    "ah = p.line(ahncov['Observation Date'], ahconfirmed, color = 'firebrick', alpha = 0.5, legend_label = 'Anhui')\n",
    "hb = p.line(ahncov['Observation Date'], hbconfirmed, color = 'navy', alpha = 0.8, legend_label = 'Hubei')\n",
    "\n",
    "p.legend.location = \"top_left\"\n",
    "p.legend.click_policy = \"hide\"#you can also try 'mute'\n",
    "\n",
    "show(p, notebook_handle=True)"
   ]
  },
  {
   "cell_type": "markdown",
   "metadata": {},
   "source": [
    "点击上图中的图例，就可以选择主要展示的省份。"
   ]
  },
  {
   "cell_type": "markdown",
   "metadata": {},
   "source": [
    "## 6 设置图片的展示风格"
   ]
  },
  {
   "cell_type": "markdown",
   "metadata": {},
   "source": [
    "- 按列展示："
   ]
  },
  {
   "cell_type": "code",
   "execution_count": 42,
   "metadata": {},
   "outputs": [
    {
     "output_type": "display_data",
     "data": {
      "text/html": "\n\n\n\n\n\n  <div class=\"bk-root\" id=\"3aefa524-765e-4e62-8fe3-3741fcd6241f\" data-root-id=\"7054\"></div>\n"
     },
     "metadata": {}
    },
    {
     "output_type": "display_data",
     "data": {
      "application/javascript": "(function(root) {\n  function embed_document(root) {\n    \n  var docs_json = {\"4527e8f7-e83d-4f86-a244-91648bd5a54f\":{\"roots\":{\"references\":[{\"attributes\":{\"children\":[{\"id\":\"6964\"},{\"id\":\"7009\"}]},\"id\":\"7054\",\"type\":\"Column\"},{\"attributes\":{},\"id\":\"6986\",\"type\":\"HelpTool\"},{\"attributes\":{},\"id\":\"7005\",\"type\":\"BasicTickFormatter\"},{\"attributes\":{\"active_drag\":\"auto\",\"active_inspect\":\"auto\",\"active_multi\":null,\"active_scroll\":\"auto\",\"active_tap\":\"auto\",\"tools\":[{\"id\":\"7026\"},{\"id\":\"7027\"},{\"id\":\"7028\"},{\"id\":\"7029\"},{\"id\":\"7030\"},{\"id\":\"7031\"}]},\"id\":\"7033\",\"type\":\"Toolbar\"},{\"attributes\":{},\"id\":\"7003\",\"type\":\"BasicTickFormatter\"},{\"attributes\":{\"formatter\":{\"id\":\"7003\"},\"ticker\":{\"id\":\"6974\"}},\"id\":\"6973\",\"type\":\"LinearAxis\"},{\"attributes\":{\"line_alpha\":0.1,\"line_color\":\"firebrick\",\"x\":{\"field\":\"x\"},\"y\":{\"field\":\"y\"}},\"id\":\"6997\",\"type\":\"Line\"},{\"attributes\":{\"background_fill_color\":\"#fafafa\",\"below\":[{\"id\":\"6973\"}],\"center\":[{\"id\":\"6976\"},{\"id\":\"6980\"},{\"id\":\"7007\"}],\"left\":[{\"id\":\"6977\"}],\"plot_height\":250,\"plot_width\":250,\"renderers\":[{\"id\":\"6998\"}],\"title\":{\"id\":\"7001\"},\"toolbar\":{\"id\":\"6988\"},\"x_range\":{\"id\":\"6965\"},\"x_scale\":{\"id\":\"6969\"},\"y_range\":{\"id\":\"6967\"},\"y_scale\":{\"id\":\"6971\"}},\"id\":\"6964\",\"subtype\":\"Figure\",\"type\":\"Plot\"},{\"attributes\":{\"items\":[{\"id\":\"7008\"}]},\"id\":\"7007\",\"type\":\"Legend\"},{\"attributes\":{\"text\":\"\"},\"id\":\"7046\",\"type\":\"Title\"},{\"attributes\":{},\"id\":\"7014\",\"type\":\"LinearScale\"},{\"attributes\":{\"line_alpha\":0.1,\"line_color\":\"navy\",\"x\":{\"field\":\"x\"},\"y\":{\"field\":\"y\"}},\"id\":\"7042\",\"type\":\"Line\"},{\"attributes\":{\"bottom_units\":\"screen\",\"fill_alpha\":0.5,\"fill_color\":\"lightgrey\",\"left_units\":\"screen\",\"level\":\"overlay\",\"line_alpha\":1.0,\"line_color\":\"black\",\"line_dash\":[4,4],\"line_width\":2,\"render_mode\":\"css\",\"right_units\":\"screen\",\"top_units\":\"screen\"},\"id\":\"6987\",\"type\":\"BoxAnnotation\"},{\"attributes\":{},\"id\":\"7010\",\"type\":\"DataRange1d\"},{\"attributes\":{},\"id\":\"7220\",\"type\":\"Selection\"},{\"attributes\":{},\"id\":\"6967\",\"type\":\"DataRange1d\"},{\"attributes\":{},\"id\":\"7023\",\"type\":\"BasicTicker\"},{\"attributes\":{\"axis\":{\"id\":\"6977\"},\"dimension\":1,\"ticker\":null},\"id\":\"6980\",\"type\":\"Grid\"},{\"attributes\":{},\"id\":\"6969\",\"type\":\"LinearScale\"},{\"attributes\":{},\"id\":\"6978\",\"type\":\"BasicTicker\"},{\"attributes\":{},\"id\":\"7031\",\"type\":\"HelpTool\"},{\"attributes\":{},\"id\":\"7016\",\"type\":\"LinearScale\"},{\"attributes\":{},\"id\":\"7027\",\"type\":\"WheelZoomTool\"},{\"attributes\":{\"formatter\":{\"id\":\"7048\"},\"ticker\":{\"id\":\"7019\"}},\"id\":\"7018\",\"type\":\"LinearAxis\"},{\"attributes\":{\"line_alpha\":0.5,\"line_color\":\"firebrick\",\"x\":{\"field\":\"x\"},\"y\":{\"field\":\"y\"}},\"id\":\"6996\",\"type\":\"Line\"},{\"attributes\":{\"source\":{\"id\":\"6995\"}},\"id\":\"6999\",\"type\":\"CDSView\"},{\"attributes\":{\"overlay\":{\"id\":\"7032\"}},\"id\":\"7028\",\"type\":\"BoxZoomTool\"},{\"attributes\":{},\"id\":\"6971\",\"type\":\"LinearScale\"},{\"attributes\":{},\"id\":\"6965\",\"type\":\"DataRange1d\"},{\"attributes\":{\"items\":[{\"id\":\"7053\"}]},\"id\":\"7052\",\"type\":\"Legend\"},{\"attributes\":{\"label\":{\"value\":\"Hubei\"},\"renderers\":[{\"id\":\"7043\"}]},\"id\":\"7053\",\"type\":\"LegendItem\"},{\"attributes\":{\"axis\":{\"id\":\"7022\"},\"dimension\":1,\"ticker\":null},\"id\":\"7025\",\"type\":\"Grid\"},{\"attributes\":{\"data\":{\"x\":{\"__ndarray__\":\"AABAx6j8dkIAAAAt+/x2QgAAwJJN/XZCAACA+J/9dkIAAEBe8v12QgAAAMRE/nZCAADAKZf+dkIAAICP6f52QgAAQPU7/3ZCAAAAW47/dkIAAMDA4P92QgAAgCYzAHdCAABAjIUAd0IAAADy1wB3QgAAwFcqAXdCAACAvXwBd0IAAEAjzwF3QgAAAIkhAndCAADA7nMCd0IAAIBUxgJ3QgAAQLoYA3dCAAAAIGsDd0IAAMCFvQN3QgAAgOsPBHdCAABAUWIEd0IAAAC3tAR3QgAAwBwHBXdCAACAglkFd0IAAEDoqwV3QgAAAE7+BXdCAADAs1AGd0IAAIAZowZ3QgAAQH/1BndCAAAA5UcHd0IAAMBKmgd3QgAAgLDsB3dCAABAFj8Id0IAAAB8kQh3QgAAwOHjCHdCAACARzYJd0IAAECtiAl3QgAAABPbCXdCAADAeC0Kd0IAAIDefwp3QgAAQETSCndCAAAAqiQLd0IAAMAPdwt3QgAAgHXJC3dCAABA2xsMd0IAAABBbgx3QgAAwKbADHdCAACADBMNd0IAAEByZQ13QgAAANi3DXdC\",\"dtype\":\"float64\",\"shape\":[54]},\"y\":[1,9,15,39,60,70,106,152,200,237,297,340,408,480,530,591,665,733,779,830,860,889,910,934,950,962,973,982,986,987,988,989,989,989,989,989,989,990,990,990,990,990,990,990,990,990,990,990,990,990,990,990,990,990]},\"selected\":{\"id\":\"7217\"},\"selection_policy\":{\"id\":\"7216\"}},\"id\":\"6995\",\"type\":\"ColumnDataSource\"},{\"attributes\":{\"data\":{\"x\":{\"__ndarray__\":\"AABAx6j8dkIAAAAt+/x2QgAAwJJN/XZCAACA+J/9dkIAAEBe8v12QgAAAMRE/nZCAADAKZf+dkIAAICP6f52QgAAQPU7/3ZCAAAAW47/dkIAAMDA4P92QgAAgCYzAHdCAABAjIUAd0IAAADy1wB3QgAAwFcqAXdCAACAvXwBd0IAAEAjzwF3QgAAAIkhAndCAADA7nMCd0IAAIBUxgJ3QgAAQLoYA3dCAAAAIGsDd0IAAMCFvQN3QgAAgOsPBHdCAABAUWIEd0IAAAC3tAR3QgAAwBwHBXdCAACAglkFd0IAAEDoqwV3QgAAAE7+BXdCAADAs1AGd0IAAIAZowZ3QgAAQH/1BndCAAAA5UcHd0IAAMBKmgd3QgAAgLDsB3dCAABAFj8Id0IAAAB8kQh3QgAAwOHjCHdCAACARzYJd0IAAECtiAl3QgAAABPbCXdCAADAeC0Kd0IAAIDefwp3QgAAQETSCndCAAAAqiQLd0IAAMAPdwt3QgAAgHXJC3dCAABA2xsMd0IAAABBbgx3QgAAwKbADHdCAACADBMNd0IAAEByZQ13QgAAANi3DXdC\",\"dtype\":\"float64\",\"shape\":[54]},\"y\":[444,444,549,761,1058,1423,3554,3554,4903,5806,7153,11177,13522,16678,19665,22112,24953,27100,29631,31728,33366,33366,48206,54406,56249,58182,59989,61682,62031,62442,62662,64084,64084,64287,64786,65187,65596,65914,66337,66907,67103,67217,67332,67466,67592,67666,67707,67743,67760,67773,67781,67786,67790,67794]},\"selected\":{\"id\":\"7220\"},\"selection_policy\":{\"id\":\"7219\"}},\"id\":\"7040\",\"type\":\"ColumnDataSource\"},{\"attributes\":{\"background_fill_color\":\"#fafafa\",\"below\":[{\"id\":\"7018\"}],\"center\":[{\"id\":\"7021\"},{\"id\":\"7025\"},{\"id\":\"7052\"}],\"left\":[{\"id\":\"7022\"}],\"plot_height\":250,\"plot_width\":250,\"renderers\":[{\"id\":\"7043\"}],\"title\":{\"id\":\"7046\"},\"toolbar\":{\"id\":\"7033\"},\"x_range\":{\"id\":\"7010\"},\"x_scale\":{\"id\":\"7014\"},\"y_range\":{\"id\":\"7012\"},\"y_scale\":{\"id\":\"7016\"}},\"id\":\"7009\",\"subtype\":\"Figure\",\"type\":\"Plot\"},{\"attributes\":{\"axis\":{\"id\":\"7018\"},\"ticker\":null},\"id\":\"7021\",\"type\":\"Grid\"},{\"attributes\":{},\"id\":\"6981\",\"type\":\"PanTool\"},{\"attributes\":{},\"id\":\"7217\",\"type\":\"Selection\"},{\"attributes\":{},\"id\":\"7219\",\"type\":\"UnionRenderers\"},{\"attributes\":{\"formatter\":{\"id\":\"7050\"},\"ticker\":{\"id\":\"7023\"}},\"id\":\"7022\",\"type\":\"LinearAxis\"},{\"attributes\":{},\"id\":\"6985\",\"type\":\"ResetTool\"},{\"attributes\":{\"source\":{\"id\":\"7040\"}},\"id\":\"7044\",\"type\":\"CDSView\"},{\"attributes\":{},\"id\":\"7216\",\"type\":\"UnionRenderers\"},{\"attributes\":{\"bottom_units\":\"screen\",\"fill_alpha\":0.5,\"fill_color\":\"lightgrey\",\"left_units\":\"screen\",\"level\":\"overlay\",\"line_alpha\":1.0,\"line_color\":\"black\",\"line_dash\":[4,4],\"line_width\":2,\"render_mode\":\"css\",\"right_units\":\"screen\",\"top_units\":\"screen\"},\"id\":\"7032\",\"type\":\"BoxAnnotation\"},{\"attributes\":{\"formatter\":{\"id\":\"7005\"},\"ticker\":{\"id\":\"6978\"}},\"id\":\"6977\",\"type\":\"LinearAxis\"},{\"attributes\":{},\"id\":\"7050\",\"type\":\"BasicTickFormatter\"},{\"attributes\":{\"data_source\":{\"id\":\"6995\"},\"glyph\":{\"id\":\"6996\"},\"hover_glyph\":null,\"muted_glyph\":null,\"nonselection_glyph\":{\"id\":\"6997\"},\"selection_glyph\":null,\"view\":{\"id\":\"6999\"}},\"id\":\"6998\",\"type\":\"GlyphRenderer\"},{\"attributes\":{},\"id\":\"6984\",\"type\":\"SaveTool\"},{\"attributes\":{},\"id\":\"7026\",\"type\":\"PanTool\"},{\"attributes\":{},\"id\":\"7029\",\"type\":\"SaveTool\"},{\"attributes\":{\"active_drag\":\"auto\",\"active_inspect\":\"auto\",\"active_multi\":null,\"active_scroll\":\"auto\",\"active_tap\":\"auto\",\"tools\":[{\"id\":\"6981\"},{\"id\":\"6982\"},{\"id\":\"6983\"},{\"id\":\"6984\"},{\"id\":\"6985\"},{\"id\":\"6986\"}]},\"id\":\"6988\",\"type\":\"Toolbar\"},{\"attributes\":{},\"id\":\"6974\",\"type\":\"BasicTicker\"},{\"attributes\":{},\"id\":\"6982\",\"type\":\"WheelZoomTool\"},{\"attributes\":{\"label\":{\"value\":\"Anhui\"},\"renderers\":[{\"id\":\"6998\"}]},\"id\":\"7008\",\"type\":\"LegendItem\"},{\"attributes\":{\"overlay\":{\"id\":\"6987\"}},\"id\":\"6983\",\"type\":\"BoxZoomTool\"},{\"attributes\":{\"data_source\":{\"id\":\"7040\"},\"glyph\":{\"id\":\"7041\"},\"hover_glyph\":null,\"muted_glyph\":null,\"nonselection_glyph\":{\"id\":\"7042\"},\"selection_glyph\":null,\"view\":{\"id\":\"7044\"}},\"id\":\"7043\",\"type\":\"GlyphRenderer\"},{\"attributes\":{},\"id\":\"7030\",\"type\":\"ResetTool\"},{\"attributes\":{\"axis\":{\"id\":\"6973\"},\"ticker\":null},\"id\":\"6976\",\"type\":\"Grid\"},{\"attributes\":{\"text\":\"\"},\"id\":\"7001\",\"type\":\"Title\"},{\"attributes\":{},\"id\":\"7019\",\"type\":\"BasicTicker\"},{\"attributes\":{\"line_alpha\":0.8,\"line_color\":\"navy\",\"x\":{\"field\":\"x\"},\"y\":{\"field\":\"y\"}},\"id\":\"7041\",\"type\":\"Line\"},{\"attributes\":{},\"id\":\"7012\",\"type\":\"DataRange1d\"},{\"attributes\":{},\"id\":\"7048\",\"type\":\"BasicTickFormatter\"}],\"root_ids\":[\"7054\"]},\"title\":\"Bokeh Application\",\"version\":\"2.0.2\"}};\n  var render_items = [{\"docid\":\"4527e8f7-e83d-4f86-a244-91648bd5a54f\",\"notebook_comms_target\":\"7221\",\"root_ids\":[\"7054\"],\"roots\":{\"7054\":\"3aefa524-765e-4e62-8fe3-3741fcd6241f\"}}];\n  root.Bokeh.embed.embed_items_notebook(docs_json, render_items);\n\n  }\n  if (root.Bokeh !== undefined) {\n    embed_document(root);\n  } else {\n    var attempts = 0;\n    var timer = setInterval(function(root) {\n      if (root.Bokeh !== undefined) {\n        clearInterval(timer);\n        embed_document(root);\n      } else {\n        attempts++;\n        if (attempts > 100) {\n          clearInterval(timer);\n          console.log(\"Bokeh: ERROR: Unable to run BokehJS code because BokehJS library is missing\");\n        }\n      }\n    }, 10, root)\n  }\n})(window);",
      "application/vnd.bokehjs_exec.v0+json": ""
     },
     "metadata": {
      "application/vnd.bokehjs_exec.v0+json": {
       "id": "7054"
      }
     }
    },
    {
     "output_type": "execute_result",
     "data": {
      "text/plain": "<bokeh.io.notebook.CommsHandle at 0x22332818248>",
      "text/html": "<p><code>&lt;Bokeh Notebook handle for <strong>In[42]</strong>&gt;</code></p>"
     },
     "metadata": {},
     "execution_count": 42
    }
   ],
   "source": [
    "from bokeh.layouts import column \n",
    "\n",
    "s1 = figure(plot_width = 250, plot_height = 250,background_fill_color=\"#fafafa\")\n",
    "s1.line(ahncov['Observation Date'], ahconfirmed, color = 'firebrick', alpha = 0.5, legend_label = 'Anhui')\n",
    "\n",
    "s2 = figure(plot_width = 250, plot_height = 250,background_fill_color=\"#fafafa\")\n",
    "s2.line(ahncov['Observation Date'], hbconfirmed, color = 'navy', alpha = 0.8, legend_label = 'Hubei')\n",
    "\n",
    "show(column(s1, s2), notebook_handle=True)"
   ]
  },
  {
   "cell_type": "markdown",
   "metadata": {},
   "source": [
    "- 按行展示："
   ]
  },
  {
   "cell_type": "code",
   "execution_count": 43,
   "metadata": {},
   "outputs": [
    {
     "output_type": "display_data",
     "data": {
      "text/html": "\n\n\n\n\n\n  <div class=\"bk-root\" id=\"f812e661-2c97-46b8-9eab-be60a7467343\" data-root-id=\"7420\"></div>\n"
     },
     "metadata": {}
    },
    {
     "output_type": "display_data",
     "data": {
      "application/javascript": "(function(root) {\n  function embed_document(root) {\n    \n  var docs_json = {\"b45b7b88-df3d-4e37-aeae-d593a30ca621\":{\"roots\":{\"references\":[{\"attributes\":{\"children\":[{\"id\":\"7330\"},{\"id\":\"7375\"}]},\"id\":\"7420\",\"type\":\"Row\"},{\"attributes\":{\"line_alpha\":0.1,\"line_color\":\"firebrick\",\"x\":{\"field\":\"x\"},\"y\":{\"field\":\"y\"}},\"id\":\"7363\",\"type\":\"Line\"},{\"attributes\":{\"bottom_units\":\"screen\",\"fill_alpha\":0.5,\"fill_color\":\"lightgrey\",\"left_units\":\"screen\",\"level\":\"overlay\",\"line_alpha\":1.0,\"line_color\":\"black\",\"line_dash\":[4,4],\"line_width\":2,\"render_mode\":\"css\",\"right_units\":\"screen\",\"top_units\":\"screen\"},\"id\":\"7398\",\"type\":\"BoxAnnotation\"},{\"attributes\":{},\"id\":\"7350\",\"type\":\"SaveTool\"},{\"attributes\":{},\"id\":\"7397\",\"type\":\"HelpTool\"},{\"attributes\":{},\"id\":\"7600\",\"type\":\"UnionRenderers\"},{\"attributes\":{},\"id\":\"7333\",\"type\":\"DataRange1d\"},{\"attributes\":{},\"id\":\"7347\",\"type\":\"PanTool\"},{\"attributes\":{},\"id\":\"7382\",\"type\":\"LinearScale\"},{\"attributes\":{},\"id\":\"7395\",\"type\":\"SaveTool\"},{\"attributes\":{},\"id\":\"7385\",\"type\":\"BasicTicker\"},{\"attributes\":{},\"id\":\"7344\",\"type\":\"BasicTicker\"},{\"attributes\":{\"line_alpha\":0.1,\"line_color\":\"navy\",\"x\":{\"field\":\"x\"},\"y\":{\"field\":\"y\"}},\"id\":\"7408\",\"type\":\"Line\"},{\"attributes\":{},\"id\":\"7604\",\"type\":\"Selection\"},{\"attributes\":{\"axis\":{\"id\":\"7384\"},\"ticker\":null},\"id\":\"7387\",\"type\":\"Grid\"},{\"attributes\":{\"axis\":{\"id\":\"7343\"},\"dimension\":1,\"ticker\":null},\"id\":\"7346\",\"type\":\"Grid\"},{\"attributes\":{},\"id\":\"7393\",\"type\":\"WheelZoomTool\"},{\"attributes\":{},\"id\":\"7331\",\"type\":\"DataRange1d\"},{\"attributes\":{},\"id\":\"7601\",\"type\":\"Selection\"},{\"attributes\":{\"label\":{\"value\":\"Anhui\"},\"renderers\":[{\"id\":\"7364\"}]},\"id\":\"7374\",\"type\":\"LegendItem\"},{\"attributes\":{},\"id\":\"7351\",\"type\":\"ResetTool\"},{\"attributes\":{\"line_alpha\":0.8,\"line_color\":\"navy\",\"x\":{\"field\":\"x\"},\"y\":{\"field\":\"y\"}},\"id\":\"7407\",\"type\":\"Line\"},{\"attributes\":{\"background_fill_color\":\"#fafafa\",\"below\":[{\"id\":\"7384\"}],\"center\":[{\"id\":\"7387\"},{\"id\":\"7391\"},{\"id\":\"7418\"}],\"left\":[{\"id\":\"7388\"}],\"plot_height\":250,\"plot_width\":250,\"renderers\":[{\"id\":\"7409\"}],\"title\":{\"id\":\"7412\"},\"toolbar\":{\"id\":\"7399\"},\"x_range\":{\"id\":\"7376\"},\"x_scale\":{\"id\":\"7380\"},\"y_range\":{\"id\":\"7378\"},\"y_scale\":{\"id\":\"7382\"}},\"id\":\"7375\",\"subtype\":\"Figure\",\"type\":\"Plot\"},{\"attributes\":{\"active_drag\":\"auto\",\"active_inspect\":\"auto\",\"active_multi\":null,\"active_scroll\":\"auto\",\"active_tap\":\"auto\",\"tools\":[{\"id\":\"7347\"},{\"id\":\"7348\"},{\"id\":\"7349\"},{\"id\":\"7350\"},{\"id\":\"7351\"},{\"id\":\"7352\"}]},\"id\":\"7354\",\"type\":\"Toolbar\"},{\"attributes\":{},\"id\":\"7335\",\"type\":\"LinearScale\"},{\"attributes\":{\"line_alpha\":0.5,\"line_color\":\"firebrick\",\"x\":{\"field\":\"x\"},\"y\":{\"field\":\"y\"}},\"id\":\"7362\",\"type\":\"Line\"},{\"attributes\":{\"text\":\"\"},\"id\":\"7367\",\"type\":\"Title\"},{\"attributes\":{\"text\":\"\"},\"id\":\"7412\",\"type\":\"Title\"},{\"attributes\":{},\"id\":\"7396\",\"type\":\"ResetTool\"},{\"attributes\":{\"background_fill_color\":\"#fafafa\",\"below\":[{\"id\":\"7339\"}],\"center\":[{\"id\":\"7342\"},{\"id\":\"7346\"},{\"id\":\"7373\"}],\"left\":[{\"id\":\"7343\"}],\"plot_height\":250,\"plot_width\":250,\"renderers\":[{\"id\":\"7364\"}],\"title\":{\"id\":\"7367\"},\"toolbar\":{\"id\":\"7354\"},\"x_range\":{\"id\":\"7331\"},\"x_scale\":{\"id\":\"7335\"},\"y_range\":{\"id\":\"7333\"},\"y_scale\":{\"id\":\"7337\"}},\"id\":\"7330\",\"subtype\":\"Figure\",\"type\":\"Plot\"},{\"attributes\":{\"formatter\":{\"id\":\"7371\"},\"ticker\":{\"id\":\"7344\"}},\"id\":\"7343\",\"type\":\"LinearAxis\"},{\"attributes\":{\"active_drag\":\"auto\",\"active_inspect\":\"auto\",\"active_multi\":null,\"active_scroll\":\"auto\",\"active_tap\":\"auto\",\"tools\":[{\"id\":\"7392\"},{\"id\":\"7393\"},{\"id\":\"7394\"},{\"id\":\"7395\"},{\"id\":\"7396\"},{\"id\":\"7397\"}]},\"id\":\"7399\",\"type\":\"Toolbar\"},{\"attributes\":{},\"id\":\"7378\",\"type\":\"DataRange1d\"},{\"attributes\":{},\"id\":\"7348\",\"type\":\"WheelZoomTool\"},{\"attributes\":{},\"id\":\"7389\",\"type\":\"BasicTicker\"},{\"attributes\":{},\"id\":\"7603\",\"type\":\"UnionRenderers\"},{\"attributes\":{\"axis\":{\"id\":\"7339\"},\"ticker\":null},\"id\":\"7342\",\"type\":\"Grid\"},{\"attributes\":{\"source\":{\"id\":\"7361\"}},\"id\":\"7365\",\"type\":\"CDSView\"},{\"attributes\":{\"label\":{\"value\":\"Hubei\"},\"renderers\":[{\"id\":\"7409\"}]},\"id\":\"7419\",\"type\":\"LegendItem\"},{\"attributes\":{},\"id\":\"7376\",\"type\":\"DataRange1d\"},{\"attributes\":{\"items\":[{\"id\":\"7374\"}]},\"id\":\"7373\",\"type\":\"Legend\"},{\"attributes\":{\"data_source\":{\"id\":\"7361\"},\"glyph\":{\"id\":\"7362\"},\"hover_glyph\":null,\"muted_glyph\":null,\"nonselection_glyph\":{\"id\":\"7363\"},\"selection_glyph\":null,\"view\":{\"id\":\"7365\"}},\"id\":\"7364\",\"type\":\"GlyphRenderer\"},{\"attributes\":{\"axis\":{\"id\":\"7388\"},\"dimension\":1,\"ticker\":null},\"id\":\"7391\",\"type\":\"Grid\"},{\"attributes\":{\"data_source\":{\"id\":\"7406\"},\"glyph\":{\"id\":\"7407\"},\"hover_glyph\":null,\"muted_glyph\":null,\"nonselection_glyph\":{\"id\":\"7408\"},\"selection_glyph\":null,\"view\":{\"id\":\"7410\"}},\"id\":\"7409\",\"type\":\"GlyphRenderer\"},{\"attributes\":{\"formatter\":{\"id\":\"7416\"},\"ticker\":{\"id\":\"7389\"}},\"id\":\"7388\",\"type\":\"LinearAxis\"},{\"attributes\":{\"overlay\":{\"id\":\"7353\"}},\"id\":\"7349\",\"type\":\"BoxZoomTool\"},{\"attributes\":{\"items\":[{\"id\":\"7419\"}]},\"id\":\"7418\",\"type\":\"Legend\"},{\"attributes\":{},\"id\":\"7392\",\"type\":\"PanTool\"},{\"attributes\":{\"data\":{\"x\":{\"__ndarray__\":\"AABAx6j8dkIAAAAt+/x2QgAAwJJN/XZCAACA+J/9dkIAAEBe8v12QgAAAMRE/nZCAADAKZf+dkIAAICP6f52QgAAQPU7/3ZCAAAAW47/dkIAAMDA4P92QgAAgCYzAHdCAABAjIUAd0IAAADy1wB3QgAAwFcqAXdCAACAvXwBd0IAAEAjzwF3QgAAAIkhAndCAADA7nMCd0IAAIBUxgJ3QgAAQLoYA3dCAAAAIGsDd0IAAMCFvQN3QgAAgOsPBHdCAABAUWIEd0IAAAC3tAR3QgAAwBwHBXdCAACAglkFd0IAAEDoqwV3QgAAAE7+BXdCAADAs1AGd0IAAIAZowZ3QgAAQH/1BndCAAAA5UcHd0IAAMBKmgd3QgAAgLDsB3dCAABAFj8Id0IAAAB8kQh3QgAAwOHjCHdCAACARzYJd0IAAECtiAl3QgAAABPbCXdCAADAeC0Kd0IAAIDefwp3QgAAQETSCndCAAAAqiQLd0IAAMAPdwt3QgAAgHXJC3dCAABA2xsMd0IAAABBbgx3QgAAwKbADHdCAACADBMNd0IAAEByZQ13QgAAANi3DXdC\",\"dtype\":\"float64\",\"shape\":[54]},\"y\":[444,444,549,761,1058,1423,3554,3554,4903,5806,7153,11177,13522,16678,19665,22112,24953,27100,29631,31728,33366,33366,48206,54406,56249,58182,59989,61682,62031,62442,62662,64084,64084,64287,64786,65187,65596,65914,66337,66907,67103,67217,67332,67466,67592,67666,67707,67743,67760,67773,67781,67786,67790,67794]},\"selected\":{\"id\":\"7604\"},\"selection_policy\":{\"id\":\"7603\"}},\"id\":\"7406\",\"type\":\"ColumnDataSource\"},{\"attributes\":{},\"id\":\"7369\",\"type\":\"BasicTickFormatter\"},{\"attributes\":{\"data\":{\"x\":{\"__ndarray__\":\"AABAx6j8dkIAAAAt+/x2QgAAwJJN/XZCAACA+J/9dkIAAEBe8v12QgAAAMRE/nZCAADAKZf+dkIAAICP6f52QgAAQPU7/3ZCAAAAW47/dkIAAMDA4P92QgAAgCYzAHdCAABAjIUAd0IAAADy1wB3QgAAwFcqAXdCAACAvXwBd0IAAEAjzwF3QgAAAIkhAndCAADA7nMCd0IAAIBUxgJ3QgAAQLoYA3dCAAAAIGsDd0IAAMCFvQN3QgAAgOsPBHdCAABAUWIEd0IAAAC3tAR3QgAAwBwHBXdCAACAglkFd0IAAEDoqwV3QgAAAE7+BXdCAADAs1AGd0IAAIAZowZ3QgAAQH/1BndCAAAA5UcHd0IAAMBKmgd3QgAAgLDsB3dCAABAFj8Id0IAAAB8kQh3QgAAwOHjCHdCAACARzYJd0IAAECtiAl3QgAAABPbCXdCAADAeC0Kd0IAAIDefwp3QgAAQETSCndCAAAAqiQLd0IAAMAPdwt3QgAAgHXJC3dCAABA2xsMd0IAAABBbgx3QgAAwKbADHdCAACADBMNd0IAAEByZQ13QgAAANi3DXdC\",\"dtype\":\"float64\",\"shape\":[54]},\"y\":[1,9,15,39,60,70,106,152,200,237,297,340,408,480,530,591,665,733,779,830,860,889,910,934,950,962,973,982,986,987,988,989,989,989,989,989,989,990,990,990,990,990,990,990,990,990,990,990,990,990,990,990,990,990]},\"selected\":{\"id\":\"7601\"},\"selection_policy\":{\"id\":\"7600\"}},\"id\":\"7361\",\"type\":\"ColumnDataSource\"},{\"attributes\":{},\"id\":\"7380\",\"type\":\"LinearScale\"},{\"attributes\":{\"bottom_units\":\"screen\",\"fill_alpha\":0.5,\"fill_color\":\"lightgrey\",\"left_units\":\"screen\",\"level\":\"overlay\",\"line_alpha\":1.0,\"line_color\":\"black\",\"line_dash\":[4,4],\"line_width\":2,\"render_mode\":\"css\",\"right_units\":\"screen\",\"top_units\":\"screen\"},\"id\":\"7353\",\"type\":\"BoxAnnotation\"},{\"attributes\":{\"overlay\":{\"id\":\"7398\"}},\"id\":\"7394\",\"type\":\"BoxZoomTool\"},{\"attributes\":{},\"id\":\"7414\",\"type\":\"BasicTickFormatter\"},{\"attributes\":{},\"id\":\"7416\",\"type\":\"BasicTickFormatter\"},{\"attributes\":{\"formatter\":{\"id\":\"7369\"},\"ticker\":{\"id\":\"7340\"}},\"id\":\"7339\",\"type\":\"LinearAxis\"},{\"attributes\":{},\"id\":\"7337\",\"type\":\"LinearScale\"},{\"attributes\":{},\"id\":\"7352\",\"type\":\"HelpTool\"},{\"attributes\":{},\"id\":\"7371\",\"type\":\"BasicTickFormatter\"},{\"attributes\":{\"source\":{\"id\":\"7406\"}},\"id\":\"7410\",\"type\":\"CDSView\"},{\"attributes\":{\"formatter\":{\"id\":\"7414\"},\"ticker\":{\"id\":\"7385\"}},\"id\":\"7384\",\"type\":\"LinearAxis\"},{\"attributes\":{},\"id\":\"7340\",\"type\":\"BasicTicker\"}],\"root_ids\":[\"7420\"]},\"title\":\"Bokeh Application\",\"version\":\"2.0.2\"}};\n  var render_items = [{\"docid\":\"b45b7b88-df3d-4e37-aeae-d593a30ca621\",\"notebook_comms_target\":\"7605\",\"root_ids\":[\"7420\"],\"roots\":{\"7420\":\"f812e661-2c97-46b8-9eab-be60a7467343\"}}];\n  root.Bokeh.embed.embed_items_notebook(docs_json, render_items);\n\n  }\n  if (root.Bokeh !== undefined) {\n    embed_document(root);\n  } else {\n    var attempts = 0;\n    var timer = setInterval(function(root) {\n      if (root.Bokeh !== undefined) {\n        clearInterval(timer);\n        embed_document(root);\n      } else {\n        attempts++;\n        if (attempts > 100) {\n          clearInterval(timer);\n          console.log(\"Bokeh: ERROR: Unable to run BokehJS code because BokehJS library is missing\");\n        }\n      }\n    }, 10, root)\n  }\n})(window);",
      "application/vnd.bokehjs_exec.v0+json": ""
     },
     "metadata": {
      "application/vnd.bokehjs_exec.v0+json": {
       "id": "7420"
      }
     }
    },
    {
     "output_type": "execute_result",
     "data": {
      "text/plain": "<bokeh.io.notebook.CommsHandle at 0x22332896c88>",
      "text/html": "<p><code>&lt;Bokeh Notebook handle for <strong>In[43]</strong>&gt;</code></p>"
     },
     "metadata": {},
     "execution_count": 43
    }
   ],
   "source": [
    "from bokeh.layouts import row\n",
    "\n",
    "s1 = figure(plot_width = 250, plot_height = 250,background_fill_color=\"#fafafa\")\n",
    "s1.line(ahncov['Observation Date'], ahconfirmed, color = 'firebrick', alpha = 0.5, legend_label = 'Anhui')\n",
    "\n",
    "s2 = figure(plot_width = 250, plot_height = 250,background_fill_color=\"#fafafa\")\n",
    "s2.line(ahncov['Observation Date'], hbconfirmed, color = 'navy', alpha = 0.8, legend_label = 'Hubei')\n",
    "\n",
    "show(row(s1, s2), notebook_handle=True)"
   ]
  },
  {
   "cell_type": "markdown",
   "metadata": {},
   "source": [
    "- 分区域展示（grid）"
   ]
  },
  {
   "cell_type": "code",
   "execution_count": 44,
   "metadata": {},
   "outputs": [
    {
     "output_type": "display_data",
     "data": {
      "text/html": "\n\n\n\n\n\n  <div class=\"bk-root\" id=\"fbb92a00-3939-48b1-848a-395482283dec\" data-root-id=\"7827\"></div>\n"
     },
     "metadata": {}
    },
    {
     "output_type": "display_data",
     "data": {
      "application/javascript": "(function(root) {\n  function embed_document(root) {\n    \n  var docs_json = {\"dbe796cc-2945-4ac2-9e5a-b479a01aae4a\":{\"roots\":{\"references\":[{\"attributes\":{\"children\":[{\"id\":\"7826\"},{\"id\":\"7824\"}]},\"id\":\"7827\",\"type\":\"Column\"},{\"attributes\":{},\"id\":\"7753\",\"type\":\"BasicTickFormatter\"},{\"attributes\":{\"line_alpha\":0.1,\"line_color\":\"firebrick\",\"x\":{\"field\":\"x\"},\"y\":{\"field\":\"y\"}},\"id\":\"7747\",\"type\":\"Line\"},{\"attributes\":{},\"id\":\"7812\",\"type\":\"Selection\"},{\"attributes\":{\"formatter\":{\"id\":\"7753\"},\"ticker\":{\"id\":\"7724\"}},\"id\":\"7723\",\"type\":\"LinearAxis\"},{\"attributes\":{\"overlay\":{\"id\":\"7737\"}},\"id\":\"7733\",\"type\":\"BoxZoomTool\"},{\"attributes\":{\"active_drag\":\"auto\",\"active_inspect\":\"auto\",\"active_multi\":null,\"active_scroll\":\"auto\",\"active_tap\":\"auto\",\"tools\":[{\"id\":\"7776\"},{\"id\":\"7777\"},{\"id\":\"7778\"},{\"id\":\"7779\"},{\"id\":\"7780\"},{\"id\":\"7781\"}]},\"id\":\"7783\",\"type\":\"Toolbar\"},{\"attributes\":{\"items\":[{\"id\":\"7803\"}]},\"id\":\"7802\",\"type\":\"Legend\"},{\"attributes\":{},\"id\":\"7755\",\"type\":\"BasicTickFormatter\"},{\"attributes\":{},\"id\":\"7734\",\"type\":\"SaveTool\"},{\"attributes\":{\"line_alpha\":0.8,\"line_color\":\"navy\",\"x\":{\"field\":\"x\"},\"y\":{\"field\":\"y\"}},\"id\":\"7791\",\"type\":\"Line\"},{\"attributes\":{},\"id\":\"7800\",\"type\":\"BasicTickFormatter\"},{\"attributes\":{\"axis\":{\"id\":\"7723\"},\"ticker\":null},\"id\":\"7726\",\"type\":\"Grid\"},{\"attributes\":{},\"id\":\"7762\",\"type\":\"DataRange1d\"},{\"attributes\":{},\"id\":\"7769\",\"type\":\"BasicTicker\"},{\"attributes\":{\"label\":{\"value\":\"Anhui\"},\"renderers\":[{\"id\":\"7748\"}]},\"id\":\"7758\",\"type\":\"LegendItem\"},{\"attributes\":{},\"id\":\"7779\",\"type\":\"SaveTool\"},{\"attributes\":{},\"id\":\"7717\",\"type\":\"DataRange1d\"},{\"attributes\":{},\"id\":\"7724\",\"type\":\"BasicTicker\"},{\"attributes\":{},\"id\":\"7798\",\"type\":\"BasicTickFormatter\"},{\"attributes\":{\"overlay\":{\"id\":\"7782\"}},\"id\":\"7778\",\"type\":\"BoxZoomTool\"},{\"attributes\":{\"toolbar\":{\"id\":\"7825\"},\"toolbar_location\":\"above\"},\"id\":\"7826\",\"type\":\"ToolbarBox\"},{\"attributes\":{\"text\":\"\"},\"id\":\"7796\",\"type\":\"Title\"},{\"attributes\":{},\"id\":\"7721\",\"type\":\"LinearScale\"},{\"attributes\":{\"formatter\":{\"id\":\"7798\"},\"ticker\":{\"id\":\"7769\"}},\"id\":\"7768\",\"type\":\"LinearAxis\"},{\"attributes\":{\"background_fill_color\":\"#fafafa\",\"below\":[{\"id\":\"7768\"}],\"center\":[{\"id\":\"7771\"},{\"id\":\"7775\"},{\"id\":\"7802\"}],\"left\":[{\"id\":\"7772\"}],\"plot_height\":250,\"plot_width\":250,\"renderers\":[{\"id\":\"7793\"}],\"title\":{\"id\":\"7796\"},\"toolbar\":{\"id\":\"7783\"},\"toolbar_location\":null,\"x_range\":{\"id\":\"7760\"},\"x_scale\":{\"id\":\"7764\"},\"y_range\":{\"id\":\"7762\"},\"y_scale\":{\"id\":\"7766\"}},\"id\":\"7759\",\"subtype\":\"Figure\",\"type\":\"Plot\"},{\"attributes\":{},\"id\":\"7821\",\"type\":\"UnionRenderers\"},{\"attributes\":{\"children\":[[{\"id\":\"7714\"},0,0],[{\"id\":\"7759\"},1,1]]},\"id\":\"7824\",\"type\":\"GridBox\"},{\"attributes\":{},\"id\":\"7780\",\"type\":\"ResetTool\"},{\"attributes\":{\"active_drag\":\"auto\",\"active_inspect\":\"auto\",\"active_multi\":null,\"active_scroll\":\"auto\",\"active_tap\":\"auto\",\"tools\":[{\"id\":\"7731\"},{\"id\":\"7732\"},{\"id\":\"7733\"},{\"id\":\"7734\"},{\"id\":\"7735\"},{\"id\":\"7736\"}]},\"id\":\"7738\",\"type\":\"Toolbar\"},{\"attributes\":{},\"id\":\"7715\",\"type\":\"DataRange1d\"},{\"attributes\":{\"data_source\":{\"id\":\"7745\"},\"glyph\":{\"id\":\"7746\"},\"hover_glyph\":null,\"muted_glyph\":null,\"nonselection_glyph\":{\"id\":\"7747\"},\"selection_glyph\":null,\"view\":{\"id\":\"7749\"}},\"id\":\"7748\",\"type\":\"GlyphRenderer\"},{\"attributes\":{},\"id\":\"7822\",\"type\":\"Selection\"},{\"attributes\":{\"background_fill_color\":\"#fafafa\",\"below\":[{\"id\":\"7723\"}],\"center\":[{\"id\":\"7726\"},{\"id\":\"7730\"},{\"id\":\"7757\"}],\"left\":[{\"id\":\"7727\"}],\"plot_height\":250,\"plot_width\":250,\"renderers\":[{\"id\":\"7748\"}],\"title\":{\"id\":\"7751\"},\"toolbar\":{\"id\":\"7738\"},\"toolbar_location\":null,\"x_range\":{\"id\":\"7715\"},\"x_scale\":{\"id\":\"7719\"},\"y_range\":{\"id\":\"7717\"},\"y_scale\":{\"id\":\"7721\"}},\"id\":\"7714\",\"subtype\":\"Figure\",\"type\":\"Plot\"},{\"attributes\":{},\"id\":\"7760\",\"type\":\"DataRange1d\"},{\"attributes\":{\"toolbars\":[{\"id\":\"7738\"},{\"id\":\"7783\"}],\"tools\":[{\"id\":\"7731\"},{\"id\":\"7732\"},{\"id\":\"7733\"},{\"id\":\"7734\"},{\"id\":\"7735\"},{\"id\":\"7736\"},{\"id\":\"7776\"},{\"id\":\"7777\"},{\"id\":\"7778\"},{\"id\":\"7779\"},{\"id\":\"7780\"},{\"id\":\"7781\"}]},\"id\":\"7825\",\"type\":\"ProxyToolbar\"},{\"attributes\":{},\"id\":\"7781\",\"type\":\"HelpTool\"},{\"attributes\":{},\"id\":\"7732\",\"type\":\"WheelZoomTool\"},{\"attributes\":{\"source\":{\"id\":\"7745\"}},\"id\":\"7749\",\"type\":\"CDSView\"},{\"attributes\":{},\"id\":\"7776\",\"type\":\"PanTool\"},{\"attributes\":{\"text\":\"\"},\"id\":\"7751\",\"type\":\"Title\"},{\"attributes\":{},\"id\":\"7766\",\"type\":\"LinearScale\"},{\"attributes\":{},\"id\":\"7777\",\"type\":\"WheelZoomTool\"},{\"attributes\":{},\"id\":\"7719\",\"type\":\"LinearScale\"},{\"attributes\":{\"label\":{\"value\":\"Hubei\"},\"renderers\":[{\"id\":\"7793\"}]},\"id\":\"7803\",\"type\":\"LegendItem\"},{\"attributes\":{\"source\":{\"id\":\"7790\"}},\"id\":\"7794\",\"type\":\"CDSView\"},{\"attributes\":{\"items\":[{\"id\":\"7758\"}]},\"id\":\"7757\",\"type\":\"Legend\"},{\"attributes\":{},\"id\":\"7811\",\"type\":\"UnionRenderers\"},{\"attributes\":{\"axis\":{\"id\":\"7727\"},\"dimension\":1,\"ticker\":null},\"id\":\"7730\",\"type\":\"Grid\"},{\"attributes\":{\"formatter\":{\"id\":\"7755\"},\"ticker\":{\"id\":\"7728\"}},\"id\":\"7727\",\"type\":\"LinearAxis\"},{\"attributes\":{\"data\":{\"x\":{\"__ndarray__\":\"AABAx6j8dkIAAAAt+/x2QgAAwJJN/XZCAACA+J/9dkIAAEBe8v12QgAAAMRE/nZCAADAKZf+dkIAAICP6f52QgAAQPU7/3ZCAAAAW47/dkIAAMDA4P92QgAAgCYzAHdCAABAjIUAd0IAAADy1wB3QgAAwFcqAXdCAACAvXwBd0IAAEAjzwF3QgAAAIkhAndCAADA7nMCd0IAAIBUxgJ3QgAAQLoYA3dCAAAAIGsDd0IAAMCFvQN3QgAAgOsPBHdCAABAUWIEd0IAAAC3tAR3QgAAwBwHBXdCAACAglkFd0IAAEDoqwV3QgAAAE7+BXdCAADAs1AGd0IAAIAZowZ3QgAAQH/1BndCAAAA5UcHd0IAAMBKmgd3QgAAgLDsB3dCAABAFj8Id0IAAAB8kQh3QgAAwOHjCHdCAACARzYJd0IAAECtiAl3QgAAABPbCXdCAADAeC0Kd0IAAIDefwp3QgAAQETSCndCAAAAqiQLd0IAAMAPdwt3QgAAgHXJC3dCAABA2xsMd0IAAABBbgx3QgAAwKbADHdCAACADBMNd0IAAEByZQ13QgAAANi3DXdC\",\"dtype\":\"float64\",\"shape\":[54]},\"y\":[1,9,15,39,60,70,106,152,200,237,297,340,408,480,530,591,665,733,779,830,860,889,910,934,950,962,973,982,986,987,988,989,989,989,989,989,989,990,990,990,990,990,990,990,990,990,990,990,990,990,990,990,990,990]},\"selected\":{\"id\":\"7812\"},\"selection_policy\":{\"id\":\"7811\"}},\"id\":\"7745\",\"type\":\"ColumnDataSource\"},{\"attributes\":{\"axis\":{\"id\":\"7772\"},\"dimension\":1,\"ticker\":null},\"id\":\"7775\",\"type\":\"Grid\"},{\"attributes\":{},\"id\":\"7773\",\"type\":\"BasicTicker\"},{\"attributes\":{\"bottom_units\":\"screen\",\"fill_alpha\":0.5,\"fill_color\":\"lightgrey\",\"left_units\":\"screen\",\"level\":\"overlay\",\"line_alpha\":1.0,\"line_color\":\"black\",\"line_dash\":[4,4],\"line_width\":2,\"render_mode\":\"css\",\"right_units\":\"screen\",\"top_units\":\"screen\"},\"id\":\"7782\",\"type\":\"BoxAnnotation\"},{\"attributes\":{\"formatter\":{\"id\":\"7800\"},\"ticker\":{\"id\":\"7773\"}},\"id\":\"7772\",\"type\":\"LinearAxis\"},{\"attributes\":{\"bottom_units\":\"screen\",\"fill_alpha\":0.5,\"fill_color\":\"lightgrey\",\"left_units\":\"screen\",\"level\":\"overlay\",\"line_alpha\":1.0,\"line_color\":\"black\",\"line_dash\":[4,4],\"line_width\":2,\"render_mode\":\"css\",\"right_units\":\"screen\",\"top_units\":\"screen\"},\"id\":\"7737\",\"type\":\"BoxAnnotation\"},{\"attributes\":{\"line_alpha\":0.5,\"line_color\":\"firebrick\",\"x\":{\"field\":\"x\"},\"y\":{\"field\":\"y\"}},\"id\":\"7746\",\"type\":\"Line\"},{\"attributes\":{\"axis\":{\"id\":\"7768\"},\"ticker\":null},\"id\":\"7771\",\"type\":\"Grid\"},{\"attributes\":{},\"id\":\"7728\",\"type\":\"BasicTicker\"},{\"attributes\":{},\"id\":\"7736\",\"type\":\"HelpTool\"},{\"attributes\":{\"data_source\":{\"id\":\"7790\"},\"glyph\":{\"id\":\"7791\"},\"hover_glyph\":null,\"muted_glyph\":null,\"nonselection_glyph\":{\"id\":\"7792\"},\"selection_glyph\":null,\"view\":{\"id\":\"7794\"}},\"id\":\"7793\",\"type\":\"GlyphRenderer\"},{\"attributes\":{\"line_alpha\":0.1,\"line_color\":\"navy\",\"x\":{\"field\":\"x\"},\"y\":{\"field\":\"y\"}},\"id\":\"7792\",\"type\":\"Line\"},{\"attributes\":{},\"id\":\"7731\",\"type\":\"PanTool\"},{\"attributes\":{},\"id\":\"7764\",\"type\":\"LinearScale\"},{\"attributes\":{\"data\":{\"x\":{\"__ndarray__\":\"AABAx6j8dkIAAAAt+/x2QgAAwJJN/XZCAACA+J/9dkIAAEBe8v12QgAAAMRE/nZCAADAKZf+dkIAAICP6f52QgAAQPU7/3ZCAAAAW47/dkIAAMDA4P92QgAAgCYzAHdCAABAjIUAd0IAAADy1wB3QgAAwFcqAXdCAACAvXwBd0IAAEAjzwF3QgAAAIkhAndCAADA7nMCd0IAAIBUxgJ3QgAAQLoYA3dCAAAAIGsDd0IAAMCFvQN3QgAAgOsPBHdCAABAUWIEd0IAAAC3tAR3QgAAwBwHBXdCAACAglkFd0IAAEDoqwV3QgAAAE7+BXdCAADAs1AGd0IAAIAZowZ3QgAAQH/1BndCAAAA5UcHd0IAAMBKmgd3QgAAgLDsB3dCAABAFj8Id0IAAAB8kQh3QgAAwOHjCHdCAACARzYJd0IAAECtiAl3QgAAABPbCXdCAADAeC0Kd0IAAIDefwp3QgAAQETSCndCAAAAqiQLd0IAAMAPdwt3QgAAgHXJC3dCAABA2xsMd0IAAABBbgx3QgAAwKbADHdCAACADBMNd0IAAEByZQ13QgAAANi3DXdC\",\"dtype\":\"float64\",\"shape\":[54]},\"y\":[444,444,549,761,1058,1423,3554,3554,4903,5806,7153,11177,13522,16678,19665,22112,24953,27100,29631,31728,33366,33366,48206,54406,56249,58182,59989,61682,62031,62442,62662,64084,64084,64287,64786,65187,65596,65914,66337,66907,67103,67217,67332,67466,67592,67666,67707,67743,67760,67773,67781,67786,67790,67794]},\"selected\":{\"id\":\"7822\"},\"selection_policy\":{\"id\":\"7821\"}},\"id\":\"7790\",\"type\":\"ColumnDataSource\"},{\"attributes\":{},\"id\":\"7735\",\"type\":\"ResetTool\"}],\"root_ids\":[\"7827\"]},\"title\":\"Bokeh Application\",\"version\":\"2.0.2\"}};\n  var render_items = [{\"docid\":\"dbe796cc-2945-4ac2-9e5a-b479a01aae4a\",\"notebook_comms_target\":\"8030\",\"root_ids\":[\"7827\"],\"roots\":{\"7827\":\"fbb92a00-3939-48b1-848a-395482283dec\"}}];\n  root.Bokeh.embed.embed_items_notebook(docs_json, render_items);\n\n  }\n  if (root.Bokeh !== undefined) {\n    embed_document(root);\n  } else {\n    var attempts = 0;\n    var timer = setInterval(function(root) {\n      if (root.Bokeh !== undefined) {\n        clearInterval(timer);\n        embed_document(root);\n      } else {\n        attempts++;\n        if (attempts > 100) {\n          clearInterval(timer);\n          console.log(\"Bokeh: ERROR: Unable to run BokehJS code because BokehJS library is missing\");\n        }\n      }\n    }, 10, root)\n  }\n})(window);",
      "application/vnd.bokehjs_exec.v0+json": ""
     },
     "metadata": {
      "application/vnd.bokehjs_exec.v0+json": {
       "id": "7827"
      }
     }
    },
    {
     "output_type": "execute_result",
     "data": {
      "text/plain": "<bokeh.io.notebook.CommsHandle at 0x22332707a88>",
      "text/html": "<p><code>&lt;Bokeh Notebook handle for <strong>In[44]</strong>&gt;</code></p>"
     },
     "metadata": {},
     "execution_count": 44
    }
   ],
   "source": [
    "from bokeh.layouts import gridplot\n",
    "\n",
    "s1 = figure(background_fill_color=\"#fafafa\")\n",
    "s1.line(ahncov['Observation Date'], ahconfirmed, color = 'firebrick', alpha = 0.5, legend_label = 'Anhui')\n",
    "\n",
    "s2 = figure(background_fill_color=\"#fafafa\")\n",
    "s2.line(ahncov['Observation Date'], hbconfirmed, color = 'navy', alpha = 0.8, legend_label = 'Hubei')\n",
    "\n",
    "## make a grid\n",
    "grid = gridplot([[s1, None], [None, s2]], plot_width=250, plot_height=250)\n",
    "show(grid, notebook_handle=True)"
   ]
  },
  {
   "cell_type": "markdown",
   "metadata": {},
   "source": [
    "## 7 在jupyter中的展示方法"
   ]
  },
  {
   "cell_type": "markdown",
   "metadata": {},
   "source": [
    "## 8 Bokeh最精彩的部分——交互式作图"
   ]
  },
  {
   "cell_type": "markdown",
   "metadata": {},
   "source": [
    "本Section介绍了Bokeh最精彩的部分，交互式的作图以及图形与小插件的连接方法，但是由于笔者对JavaScript的理解有限，所以某些部分并不是非常透彻，请谅解。"
   ]
  },
  {
   "cell_type": "markdown",
   "metadata": {},
   "source": [
    "### 8.0 最简单的已设置工具——HoverTool\n",
    "\n",
    "HoverTool是我们在网页浏览中最常见的一种交互式方法。即鼠标指在哪里，哪里就会出现数据。这是一种比较直接的交互式绘图工具。下面用安徽省的感染病例数据，进行示例。"
   ]
  },
  {
   "cell_type": "code",
   "execution_count": 91,
   "metadata": {},
   "outputs": [
    {
     "output_type": "display_data",
     "data": {
      "text/html": "\n\n\n\n\n\n  <div class=\"bk-root\" id=\"1d991d51-eead-4d1d-b2b1-8a6136be8f77\" data-root-id=\"21040\"></div>\n"
     },
     "metadata": {}
    },
    {
     "output_type": "display_data",
     "data": {
      "application/javascript": "(function(root) {\n  function embed_document(root) {\n    \n  var docs_json = {\"8063baa1-443b-49df-9a76-3c4fe9f689a7\":{\"roots\":{\"references\":[{\"attributes\":{\"below\":[{\"id\":\"21049\"}],\"center\":[{\"id\":\"21052\"},{\"id\":\"21056\"},{\"id\":\"21084\"}],\"left\":[{\"id\":\"21053\"}],\"renderers\":[{\"id\":\"21075\"}],\"title\":{\"id\":\"21078\"},\"toolbar\":{\"id\":\"21064\"},\"x_range\":{\"id\":\"21041\"},\"x_scale\":{\"id\":\"21045\"},\"y_range\":{\"id\":\"21043\"},\"y_scale\":{\"id\":\"21047\"}},\"id\":\"21040\",\"subtype\":\"Figure\",\"type\":\"Plot\"},{\"attributes\":{\"callback\":null,\"formatters\":{\"$x\":\"datetime\"},\"mode\":\"vline\",\"tooltips\":[[\"Province\",\"@province\"],[\"infected\",\"$y\"],[\"Date\",\"$x{%F}\"]]},\"id\":\"21039\",\"type\":\"HoverTool\"},{\"attributes\":{},\"id\":\"21058\",\"type\":\"WheelZoomTool\"},{\"attributes\":{},\"id\":\"21041\",\"type\":\"DataRange1d\"},{\"attributes\":{\"line_alpha\":0.1,\"line_color\":\"firebrick\",\"line_width\":3,\"x\":{\"field\":\"x\"},\"y\":{\"field\":\"y\"}},\"id\":\"21074\",\"type\":\"Line\"},{\"attributes\":{},\"id\":\"21054\",\"type\":\"BasicTicker\"},{\"attributes\":{},\"id\":\"21597\",\"type\":\"UnionRenderers\"},{\"attributes\":{},\"id\":\"21062\",\"type\":\"HelpTool\"},{\"attributes\":{\"data_source\":{\"id\":\"21038\"},\"glyph\":{\"id\":\"21073\"},\"hover_glyph\":null,\"muted_glyph\":null,\"nonselection_glyph\":{\"id\":\"21074\"},\"selection_glyph\":null,\"view\":{\"id\":\"21076\"}},\"id\":\"21075\",\"type\":\"GlyphRenderer\"},{\"attributes\":{},\"id\":\"21060\",\"type\":\"SaveTool\"},{\"attributes\":{\"data\":{\"province\":[\"Anhui\",\"Anhui\",\"Anhui\",\"Anhui\",\"Anhui\",\"Anhui\",\"Anhui\",\"Anhui\",\"Anhui\",\"Anhui\",\"Anhui\",\"Anhui\",\"Anhui\",\"Anhui\",\"Anhui\",\"Anhui\",\"Anhui\",\"Anhui\",\"Anhui\",\"Anhui\",\"Anhui\",\"Anhui\",\"Anhui\",\"Anhui\",\"Anhui\",\"Anhui\",\"Anhui\",\"Anhui\",\"Anhui\",\"Anhui\",\"Anhui\",\"Anhui\",\"Anhui\",\"Anhui\",\"Anhui\",\"Anhui\",\"Anhui\",\"Anhui\",\"Anhui\",\"Anhui\",\"Anhui\",\"Anhui\",\"Anhui\",\"Anhui\",\"Anhui\",\"Anhui\",\"Anhui\",\"Anhui\",\"Anhui\",\"Anhui\",\"Anhui\",\"Anhui\",\"Anhui\",\"Anhui\"],\"x\":{\"__ndarray__\":\"AABAx6j8dkIAAAAt+/x2QgAAwJJN/XZCAACA+J/9dkIAAEBe8v12QgAAAMRE/nZCAADAKZf+dkIAAICP6f52QgAAQPU7/3ZCAAAAW47/dkIAAMDA4P92QgAAgCYzAHdCAABAjIUAd0IAAADy1wB3QgAAwFcqAXdCAACAvXwBd0IAAEAjzwF3QgAAAIkhAndCAADA7nMCd0IAAIBUxgJ3QgAAQLoYA3dCAAAAIGsDd0IAAMCFvQN3QgAAgOsPBHdCAABAUWIEd0IAAAC3tAR3QgAAwBwHBXdCAACAglkFd0IAAEDoqwV3QgAAAE7+BXdCAADAs1AGd0IAAIAZowZ3QgAAQH/1BndCAAAA5UcHd0IAAMBKmgd3QgAAgLDsB3dCAABAFj8Id0IAAAB8kQh3QgAAwOHjCHdCAACARzYJd0IAAECtiAl3QgAAABPbCXdCAADAeC0Kd0IAAIDefwp3QgAAQETSCndCAAAAqiQLd0IAAMAPdwt3QgAAgHXJC3dCAABA2xsMd0IAAABBbgx3QgAAwKbADHdCAACADBMNd0IAAEByZQ13QgAAANi3DXdC\",\"dtype\":\"float64\",\"shape\":[54]},\"y\":[1,9,15,39,60,70,106,152,200,237,297,340,408,480,530,591,665,733,779,830,860,889,910,934,950,962,973,982,986,987,988,989,989,989,989,989,989,990,990,990,990,990,990,990,990,990,990,990,990,990,990,990,990,990]},\"selected\":{\"id\":\"21598\"},\"selection_policy\":{\"id\":\"21597\"}},\"id\":\"21038\",\"type\":\"ColumnDataSource\"},{\"attributes\":{},\"id\":\"21057\",\"type\":\"PanTool\"},{\"attributes\":{\"axis\":{\"id\":\"21053\"},\"dimension\":1,\"ticker\":null},\"id\":\"21056\",\"type\":\"Grid\"},{\"attributes\":{\"overlay\":{\"id\":\"21063\"}},\"id\":\"21059\",\"type\":\"BoxZoomTool\"},{\"attributes\":{\"line_alpha\":0.5,\"line_color\":\"firebrick\",\"line_width\":3,\"x\":{\"field\":\"x\"},\"y\":{\"field\":\"y\"}},\"id\":\"21073\",\"type\":\"Line\"},{\"attributes\":{},\"id\":\"21080\",\"type\":\"BasicTickFormatter\"},{\"attributes\":{\"formatter\":{\"id\":\"21080\"},\"ticker\":{\"id\":\"21050\"}},\"id\":\"21049\",\"type\":\"LinearAxis\"},{\"attributes\":{},\"id\":\"21061\",\"type\":\"ResetTool\"},{\"attributes\":{\"label\":{\"value\":\"Anhui\"},\"renderers\":[{\"id\":\"21075\"}]},\"id\":\"21085\",\"type\":\"LegendItem\"},{\"attributes\":{},\"id\":\"21598\",\"type\":\"Selection\"},{\"attributes\":{},\"id\":\"21047\",\"type\":\"LinearScale\"},{\"attributes\":{\"bottom_units\":\"screen\",\"fill_alpha\":0.5,\"fill_color\":\"lightgrey\",\"left_units\":\"screen\",\"level\":\"overlay\",\"line_alpha\":1.0,\"line_color\":\"black\",\"line_dash\":[4,4],\"line_width\":2,\"render_mode\":\"css\",\"right_units\":\"screen\",\"top_units\":\"screen\"},\"id\":\"21063\",\"type\":\"BoxAnnotation\"},{\"attributes\":{\"items\":[{\"id\":\"21085\"}]},\"id\":\"21084\",\"type\":\"Legend\"},{\"attributes\":{},\"id\":\"21045\",\"type\":\"LinearScale\"},{\"attributes\":{},\"id\":\"21050\",\"type\":\"BasicTicker\"},{\"attributes\":{},\"id\":\"21082\",\"type\":\"BasicTickFormatter\"},{\"attributes\":{\"active_drag\":\"auto\",\"active_inspect\":\"auto\",\"active_multi\":null,\"active_scroll\":\"auto\",\"active_tap\":\"auto\",\"tools\":[{\"id\":\"21057\"},{\"id\":\"21058\"},{\"id\":\"21059\"},{\"id\":\"21060\"},{\"id\":\"21061\"},{\"id\":\"21062\"},{\"id\":\"21039\"}]},\"id\":\"21064\",\"type\":\"Toolbar\"},{\"attributes\":{\"source\":{\"id\":\"21038\"}},\"id\":\"21076\",\"type\":\"CDSView\"},{\"attributes\":{\"axis\":{\"id\":\"21049\"},\"ticker\":null},\"id\":\"21052\",\"type\":\"Grid\"},{\"attributes\":{\"formatter\":{\"id\":\"21082\"},\"ticker\":{\"id\":\"21054\"}},\"id\":\"21053\",\"type\":\"LinearAxis\"},{\"attributes\":{\"text\":\"\"},\"id\":\"21078\",\"type\":\"Title\"},{\"attributes\":{},\"id\":\"21043\",\"type\":\"DataRange1d\"}],\"root_ids\":[\"21040\"]},\"title\":\"Bokeh Application\",\"version\":\"2.0.2\"}};\n  var render_items = [{\"docid\":\"8063baa1-443b-49df-9a76-3c4fe9f689a7\",\"notebook_comms_target\":\"21599\",\"root_ids\":[\"21040\"],\"roots\":{\"21040\":\"1d991d51-eead-4d1d-b2b1-8a6136be8f77\"}}];\n  root.Bokeh.embed.embed_items_notebook(docs_json, render_items);\n\n  }\n  if (root.Bokeh !== undefined) {\n    embed_document(root);\n  } else {\n    var attempts = 0;\n    var timer = setInterval(function(root) {\n      if (root.Bokeh !== undefined) {\n        clearInterval(timer);\n        embed_document(root);\n      } else {\n        attempts++;\n        if (attempts > 100) {\n          clearInterval(timer);\n          console.log(\"Bokeh: ERROR: Unable to run BokehJS code because BokehJS library is missing\");\n        }\n      }\n    }, 10, root)\n  }\n})(window);",
      "application/vnd.bokehjs_exec.v0+json": ""
     },
     "metadata": {
      "application/vnd.bokehjs_exec.v0+json": {
       "id": "21040"
      }
     }
    },
    {
     "output_type": "execute_result",
     "data": {
      "text/plain": "<bokeh.io.notebook.CommsHandle at 0x22335751208>",
      "text/html": "<p><code>&lt;Bokeh Notebook handle for <strong>In[91]</strong>&gt;</code></p>"
     },
     "metadata": {},
     "execution_count": 91
    }
   ],
   "source": [
    "from bokeh.models import HoverTool,Toolbar, Plot\n",
    "prov = np.repeat('Anhui', 54)\n",
    "source = ColumnDataSource(data = dict(\n",
    "    x =  ahncov['Observation Date'],\n",
    "    y = ahconfirmed,\n",
    "    province = prov\n",
    "))\n",
    "\n",
    "\n",
    "#TOOLTIPS = [\n",
    "#    (\"Province\", \"@province\"),\n",
    "#    (\"infected\", \"$y\"),\n",
    "#    (\"Date\", \"$x\")\n",
    "#]\n",
    "\n",
    "#hover_tool.formatters = {\"$x\": \"datetime\"}\n",
    "\n",
    "hover_tool = HoverTool(\n",
    "    tooltips = [\n",
    "        (\"Province\", \"@province\"),\n",
    "        (\"infected\", \"$y\"),\n",
    "        (\"Date\", \"$x{%F}\")\n",
    "    ],\n",
    "    formatters = {\n",
    "        \"$x\":'datetime',\n",
    "    },\n",
    "    mode = 'vline'\n",
    ")\n",
    "\n",
    "plot = figure()\n",
    "plot.add_tools(hover_tool)\n",
    "\n",
    "plot.line('x', 'y',source = source, color = 'firebrick', alpha = 0.5, legend_label = 'Anhui', line_width = 3)\n",
    "\n",
    "show(plot, notebook_handle=True)\n"
   ]
  },
  {
   "cell_type": "markdown",
   "metadata": {},
   "source": [
    "一个创建Bokeh HoverTool的标准流程为（同样适用于其他的工具）：\n",
    "- 从`bokeh.models`导入；\n",
    "- 命名一个实例，例如：`hover_tool = HoverTool()`，在`HoverTool()`中可以选择合适的参数；\n",
    "- 创建`figure`，并且加入定义的实例；\n",
    "- 作图\n",
    "\n",
    "使用这一方法，就可以适应大部分自定义的工具包，包括放大、作图等等。如果您熟悉`html`语言，您可以结合静态网页语言，自定义ToolTips，在HoverTool中加入图片等。"
   ]
  },
  {
   "cell_type": "markdown",
   "metadata": {},
   "source": [
    "### 8.1 交互式绘图——让按钮链接图片\n",
    "\n",
    "上面我们通过一个简单的`HoverTool()`的例子，对交互式绘图有了一个较为清晰的了解。在`Bokeh`的交互式绘图中，主要有两个对象：按钮与图像。按钮常常是与一个或多个图像链接在一起的。Bokeh中可供用户选择的按钮种类非常多，下面我们将结合安徽省与江苏省的感染人数数据，对链接行为进行进一步的分析。\n"
   ]
  },
  {
   "cell_type": "code",
   "execution_count": 46,
   "metadata": {},
   "outputs": [
    {
     "output_type": "display_data",
     "data": {
      "text/html": "\n\n\n\n\n\n  <div class=\"bk-root\" id=\"02b35943-3c6a-4609-ba70-71fc25f1875d\" data-root-id=\"8541\"></div>\n"
     },
     "metadata": {}
    },
    {
     "output_type": "display_data",
     "data": {
      "application/javascript": "(function(root) {\n  function embed_document(root) {\n    \n  var docs_json = {\"4573c922-e1e7-49d5-8710-cf36cbdc34af\":{\"roots\":{\"references\":[{\"attributes\":{\"children\":[{\"id\":\"8540\"},{\"id\":\"8538\"}]},\"id\":\"8541\",\"type\":\"Column\"},{\"attributes\":{\"formatter\":{\"id\":\"8530\"},\"ticker\":{\"id\":\"8495\"}},\"id\":\"8494\",\"type\":\"LinearAxis\"},{\"attributes\":{},\"id\":\"8499\",\"type\":\"BasicTicker\"},{\"attributes\":{},\"id\":\"8532\",\"type\":\"BasicTickFormatter\"},{\"attributes\":{\"active_drag\":\"auto\",\"active_inspect\":\"auto\",\"active_multi\":null,\"active_scroll\":\"auto\",\"active_tap\":\"auto\",\"tools\":[{\"id\":\"8471\"},{\"id\":\"8472\"},{\"id\":\"8473\"}]},\"id\":\"8476\",\"type\":\"Toolbar\"},{\"attributes\":{\"formatter\":{\"id\":\"8519\"},\"ticker\":{\"id\":\"8464\"}},\"id\":\"8463\",\"type\":\"LinearAxis\"},{\"attributes\":{\"formatter\":{\"id\":\"8532\"},\"ticker\":{\"id\":\"8499\"}},\"id\":\"8498\",\"type\":\"LinearAxis\"},{\"attributes\":{\"line_alpha\":0.1,\"line_color\":\"#1f77b4\",\"x\":{\"field\":\"x\"},\"y\":{\"field\":\"y0\"}},\"id\":\"8482\",\"type\":\"Line\"},{\"attributes\":{},\"id\":\"8519\",\"type\":\"BasicTickFormatter\"},{\"attributes\":{\"bottom_units\":\"screen\",\"fill_alpha\":0.5,\"fill_color\":\"lightgrey\",\"left_units\":\"screen\",\"level\":\"overlay\",\"line_alpha\":1.0,\"line_color\":\"black\",\"line_dash\":[4,4],\"line_width\":2,\"render_mode\":\"css\",\"right_units\":\"screen\",\"top_units\":\"screen\"},\"id\":\"8474\",\"type\":\"BoxAnnotation\"},{\"attributes\":{\"children\":[[{\"id\":\"8454\"},0,0],[{\"id\":\"8485\"},0,1]]},\"id\":\"8538\",\"type\":\"GridBox\"},{\"attributes\":{},\"id\":\"8459\",\"type\":\"LinearScale\"},{\"attributes\":{\"text\":\"\"},\"id\":\"8528\",\"type\":\"Title\"},{\"attributes\":{},\"id\":\"8530\",\"type\":\"BasicTickFormatter\"},{\"attributes\":{},\"id\":\"8524\",\"type\":\"UnionRenderers\"},{\"attributes\":{\"below\":[{\"id\":\"8463\"}],\"center\":[{\"id\":\"8466\"},{\"id\":\"8470\"}],\"left\":[{\"id\":\"8467\"}],\"plot_height\":300,\"plot_width\":300,\"renderers\":[{\"id\":\"8483\"}],\"title\":{\"id\":\"8517\"},\"toolbar\":{\"id\":\"8476\"},\"toolbar_location\":null,\"x_range\":{\"id\":\"8455\"},\"x_scale\":{\"id\":\"8459\"},\"y_range\":{\"id\":\"8457\"},\"y_scale\":{\"id\":\"8461\"}},\"id\":\"8454\",\"subtype\":\"Figure\",\"type\":\"Plot\"},{\"attributes\":{},\"id\":\"8492\",\"type\":\"LinearScale\"},{\"attributes\":{\"axis\":{\"id\":\"8494\"},\"ticker\":null},\"id\":\"8497\",\"type\":\"Grid\"},{\"attributes\":{\"bottom_units\":\"screen\",\"fill_alpha\":0.5,\"fill_color\":\"lightgrey\",\"left_units\":\"screen\",\"level\":\"overlay\",\"line_alpha\":1.0,\"line_color\":\"black\",\"line_dash\":[4,4],\"line_width\":2,\"render_mode\":\"css\",\"right_units\":\"screen\",\"top_units\":\"screen\"},\"id\":\"8505\",\"type\":\"BoxAnnotation\"},{\"attributes\":{\"line_color\":\"#1f77b4\",\"x\":{\"field\":\"x\"},\"y\":{\"field\":\"y1\"}},\"id\":\"8512\",\"type\":\"Line\"},{\"attributes\":{\"source\":{\"id\":\"8453\"}},\"id\":\"8515\",\"type\":\"CDSView\"},{\"attributes\":{\"toolbar\":{\"id\":\"8539\"},\"toolbar_location\":\"above\"},\"id\":\"8540\",\"type\":\"ToolbarBox\"},{\"attributes\":{\"text\":\"\"},\"id\":\"8517\",\"type\":\"Title\"},{\"attributes\":{\"fill_alpha\":0.5,\"fill_color\":\"lightgrey\",\"level\":\"overlay\",\"line_alpha\":1.0,\"line_color\":\"black\",\"line_dash\":[4,4],\"line_width\":2,\"xs_units\":\"screen\",\"ys_units\":\"screen\"},\"id\":\"8506\",\"type\":\"PolyAnnotation\"},{\"attributes\":{},\"id\":\"8455\",\"type\":\"DataRange1d\"},{\"attributes\":{\"line_color\":\"#1f77b4\",\"x\":{\"field\":\"x\"},\"y\":{\"field\":\"y0\"}},\"id\":\"8481\",\"type\":\"Line\"},{\"attributes\":{\"axis\":{\"id\":\"8463\"},\"ticker\":null},\"id\":\"8466\",\"type\":\"Grid\"},{\"attributes\":{},\"id\":\"8525\",\"type\":\"Selection\"},{\"attributes\":{},\"id\":\"8473\",\"type\":\"HelpTool\"},{\"attributes\":{\"fill_alpha\":0.5,\"fill_color\":\"lightgrey\",\"level\":\"overlay\",\"line_alpha\":1.0,\"line_color\":\"black\",\"line_dash\":[4,4],\"line_width\":2,\"xs_units\":\"screen\",\"ys_units\":\"screen\"},\"id\":\"8475\",\"type\":\"PolyAnnotation\"},{\"attributes\":{\"overlay\":{\"id\":\"8474\"}},\"id\":\"8471\",\"type\":\"BoxSelectTool\"},{\"attributes\":{},\"id\":\"8468\",\"type\":\"BasicTicker\"},{\"attributes\":{\"below\":[{\"id\":\"8494\"}],\"center\":[{\"id\":\"8497\"},{\"id\":\"8501\"}],\"left\":[{\"id\":\"8498\"}],\"plot_height\":300,\"plot_width\":300,\"renderers\":[{\"id\":\"8514\"}],\"title\":{\"id\":\"8528\"},\"toolbar\":{\"id\":\"8507\"},\"toolbar_location\":null,\"x_range\":{\"id\":\"8486\"},\"x_scale\":{\"id\":\"8490\"},\"y_range\":{\"id\":\"8488\"},\"y_scale\":{\"id\":\"8492\"}},\"id\":\"8485\",\"subtype\":\"Figure\",\"type\":\"Plot\"},{\"attributes\":{\"overlay\":{\"id\":\"8506\"}},\"id\":\"8503\",\"type\":\"LassoSelectTool\"},{\"attributes\":{},\"id\":\"8490\",\"type\":\"LinearScale\"},{\"attributes\":{},\"id\":\"8521\",\"type\":\"BasicTickFormatter\"},{\"attributes\":{\"data_source\":{\"id\":\"8453\"},\"glyph\":{\"id\":\"8512\"},\"hover_glyph\":null,\"muted_glyph\":null,\"nonselection_glyph\":{\"id\":\"8513\"},\"selection_glyph\":null,\"view\":{\"id\":\"8515\"}},\"id\":\"8514\",\"type\":\"GlyphRenderer\"},{\"attributes\":{\"toolbars\":[{\"id\":\"8476\"},{\"id\":\"8507\"}],\"tools\":[{\"id\":\"8471\"},{\"id\":\"8472\"},{\"id\":\"8473\"},{\"id\":\"8502\"},{\"id\":\"8503\"},{\"id\":\"8504\"}]},\"id\":\"8539\",\"type\":\"ProxyToolbar\"},{\"attributes\":{},\"id\":\"8457\",\"type\":\"DataRange1d\"},{\"attributes\":{\"line_alpha\":0.1,\"line_color\":\"#1f77b4\",\"x\":{\"field\":\"x\"},\"y\":{\"field\":\"y1\"}},\"id\":\"8513\",\"type\":\"Line\"},{\"attributes\":{\"axis\":{\"id\":\"8498\"},\"dimension\":1,\"ticker\":null},\"id\":\"8501\",\"type\":\"Grid\"},{\"attributes\":{},\"id\":\"8495\",\"type\":\"BasicTicker\"},{\"attributes\":{\"active_drag\":\"auto\",\"active_inspect\":\"auto\",\"active_multi\":null,\"active_scroll\":\"auto\",\"active_tap\":\"auto\",\"tools\":[{\"id\":\"8502\"},{\"id\":\"8503\"},{\"id\":\"8504\"}]},\"id\":\"8507\",\"type\":\"Toolbar\"},{\"attributes\":{\"axis\":{\"id\":\"8467\"},\"dimension\":1,\"ticker\":null},\"id\":\"8470\",\"type\":\"Grid\"},{\"attributes\":{\"formatter\":{\"id\":\"8521\"},\"ticker\":{\"id\":\"8468\"}},\"id\":\"8467\",\"type\":\"LinearAxis\"},{\"attributes\":{\"overlay\":{\"id\":\"8505\"}},\"id\":\"8502\",\"type\":\"BoxSelectTool\"},{\"attributes\":{\"source\":{\"id\":\"8453\"}},\"id\":\"8484\",\"type\":\"CDSView\"},{\"attributes\":{\"data_source\":{\"id\":\"8453\"},\"glyph\":{\"id\":\"8481\"},\"hover_glyph\":null,\"muted_glyph\":null,\"nonselection_glyph\":{\"id\":\"8482\"},\"selection_glyph\":null,\"view\":{\"id\":\"8484\"}},\"id\":\"8483\",\"type\":\"GlyphRenderer\"},{\"attributes\":{},\"id\":\"8504\",\"type\":\"HelpTool\"},{\"attributes\":{\"data\":{\"x\":{\"__ndarray__\":\"AABAx6j8dkIAAAAt+/x2QgAAwJJN/XZCAACA+J/9dkIAAEBe8v12QgAAAMRE/nZCAADAKZf+dkIAAICP6f52QgAAQPU7/3ZCAAAAW47/dkIAAMDA4P92QgAAgCYzAHdCAABAjIUAd0IAAADy1wB3QgAAwFcqAXdCAACAvXwBd0IAAEAjzwF3QgAAAIkhAndCAADA7nMCd0IAAIBUxgJ3QgAAQLoYA3dCAAAAIGsDd0IAAMCFvQN3QgAAgOsPBHdCAABAUWIEd0IAAAC3tAR3QgAAwBwHBXdCAACAglkFd0IAAEDoqwV3QgAAAE7+BXdCAADAs1AGd0IAAIAZowZ3QgAAQH/1BndCAAAA5UcHd0IAAMBKmgd3QgAAgLDsB3dCAABAFj8Id0IAAAB8kQh3QgAAwOHjCHdCAACARzYJd0IAAECtiAl3QgAAABPbCXdCAADAeC0Kd0IAAIDefwp3QgAAQETSCndCAAAAqiQLd0IAAMAPdwt3QgAAgHXJC3dCAABA2xsMd0IAAABBbgx3QgAAwKbADHdCAACADBMNd0IAAEByZQ13QgAAANi3DXdC\",\"dtype\":\"float64\",\"shape\":[54]},\"y0\":[444,444,549,761,1058,1423,3554,3554,4903,5806,7153,11177,13522,16678,19665,22112,24953,27100,29631,31728,33366,33366,48206,54406,56249,58182,59989,61682,62031,62442,62662,64084,64084,64287,64786,65187,65596,65914,66337,66907,67103,67217,67332,67466,67592,67666,67707,67743,67760,67773,67781,67786,67790,67794],\"y1\":[1,9,15,39,60,70,106,152,200,237,297,340,408,480,530,591,665,733,779,830,860,889,910,934,950,962,973,982,986,987,988,989,989,989,989,989,989,990,990,990,990,990,990,990,990,990,990,990,990,990,990,990,990,990]},\"selected\":{\"id\":\"8525\"},\"selection_policy\":{\"id\":\"8524\"}},\"id\":\"8453\",\"type\":\"ColumnDataSource\"},{\"attributes\":{\"overlay\":{\"id\":\"8475\"}},\"id\":\"8472\",\"type\":\"LassoSelectTool\"},{\"attributes\":{},\"id\":\"8486\",\"type\":\"DataRange1d\"},{\"attributes\":{},\"id\":\"8488\",\"type\":\"DataRange1d\"},{\"attributes\":{},\"id\":\"8464\",\"type\":\"BasicTicker\"},{\"attributes\":{},\"id\":\"8461\",\"type\":\"LinearScale\"}],\"root_ids\":[\"8541\"]},\"title\":\"Bokeh Application\",\"version\":\"2.0.2\"}};\n  var render_items = [{\"docid\":\"4573c922-e1e7-49d5-8710-cf36cbdc34af\",\"notebook_comms_target\":\"8771\",\"root_ids\":[\"8541\"],\"roots\":{\"8541\":\"02b35943-3c6a-4609-ba70-71fc25f1875d\"}}];\n  root.Bokeh.embed.embed_items_notebook(docs_json, render_items);\n\n  }\n  if (root.Bokeh !== undefined) {\n    embed_document(root);\n  } else {\n    var attempts = 0;\n    var timer = setInterval(function(root) {\n      if (root.Bokeh !== undefined) {\n        clearInterval(timer);\n        embed_document(root);\n      } else {\n        attempts++;\n        if (attempts > 100) {\n          clearInterval(timer);\n          console.log(\"Bokeh: ERROR: Unable to run BokehJS code because BokehJS library is missing\");\n        }\n      }\n    }, 10, root)\n  }\n})(window);",
      "application/vnd.bokehjs_exec.v0+json": ""
     },
     "metadata": {
      "application/vnd.bokehjs_exec.v0+json": {
       "id": "8541"
      }
     }
    },
    {
     "output_type": "execute_result",
     "data": {
      "text/plain": "<bokeh.io.notebook.CommsHandle at 0x223328ad388>",
      "text/html": "<p><code>&lt;Bokeh Notebook handle for <strong>In[46]</strong>&gt;</code></p>"
     },
     "metadata": {},
     "execution_count": 46
    }
   ],
   "source": [
    "from bokeh.models import ColumnDataSource\n",
    "\n",
    "source = ColumnDataSource(data = dict(\n",
    "    x =  ahncov['Observation Date'],\n",
    "    y1 = ahconfirmed,\n",
    "    y0 = hbconfirmed,\n",
    "))\n",
    "\n",
    "tools = 'box_select, lasso_select, help'\n",
    "\n",
    "left = figure(tools = tools, width = 300, height = 300)\n",
    "left.line('x', 'y0', source = source)\n",
    "\n",
    "right = figure(tools = tools, width = 300, height = 300)\n",
    "right.line('x', 'y1', source = source)\n",
    "\n",
    "p = gridplot([[left, right]])\n",
    "show(p, notebook_handle = True)"
   ]
  },
  {
   "cell_type": "markdown",
   "metadata": {},
   "source": [
    "前面我们介绍[交互式图例](#inter1)时，就已经接触过基础的按钮。Bokeh中，点击按钮时的反应主要通过CustomJS插入JavaScript代码来呈现。\n",
    "\n",
    "主要的流程如下：\n",
    "- 用CustomJS定义一个想要的返回效果\n",
    "- 定义一个工具\n",
    "- 将工具与图片链接起来"
   ]
  },
  {
   "cell_type": "code",
   "execution_count": 89,
   "metadata": {
    "tags": []
   },
   "outputs": [
    {
     "output_type": "stream",
     "name": "stderr",
     "text": "BokehUserWarning: ColumnDataSource's columns must be of the same length. Current lengths: ('x', 53), ('y', 54)\n"
    },
    {
     "output_type": "display_data",
     "data": {
      "text/html": "\n\n\n\n\n\n  <div class=\"bk-root\" id=\"81e29dac-93cb-4e56-b36a-b3e44ffb0da3\" data-root-id=\"20467\"></div>\n"
     },
     "metadata": {}
    },
    {
     "output_type": "display_data",
     "data": {
      "application/javascript": "(function(root) {\n  function embed_document(root) {\n    \n  var docs_json = {\"4f49eb80-2b19-4c9d-b05e-2863c03752eb\":{\"roots\":{\"references\":[{\"attributes\":{\"children\":[{\"id\":\"20465\"},{\"id\":\"20424\"}]},\"id\":\"20467\",\"type\":\"Column\"},{\"attributes\":{},\"id\":\"20442\",\"type\":\"WheelZoomTool\"},{\"attributes\":{\"data_source\":{\"id\":\"20422\"},\"glyph\":{\"id\":\"20456\"},\"hover_glyph\":null,\"muted_glyph\":null,\"nonselection_glyph\":{\"id\":\"20457\"},\"selection_glyph\":null,\"view\":{\"id\":\"20459\"}},\"id\":\"20458\",\"type\":\"GlyphRenderer\"},{\"attributes\":{},\"id\":\"20429\",\"type\":\"LinearScale\"},{\"attributes\":{\"line_alpha\":0.1,\"line_color\":\"#1f77b4\",\"line_width\":3,\"x\":{\"field\":\"x\"},\"y\":{\"field\":\"y\"}},\"id\":\"20457\",\"type\":\"Line\"},{\"attributes\":{\"text\":\"\"},\"id\":\"20962\",\"type\":\"Title\"},{\"attributes\":{\"formatter\":{\"id\":\"20964\"},\"ticker\":{\"id\":\"20434\"}},\"id\":\"20433\",\"type\":\"LinearAxis\"},{\"attributes\":{\"data\":{\"x\":{\"__ndarray__\":\"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\",\"dtype\":\"float64\",\"shape\":[2000]},\"y\":{\"__ndarray__\":\"AAAAAAAA4D87n5/ESzbgP9HH8KaSbOA/87hmxs+i4D/zxfZF/tjgPzEH1k0ZD+E/cAszDRxF4T9lPOq7AXvhP3ewM5zFsOE/6CtJ/GLm4T/pHQM41RviP45xa7oXUeI/jxdF/yWG4j8FPIeU+7riP8gqyxuU7+I/efWrS+sj4z/l/xbx/FfjP42pjPDEi+M/PV5QRz+/4z8Oa4cMaPLjP0kJRnI7JeQ/yiSKxrVX5D8WeCN004nkP7qsiAORu+Q/A0OZG+vs5D8uGEyC3h3lPzx2Sh1oTuU/z6t38oR+5T9iPWUoMq7lP2zTswZt3eU/ghph9jIM5j8W2wKCgTrmP2ie71VWaOY/AkVVQK+V5j/xAD4xisLmP8IyhDrl7uY/I7S1j74a5z9yJeeFFEbnP27dd5PlcOc/PiLHTzCb5z+xWtty88TnP5fs+9Qt7uc/S4I+bt4W6D+CdQhWBD/oP4UghcKeZug/+tgRCK2N6D9uWKCYLrToP+dWEAMj2ug/JhuB8on/6D+KwpstYyTpP1EA15WuSOk/0xC1Jmxs6T+9mfz0m4/pP98r7S0+suk/bBZwFlPU6T8nNkYK2/XpP0VlM3vWFuo/lyoo8EU36j88QGoEKlfqP0+DvGaDduo/KNeG2FKV6j+tf/4smbPqP/RuT0hX0eo/TPvGHo7u6j9DawC0PgvrPy2+ExpqJ+s/IhDHcBFD6z+N8cLkNV7rP/ECyq7YeOs/3x70EvuS6z8SVe1fnqzrPy3zOO7Dxes/7NB4H23e6z+uD7ldm/brP992wBpQDuw/SJFlz4wl7D+nqej6UjzsP5u/UiKkUuw/GonZz4Fo7D+aj0iS7X3sP+Rzb/zokuw/IF+VpHWn7D+ao/EjlbvsP1aMKRZJz+w/u1bTGJPi7D+cTv7KdPXsP/oBwMzvB+0/137GvgUa7T9ii+9BuCvtPxrG5PYIPe0/u5m8fflN7T/R7p91i17tPzmDdHzAbu0/Xc6LLpp+7T+mV1YmGo7tP7hjG/xBne0/yNu0RROs7T/4UU+Wj7rtP64ELn64yO0/i8Jyio/W7T88kOlEFuTtPw/x1zNO8e0/PbPP2Tj+7T+BIIW11wruPwV0qEEsF+4/c3bC9Dcj7j9nIRRB/C7uP8oreZR6Ou4/xWBNWLRF7j+to1TxqlDuP3qDpb9fW+4/DUGWHtRl7j8NLKxkCXDuP406jeMAeu4/q8Dz57uD7j91LaS5O43uP6ezZJuBlu4/9cT2yo6f7j+mRxKBZKjuP9tuYvEDse4/dh6ESm657j+pxAW2pMHuP2OTaFioye4/IAUjUXrR7j/5mKS6G9nuP4myWqqN4O4/RIu2MNHn7j85IzRZ5+7uPwQgYirR9e4/ionqpY/87j+bVJzIIwPvP0esdYqOCe8/aeuu3tAP7z97OMaz6xXvP3a2i/PfG+8/CD4ug64h7z8Wk0hDWCfvP/8K7w/eLO8/qJi9wEAy7z/xM+YogTfvP66SPxegPO8/rSlUVp5B7z/9bHGsfEbvP+5Gt9s7S+8/6L0notxP7z9/wba5X1TvP60XWtjFWO8/gmMZsA9d7z/oPh7vPWHvP59hxD9RZe8/1M+pSEpp7z8SC7+sKW3vP6ZAVwvwcO8/6nA4AJ507z8ji6sjNHjvP/h5jAqze+8/vxxaRht/7z9OKkZlbYLvP+L5RPKphe8/Yi8dddGI7z8OSHdy5IvvP0YF7Wvjju8/5LIY4M6R7z83R6RKp5TvP6NaWCRtl+8/DPUq4yCa7z+eL076wpzvP22pPtpTn+8/nc3R8NOh7z8E6kOpQ6TvPz0VRmyjpu8/NeMLoPOo7z+X51ioNKvvP0cFjuZmre8/iIq2uYqv7z80GZV+oLHvP8xasI+os+8/AIBfRaO17z+fi9b1kLfvP7JoMvVxue8/y8uElUa77z+U398mD73vP6G8YffLvu8/t6w/U33A7z/NOdGEI8LvP9cIm9S+w+8/3IBZiU/F7z+MPgvo1cbvP8tU+zNSyO8/dVrLrsTJ7z8WRn2YLcvvP7QXfS+NzO8/fFGqsOPN7z+nP2FXMc/vPzkQhF120O8/LruD+7LR7z+Yu2ho59LvP2ea29kT1O8/X0sthDjV7z/qXF+aVdbvP277K05r1+8/w8gN0HnY7z94iEdPgdnvP5qh6/mB2u8/j3bj/Hvb7z/Yk/aDb9zvP0a20blc3e8/W6kNyEPe7z+R/jXXJN/vPyaezw4A4O8/HzJfldXg7z80bG+QpeHvP08nlyRw4u8/SmV/dTXj7z+bKeml9ePvP4Ixs9ew5O8/morfK2fl7z8nCJnCGObvPwiYOLvF5u8/0ndKNG7n7z+1SpNLEujvP+UQFR6y6O8/CAEUyE3p7z9ZRBtl5envPxWWARB56u8/zsbt4gjr7z83JFv3lOvvPwnGHWYd7O8/fcBmR6Ls7z8JPciyI+3vP9t5Ob+h7e8/p7Aagxzu7z9C5TgUlO7vP7ec0YcI7+8/L32W8nnv7z9I17Bo6O/vP2YZxf1T8O8/WC32xLzw7z//wOjQIvHvPz96xjOG8e8/3hZB/+bx7z+jeJVERfLvP0aejhSh8u8/jomIf/ry7z8ZE3OVUfPvPyms1GWm8+8/BQ/N//jz7z8k3hdySfTvP70yD8uX9O8/9hquGOT07z8xCJNoLvXvP8gtAsh29e8/mtDnQ7317z/Ph9roAfbvPyJvHcNE9u8//0qi3oX27z/4ngtHxfbvP6u2rgcD9+8/l6GVKz/37z8jIoG9effvPyGQ6sey9+8/J68FVer37z/+eMJuIPjvP3fczh5V+O8/7nCYboj47z/KHk5nuvjvPye94RHr+O8/D6UJdxr57z9oOkKfSPnvP+hqz5J1+e8/SSO+WaH57z/3uuX7y/nvP4BW6YD1+e8/70A58B367z9kPBRRRfrvP/7JiKpr+u8/eWl2A5H67z+P0I5itfrvP24aV87Y+u8/WO8oTfv67z++pDPlHPvvP/lVfZw9++8/vvXjeF377z+fWB6AfPvvP644vbea++8/czIsJbj77z9ku7LN1PvvPwUSdbbw++8/1id15Av87z9DhZNcJvzvP7knkCNA/O8/6VkLPln87z+hhoawcfzvPxAGZX+J/O8/0+XsrqD87z/Rq0dDt/zvPxMUg0DN/O8/tMmRquL87z8HG0yF9/zvPxypcNQL/e8/sRKlmx/97z/FmnbeMv3vP9HKWqBF/e8/1RCw5Ff97z9IWb6uaf3vPw6ltwF7/e8/lZu44Iv97z8aGclOnP3vP0m53E6s/e8/PV7T47v97z8JtHkQy/3vP9iwidfZ/e8/rhGrO+j97z/303M/9v3vP+6raOUD/u8/8nf9LxH+7z/TsJUhHv7vP0HXhLwq/u8/YN4OAzf+7z+Nk2j3Qv7vP4YDuJtO/u8/29wU8ln+7z/Xz4j8ZP7vP/vrD71v/u8/7/qYNXr+7z8t2QVohP7vP03MK1aO/u8/JdfTAZj+7z+gC7tsof7vP4vakpiq/u8/QmEBh7P+7z9etaE5vP7vP1wuBLLE/u8/da2u8cz+7z934xz61P7vP+OUwMzc/u8/P9wBa+T+7z+naj/W6/7vP77Gzg/z/u8/4In8GPr+7z/nmwzzAP/vPzFtOp8H/+8/Ri+5Hg7/7z/6C7RyFP/vPxZbTpwa/+8/oNajnCD/7z/Vzch0Jv/vP7JWyiUs/+8/Tn6usDH/7z/hd3QWN//vP5PKFFg8/+8/HX6BdkH/7z9BRqZyRv/vPxutaE1L/+8/VzyoB1D/7z9apT6iVP/vP1jo/x1Z/+8/b3q6e13/7z+uaje8Yf/vP0KGOuBl/+8/lHuC6Gn/7z+d/MjVbf/vPy3gwqhx/+8/dkIgYnX/7z+spIwCef/vP9gLr4p8/+8/2R4q+3//7z+bQ5xUg//vP5a7n5eG/+8/gL/KxIn/7z9Lmq/cjP/vP3jD3N+P/+8/pvjczpL/7z+KVjeqlf/vPztxb3KY/+8/zWsFKJv/7z9kD3bLnf/vP53hOl2g/+8/ZjrK3aL/7z9GWZdNpf/vPxZ6Eq2n/+8/Lumo/Kn/7z8HF8U8rP/vP2Srzm2u/+8/7pcqkLD/7z9lKjuksv/vP0AeYKq0/+8/7632orb/7z+So1mOuP/vP1lp4Wy6/+8/ZhnkPrz/7z9CjbUEvv/vP/dsp76//+8/wD0JbcH/7z9TcCgQw//vP9JuUKjE/+8/VKrKNcb/7z8fqN64x//vP4oO0jHJ/+8/drHooMr/7z+PnmQGzP/vPyQphmLN/+8/wPWLtc7/7z9nBbP/z//vP5LANkHR/+8/4QFRetL/7z+CIDqr0//vP0/6KNTU/+8/rv1S9dX/7z85M+wO1//vPwJHJyHY/+8/zJE1LNn/7z/TIUcw2v/vP4XDii3b/+8/3gkuJNz/7z+iVl0U3f/vP1ziQ/7d/+8/GcQL4t7/7z8L+d2/3//vP9Rr4pfg/+8/y/s/auH/7z/ngxw34v/vP5jhnP7i/+8/avvkwOP/7z90xxd+5P/vP6pRVzbl/+8/88HE6eX/7z8sYoCY5v/vP++jqULn/+8/OCZf6Of/7z/1ur6J6P/vP1ds5Sbp/+8/EILvv+n/7z9qhvhU6v/vPzZLG+bq/+8/q+5xc+v/7z8R4BX96//vP0/kH4Ps/+8/bhqoBe3/7z/k/8WE7f/vP9N0kADu/+8/KMAdee7/7z+Zk4Pu7v/vP5EP12Dv/+8/+8Ys0O//7z/wwpg88P/vP1yGLqbw/+8/fBEBDfH/7z9G5SJx8f/vP8YGptLx/+8/UQKcMfL/7z+27hWO8v/vP05wJOjy/+8/+rvXP/P/7z8Omj+V8//vPytpa+jz/+8//SBqOfT/7z/wVEqI9P/vP9E2GtX0/+8/WpnnH/X/7z+u8r9o9f/vP8ZesK/1/+8/z6HF9PX/7z9xKgw49v/vPxEUkHn2/+8/+Chdufb/7z+A5H739v/vPw91ADT3/+8/Lr7sbvf/7z96Wk6o9//vP4KdL+D3/+8/sZWaFvj/7z8TDplL+P/vPxiQNH/4/+8/WWV2sfj/7z80mWfi+P/vP3H6EBL5/+8/2hx7QPn/7z/MWq5t+f/vP6rWspn5/+8/XHyQxPn/7z+8Ak/u+f/vP/zs9Rb6/+8/9ouMPvr/7z+I/xll+v/vP9U3pYr6/+8/ivY0r/r/7z8P0M/S+v/vP70sfPX6/+8//0lAF/v/7z96OyI4+//vPxbsJ1j7/+8/IB9Xd/v/7z9KcbWV+//vP6hZSLP7/+8/vSoV0Pv/7z9gEyHs+//vP7AfcQf8/+8//jkKIvz/7z+yK/E7/P/vPyKeKlX8/+8/ahu7bfz/7z86D6eF/P/vP7HH8pz8/+8/Dnais/z/7z9/L7rJ/P/vP9rtPd/8/+8/T5Ax9Pz/7z8m3JgI/f/vP119dxz9/+8/YgfRL/3/7z+r9ahC/f/vP1usAlX9/+8/33jhZv3/7z+Dkkh4/f/vPw0bO4n9/+8/RR+8mf3/7z+El86p/f/vP0Vodbn9/+8/mWKzyP3/7z+8RIvX/f/vP4W6/+X9/+8/6l0T9P3/7z9xt8gB/v/vP6s+Ig/+/+8/oFoiHP7/7z9FYsso/v/vP9ycHzX+/+8/bEIhQf7/7z8YfNJM/v/vP5BkNVj+/+8/aQhMY/7/7z9+Zhhu/v/vP0twnHj+/+8/TAragv7/7z9NDNOM/v/vP8FBiZb+/+8/Fmr+n/7/7z8KOTSp/v/vP+tWLLL+/+8/9WDouv7/7z+Q6WnD/v/vP554ssv+/+8/v4vD0/7/7z+Zlp7b/v/vPxcDReP+/+8/qzG46v7/7z+Refnx/v/vPwUpCvn+/+8/i4Xr//7/7z8dzJ4G///vP28xJQ3//+8/GuJ/E///7z/gArAZ///vP9iwth///+8/owGVJf//7z+eA0wr///vPxW+3DD//+8/bDFINv//7z9YV487///vPwIjs0D//+8/NYG0Rf//7z+LWJRK///vP5eJU0///+8/Ce/yU///7z/bXXNY///vP3Sl1Vz//+8/y48aYf//7z+Q4UJl///vP1BaT2n//+8/j7RAbf//7z/0pRdx///vP2ff1HT//+8/LA15eP//7z8E1wR8///vP1DgeH///+8/KMjVgv//7z94KRyG///vPyabTIn//+8/ILBnjP//7z96922P///vP478X5L//+8/DEc+lf//7z8eWwmY///vP3C5wZr//+8/Wt9nnf//7z/kRvyf///vP+dmf6L//+8/IbPxpP//7z9KnFOn///vPyWQpan//+8/lfnnq///7z+0QBuu///vP9/KP7D//+8/zvpVsv//7z+nMF60///vPwbKWLb//+8/FSJGuP//7z+gkSa6///vPx9v+rv//+8/vw7Cvf//7z+Gwn2////vP0naLcH//+8/z6PSwv//7z/PamzE///vPwl5+8X//+8/ThaAx///7z+PiPrI///vP+gTa8r//+8/qfrRy///7z9tfS/N///vPxfbg87//+8/61DPz///7z+PGhLR///vPxlyTNL//+8/HpB+0///7z+xq6jU///vP3z6ytX//+8/vbDl1v//7z9UAfnX///vP80dBdn//+8/aTYK2v//7z8legjb///vP8QWANz//+8/1Djx3P//7z+8C9zd///vP7+5wN7//+8/AWyf3///7z+bSnjg///vP498S+H//+8/5icZ4v//7z+cceHi///vP8N9pOP//+8/cm9i5P//7z/XaBvl///vPz2Lz+X//+8/EPd+5v//7z/hyynn///vP24o0Of//+8/qSpy6P//7z+67w/p///vPwSUqen//+8/LTM/6v//7z8m6NDq///vPyPNXuv//+8/sfvo6///7z+sjG/s///vP02Y8uz//+8/KzZy7f//7z86fe7t///vP9qDZ+7//+8/0V/d7v//7z9VJlDv///vPxDsv+///+8/IMUs8P//7z8XxZbw///vPw3//fD//+8/l4Vi8f//7z/GasTx///vPz7AI/L//+8/JpeA8v//7z8vANvy///vP6ULM/P//+8/W8mI8///7z/DSNzz///vP+KYLfT//+8/Wsh89P//7z9q5cn0///vP/b9FPX//+8/gB9e9f//7z8xV6X1///vP9ux6vX//+8/9zsu9v//7z+vAXD2///vP9kOsPb//+8//W7u9v//7z9QLSv3///vP8RUZvf//+8/APCf9///7z9gCdj3///vP/yqDvj//+8/qN5D+P//7z/6rXf4///vP0Qiqvj//+8/mkTb+P//7z/SHQv5///vP4u2Ofn//+8/Jxdn+f//7z/RR5P5///vP31Qvvn//+8/5zjo+f//7z+fCBH6///vP/fGOPr//+8/G3tf+v//7z//K4X6///vP2/gqfr//+8/AZ/N+v//7z8pbvD6///vPydUEvv//+8/FVcz+///7z/nfFP7///vP2PLcvv//+8/K0iR+///7z+/+K77///vP3Xiy/v//+8/fwro+///7z/wdQP8///vP7gpHvz//+8/pCo4/P//7z9kfVH8///vP4Qmavz//+8/diqC/P//7z+MjZn8///vP/xTsPz//+8/3IHG/P//7z8uG9z8///vP9Qj8fz//+8/lp8F/f//7z8kkhn9///vPxb/LP3//+8/6uk//f//7z8GVlL9///vP75GZP3//+8/TL91/f//7z/Swob9///vP2RUl/3//+8/+Han/f//7z98Lbf9///vP756xv3//+8/gmHV/f//7z925OP9///vPzYG8v3//+8/Tsn//f//7z84MA3+///vP1w9Gv7//+8/FvMm/v//7z+sUzP+///vP1xhP/7//+8/Th5L/v//7z+gjFb+///vP2KuYf7//+8/lIVs/v//7z8oFHf+///vPwZcgf7//+8/Bl+L/v//7z/4HpX+///vP5ydnv7//+8/ptyn/v//7z/C3bD+///vP46iuf7//+8/nizC/v//7z96fcr+///vP6KW0v7//+8/jnna/v//7z+mJ+L+///vP0yi6f7//+8/2Orw/v//7z+eAvj+///vP+Dq/v7//+8/3qQF////7z/MMQz////vP9ySEv///+8/MMkY////7z/o1R7////vPxy6JP///+8/2HYq////7z8mDTD////vPwh+Nf///+8/eMo6////7z9q8z/////vP875RP///+8/iN5J////7z96ok7////vP4JGU////+8/dMtX////7z8gMlz////vP1J7YP///+8/zqdk////7z9WuGj////vP6StbP///+8/bohw////7z9oSXT////vPzzxd////+8/koB7////7z8S+H7////vP1hYgv///+8/AqKF////7z+m1Yj////vP9jzi////+8/KP2O////7z8g8pH////vP0rTlP///+8/LKGX////7z9EXJr////vPxIFnf///+8/Dpyf////7z+yIaL////vP3KWpP///+8/wPqm////7z8GT6n////vP7STq////+8/MMmt////7z/g76/////vPyYIsv///+8/ZhK0////7z/6Drb////vP0L+t////+8/kuC5////7z9Etrv////vP6x/vf///+8/Hj2/////7z/m7sD////vP1aVwv///+8/tjDE////7z9UwcX////vP3hHx////+8/ZsPI////7z9iNcr////vP7Cdy////+8/kvzM////7z9EUs7////vPwafz////+8/FOPQ////7z+mHtL////vP/ZR0////+8/PH3U////7z+uoNX////vP4C81v///+8/5NDX////7z8O3tj////vPyzk2f///+8/buPa////7z8E3Nv////vPxjO3P///+8/1rnd////7z9on97////vP/p+3////+8/sljg////7z+4LOH////vPzD74f///+8/RMTi////7z8SiOP////vP8JG5P///+8/dgDl////7z9MteX////vP2hl5v///+8/6BDn////7z/st+f////vP5Ba6P///+8/9Pjo////7z8yk+n////vP2Yp6v///+8/rrvq////7z8gSuv////vP9rU6////+8/8lvs////7z+A3+z////vP55f7f///+8/Ytzt////7z/iVe7////vPzTM7v///+8/bj/v////7z+kr+/////vP+oc8P///+8/VIfw////7z/07vD////vP+BT8f///+8/KLbx////7z/cFfL////vPxBz8v///+8/1M3y////7z84JvP////vP0x88////+8/HtDz////7z/AIfT////vPz5x9P///+8/qr70////7z8OCvX////vP3hT9f///+8/9pr1////7z+Y4PX////vP2Qk9v///+8/bGb2////7z+6pvb////vP1jl9v///+8/VCL3////7z+2Xff////vP4yX9////+8/3s/3////7z+2Bvj////vPx48+P///+8/InD4////7z/Iovj////vPxzU+P///+8/JgT5////7z/sMvn////vP3pg+f///+8/2Iz5////7z8MuPn////vPx7i+f///+8/Fgv6////7z/8Mvr////vP9hZ+v///+8/rn/6////7z+IpPr////vP2rI+v///+8/XOv6////7z9kDfv////vP4gu+////+8/zk77////7z88bvv////vP9iM+////+8/pqr7////7z+sx/v////vP/Dj+////+8/eP/7////7z9GGvz////vP2A0/P///+8/zE38////7z+OZvz////vP6p+/P///+8/Jpb8////7z8Crfz////vP0bD/P///+8/9tj8////7z8U7vz////vP6QC/f///+8/qhb9////7z8qKv3////vPyg9/f///+8/pk/9////7z+qYf3////vPzRz/f///+8/SIT9////7z/qlP3////vPx6l/f///+8/5LT9////7z9AxP3////vPzbT/f///+8/yOH9////7z/47/3////vP8j9/f///+8/PAv+////7z9WGP7////vPxol/v///+8/hjH+////7z+gPf7////vP2hJ/v///+8/4lT+////7z8QYP7////vP/Jq/v///+8/inX+////7z/cf/7////vP+qJ/v///+8/tJP+////7z88nf7////vP4Sm/v///+8/jq/+////7z9cuP7////vP+7A/v///+8/SMn+////7z9o0f7////vP1TZ/v///+8/CuH+////7z+M6P7////vP9zv/v///+8/+vb+////7z/q/f7////vP6oE/////+8/Pgv/////7z+kEf/////vP+IX/////+8/9B3/////7z/eI//////vP6Ap/////+8/PC//////7z+0NP/////vPwQ6/////+8/Mj//////7z8+RP/////vPyhJ/////+8/8E3/////7z+aUv/////vPyJX/////+8/jlv/////7z/cX//////vPwxk/////+8/IGj/////7z8abP/////vP/hv/////+8/vnP/////7z9od//////vP/x6/////+8/dn7/////7z/agf/////vPyiF/////+8/Xoj/////7z+Ai//////vP4yO/////+8/hJH/////7z9olP/////vPziX/////+8/9pn/////7z+inP/////vPzyf/////+8/xKH/////7z86pP/////vP6Km/////+8/+Kj/////7z9Aq//////vP3at/////+8/oK//////7z+6sf/////vP8az/////+8/xLX/////7z+2t//////vP5q5/////+8/crv/////7z8+vf/////vP/y+/////+8/sMD/////7z9Ywv/////vP/TD/////+8/hsX/////7z8Ox//////vP4zI/////+8/AMr/////7z9qy//////vP8rM/////+8/IM7/////7z9uz//////vP7TQ/////+8/8NH/////7z8m0//////vP1LU/////+8/dtX/////7z+U1v/////vP6jX/////+8/ttj/////7z++2f/////vP77a/////+8/uNv/////7z+q3P/////vP5jd/////+8/ft7/////7z9e3//////vPzjg/////+8/DuH/////7z/e4f/////vP6bi/////+8/bOP/////7z8q5P/////vP+bk/////+8/muX/////7z9M5v/////vP/jm/////+8/oOf/////7z9C6P/////vP+Lo/////+8/fOn/////7z8U6v/////vP6bq/////+8/Nuv/////7z/A6//////vP0js/////+8/zOz/////7z9M7f/////vP8rt/////+8/RO7/////7z+67v/////vPy7v/////+8/oO//////7z8M8P/////vP3jw/////+8/4PD/////7z9G8f/////vP6jx/////+8/CPL/////7z9m8v/////vP8Dy/////+8/GvP/////7z9w8//////vP8Tz/////+8/FvT/////7z9m9P/////vP7T0/////+8/APX/////7z9I9f/////vP5D1/////+8/1vX/////7z8a9v/////vP1z2/////+8/nvb/////7z/c9v/////vPxr3/////+8/Vvf/////7z+Q9//////vP8j3/////+8//vf/////7z80+P/////vP2j4/////+8/nPj/////7z/M+P/////vP/74/////+8/LPn/////7z9a+f/////vP4b5/////+8/svn/////7z/c+f/////vPwb6/////+8/Lvr/////7z9U+v/////vP3r6/////+8/oPr/////7z/E+v/////vP+b6/////+8/CPv/////7z8q+//////vP0r7/////+8/avv/////7z+I+//////vP6b7/////+8/xPv/////7z/g+//////vP/z7/////+8/Fvz/////7z8w/P/////vP0r8/////+8/Yvz/////7z98/P/////vP5L8/////+8/qvz/////7z/A/P/////vP9b8/////+8/6vz/////7z8A/f/////vPxT9/////+8/KP3/////7z86/f/////vP0z9/////+8/YP3/////7z9w/f/////vP4L9/////+8/kv3/////7z+i/f/////vP7L9/////+8/wv3/////7z/S/f/////vP+D9/////+8/7v3/////7z/8/f/////vPwr+/////+8/Fv7/////7z8k/v/////vPzD+/////+8/PP7/////7z9I/v/////vP1T+/////+8/Xv7/////7z9q/v/////vP3T+/////+8/fv7/////7z+I/v/////vP5L+/////+8/nP7/////7z+m/v/////vP67+/////+8/uP7/////7z/A/v/////vP8j+/////+8/0P7/////7z/Y/v/////vP+D+/////+8/6P7/////7z/u/v/////vP/b+/////+8//P7/////7z8E///////vPwr//////+8/EP//////7z8W///////vPx7//////+8/JP//////7z8o///////vPy7//////+8/NP//////7z86///////vPz7//////+8/RP//////7z9I///////vP07//////+8/Uv//////7z9W///////vP1r//////+8/YP//////7z9k///////vP2j//////+8/bP//////7z9w///////vP3T//////+8/dv//////7z96///////vP37//////+8/gv//////7z+E///////vP4j//////+8/jP//////7z+O///////vP5L//////+8/lP//////7z+W///////vP5r//////+8/nP//////7z+e///////vP6L//////+8/pP//////7z+m///////vP6j//////+8/qv//////7z+u///////vP7D//////+8/sv//////7z+0///////vP7b//////+8/uP//////7z+6///////vP7z//////+8/vP//////7z++///////vP8D//////+8/wv//////7z/E///////vP8b//////+8/xv//////7z/I///////vP8r//////+8/zP//////7z/M///////vP87//////+8/0P//////7z/Q///////vP9L//////+8/0v//////7z/U///////vP9b//////+8/1v//////7z/Y///////vP9j//////+8/2v//////7z/a///////vP9z//////+8/3P//////7z/e///////vP97//////+8/4P//////7z/g///////vP+D//////+8/4v//////7z/i///////vP+T//////+8/5P//////7z/k///////vP+b//////+8/5v//////7z/m///////vP+j//////+8/6P//////7z/o///////vP+r//////+8/6v//////7z/q///////vP+z//////+8/7P//////7z/s///////vP+z//////+8/7v//////7z/u///////vP+7//////+8/7v//////7z/w///////vP/D//////+8/8P//////7z/w///////vP/D//////+8/8v//////7z/y///////vP/L//////+8/8v//////7z/y///////vP/T//////+8/9P//////7z/0///////vP/T//////+8/9P//////7z/0///////vP/T//////+8/9v//////7z/2///////vP/b//////+8/9v//////7z/2///////vP/b//////+8/9v//////7z/4///////vP/j//////+8/+P//////7z/4///////vP/j//////+8/+P//////7z/4///////vP/j//////+8/+P//////7z/4///////vP/r//////+8/+v//////7z/6///////vP/r//////+8/+v//////7z/6///////vP/r//////+8/+v//////7z/6///////vP/r//////+8/+v//////7z/6///////vP/z//////+8//P//////7z/8///////vP/z//////+8//P//////7z/8///////vP/z//////+8//P//////7z/8///////vP/z//////+8//P//////7z/8///////vP/z//////+8//P//////7z/8///////vP/z//////+8//P//////7z/8///////vP/z//////+8//P//////7z/+///////vP/7//////+8//v//////7z/+///////vP/7//////+8//v//////7z/+///////vP/7//////+8//v//////7z/+///////vP/7//////+8//v//////7z/+///////vP/7//////+8//v//////7z/+///////vP/7//////+8//v//////7z/+///////vP/7//////+8//v//////7z/+///////vP/7//////+8//v//////7z/+///////vP/7//////+8//v//////7z/+///////vP/7//////+8//v//////7z/+///////vP/7//////+8//v//////7z/+///////vP/7//////+8//v//////7z/+///////vP/7//////+8//v//////7z/+///////vP/7//////+8/AAAAAAAA8D8AAAAAAADwPwAAAAAAAPA/AAAAAAAA8D8AAAAAAADwPwAAAAAAAPA/AAAAAAAA8D8AAAAAAADwPwAAAAAAAPA/AAAAAAAA8D8AAAAAAADwPwAAAAAAAPA/AAAAAAAA8D8AAAAAAADwPwAAAAAAAPA/AAAAAAAA8D8AAAAAAADwPwAAAAAAAPA/AAAAAAAA8D8AAAAAAADwPwAAAAAAAPA/AAAAAAAA8D8AAAAAAADwPwAAAAAAAPA/AAAAAAAA8D8AAAAAAADwPwAAAAAAAPA/AAAAAAAA8D8AAAAAAADwPwAAAAAAAPA/AAAAAAAA8D8AAAAAAADwPwAAAAAAAPA/AAAAAAAA8D8AAAAAAADwPwAAAAAAAPA/AAAAAAAA8D8AAAAAAADwPwAAAAAAAPA/AAAAAAAA8D8AAAAAAADwPwAAAAAAAPA/AAAAAAAA8D8AAAAAAADwPwAAAAAAAPA/AAAAAAAA8D8AAAAAAADwPwAAAAAAAPA/AAAAAAAA8D8AAAAAAADwPwAAAAAAAPA/AAAAAAAA8D8AAAAAAADwPwAAAAAAAPA/AAAAAAAA8D8AAAAAAADwPwAAAAAAAPA/AAAAAAAA8D8AAAAAAADwPwAAAAAAAPA/AAAAAAAA8D8AAAAAAADwPwAAAAAAAPA/AAAAAAAA8D8AAAAAAADwPwAAAAAAAPA/AAAAAAAA8D8AAAAAAADwPwAAAAAAAPA/AAAAAAAA8D8AAAAAAADwPwAAAAAAAPA/AAAAAAAA8D8AAAAAAADwPwAAAAAAAPA/AAAAAAAA8D8AAAAAAADwPwAAAAAAAPA/AAAAAAAA8D8AAAAAAADwPwAAAAAAAPA/AAAAAAAA8D8AAAAAAADwPwAAAAAAAPA/AAAAAAAA8D8AAAAAAADwPwAAAAAAAPA/AAAAAAAA8D8AAAAAAADwPwAAAAAAAPA/AAAAAAAA8D8AAAAAAADwPwAAAAAAAPA/AAAAAAAA8D8AAAAAAADwPwAAAAAAAPA/AAAAAAAA8D8AAAAAAADwPwAAAAAAAPA/AAAAAAAA8D8AAAAAAADwPwAAAAAAAPA/AAAAAAAA8D8AAAAAAADwPwAAAAAAAPA/AAAAAAAA8D8AAAAAAADwPwAAAAAAAPA/AAAAAAAA8D8AAAAAAADwPwAAAAAAAPA/AAAAAAAA8D8AAAAAAADwPwAAAAAAAPA/AAAAAAAA8D8AAAAAAADwPwAAAAAAAPA/AAAAAAAA8D8AAAAAAADwPwAAAAAAAPA/AAAAAAAA8D8AAAAAAADwPwAAAAAAAPA/AAAAAAAA8D8AAAAAAADwPwAAAAAAAPA/AAAAAAAA8D8AAAAAAADwPwAAAAAAAPA/AAAAAAAA8D8AAAAAAADwPwAAAAAAAPA/AAAAAAAA8D8AAAAAAADwPwAAAAAAAPA/AAAAAAAA8D8AAAAAAADwPwAAAAAAAPA/AAAAAAAA8D8AAAAAAADwPwAAAAAAAPA/AAAAAAAA8D8AAAAAAADwPwAAAAAAAPA/AAAAAAAA8D8AAAAAAADwPwAAAAAAAPA/AAAAAAAA8D8AAAAAAADwPwAAAAAAAPA/AAAAAAAA8D8AAAAAAADwPwAAAAAAAPA/AAAAAAAA8D8AAAAAAADwPwAAAAAAAPA/AAAAAAAA8D8AAAAAAADwPwAAAAAAAPA/AAAAAAAA8D8AAAAAAADwPwAAAAAAAPA/AAAAAAAA8D8AAAAAAADwPwAAAAAAAPA/AAAAAAAA8D8AAAAAAADwPwAAAAAAAPA/AAAAAAAA8D8AAAAAAADwPwAAAAAAAPA/AAAAAAAA8D8AAAAAAADwPwAAAAAAAPA/AAAAAAAA8D8AAAAAAADwPwAAAAAAAPA/AAAAAAAA8D8AAAAAAADwPwAAAAAAAPA/AAAAAAAA8D8AAAAAAADwPwAAAAAAAPA/AAAAAAAA8D8AAAAAAADwPwAAAAAAAPA/AAAAAAAA8D8AAAAAAADwPwAAAAAAAPA/AAAAAAAA8D8AAAAAAADwPwAAAAAAAPA/AAAAAAAA8D8AAAAAAADwPwAAAAAAAPA/AAAAAAAA8D8AAAAAAADwPwAAAAAAAPA/AAAAAAAA8D8AAAAAAADwPwAAAAAAAPA/AAAAAAAA8D8AAAAAAADwPwAAAAAAAPA/AAAAAAAA8D8AAAAAAADwPwAAAAAAAPA/AAAAAAAA8D8AAAAAAADwPwAAAAAAAPA/AAAAAAAA8D8AAAAAAADwPwAAAAAAAPA/AAAAAAAA8D8AAAAAAADwPwAAAAAAAPA/AAAAAAAA8D8AAAAAAADwPwAAAAAAAPA/AAAAAAAA8D8AAAAAAADwPwAAAAAAAPA/AAAAAAAA8D8AAAAAAADwPwAAAAAAAPA/AAAAAAAA8D8AAAAAAADwPwAAAAAAAPA/AAAAAAAA8D8AAAAAAADwPwAAAAAAAPA/AAAAAAAA8D8AAAAAAADwPwAAAAAAAPA/AAAAAAAA8D8AAAAAAADwPwAAAAAAAPA/AAAAAAAA8D8AAAAAAADwPwAAAAAAAPA/AAAAAAAA8D8AAAAAAADwPwAAAAAAAPA/AAAAAAAA8D8AAAAAAADwPwAAAAAAAPA/AAAAAAAA8D8AAAAAAADwPwAAAAAAAPA/AAAAAAAA8D8AAAAAAADwPwAAAAAAAPA/AAAAAAAA8D8AAAAAAADwPwAAAAAAAPA/AAAAAAAA8D8AAAAAAADwPwAAAAAAAPA/AAAAAAAA8D8AAAAAAADwPwAAAAAAAPA/AAAAAAAA8D8AAAAAAADwPwAAAAAAAPA/AAAAAAAA8D8AAAAAAADwPwAAAAAAAPA/AAAAAAAA8D8AAAAAAADwPwAAAAAAAPA/AAAAAAAA8D8AAAAAAADwPwAAAAAAAPA/AAAAAAAA8D8AAAAAAADwPwAAAAAAAPA/AAAAAAAA8D8AAAAAAADwPwAAAAAAAPA/AAAAAAAA8D8AAAAAAADwPwAAAAAAAPA/AAAAAAAA8D8AAAAAAADwPwAAAAAAAPA/AAAAAAAA8D8AAAAAAADwPwAAAAAAAPA/AAAAAAAA8D8AAAAAAADwPwAAAAAAAPA/AAAAAAAA8D8AAAAAAADwPwAAAAAAAPA/AAAAAAAA8D8AAAAAAADwPwAAAAAAAPA/AAAAAAAA8D8AAAAAAADwPwAAAAAAAPA/AAAAAAAA8D8AAAAAAADwPwAAAAAAAPA/AAAAAAAA8D8AAAAAAADwPwAAAAAAAPA/AAAAAAAA8D8AAAAAAADwPwAAAAAAAPA/AAAAAAAA8D8AAAAAAADwPwAAAAAAAPA/AAAAAAAA8D8AAAAAAADwPwAAAAAAAPA/AAAAAAAA8D8AAAAAAADwPwAAAAAAAPA/AAAAAAAA8D8AAAAAAADwPwAAAAAAAPA/AAAAAAAA8D8AAAAAAADwPwAAAAAAAPA/AAAAAAAA8D8AAAAAAADwPwAAAAAAAPA/AAAAAAAA8D8AAAAAAADwPwAAAAAAAPA/AAAAAAAA8D8AAAAAAADwPwAAAAAAAPA/AAAAAAAA8D8AAAAAAADwPwAAAAAAAPA/AAAAAAAA8D8AAAAAAADwPwAAAAAAAPA/AAAAAAAA8D8AAAAAAADwPwAAAAAAAPA/AAAAAAAA8D8AAAAAAADwPwAAAAAAAPA/AAAAAAAA8D8AAAAAAADwPwAAAAAAAPA/AAAAAAAA8D8AAAAAAADwPwAAAAAAAPA/AAAAAAAA8D8AAAAAAADwPwAAAAAAAPA/AAAAAAAA8D8AAAAAAADwPwAAAAAAAPA/AAAAAAAA8D8AAAAAAADwPwAAAAAAAPA/AAAAAAAA8D8AAAAAAADwPwAAAAAAAPA/AAAAAAAA8D8AAAAAAADwPwAAAAAAAPA/AAAAAAAA8D8AAAAAAADwPwAAAAAAAPA/AAAAAAAA8D8AAAAAAADwPwAAAAAAAPA/AAAAAAAA8D8AAAAAAADwPwAAAAAAAPA/AAAAAAAA8D8AAAAAAADwPwAAAAAAAPA/AAAAAAAA8D8AAAAAAADwPwAAAAAAAPA/AAAAAAAA8D8AAAAAAADwPwAAAAAAAPA/AAAAAAAA8D8AAAAAAADwPwAAAAAAAPA/AAAAAAAA8D8AAAAAAADwPwAAAAAAAPA/AAAAAAAA8D8AAAAAAADwPwAAAAAAAPA/AAAAAAAA8D8AAAAAAADwPwAAAAAAAPA/AAAAAAAA8D8AAAAAAADwPwAAAAAAAPA/AAAAAAAA8D8AAAAAAADwPwAAAAAAAPA/AAAAAAAA8D8AAAAAAADwPwAAAAAAAPA/AAAAAAAA8D8AAAAAAADwPwAAAAAAAPA/AAAAAAAA8D8AAAAAAADwPwAAAAAAAPA/AAAAAAAA8D8AAAAAAADwPwAAAAAAAPA/AAAAAAAA8D8AAAAAAADwPwAAAAAAAPA/AAAAAAAA8D8AAAAAAADwPwAAAAAAAPA/AAAAAAAA8D8AAAAAAADwPwAAAAAAAPA/AAAAAAAA8D8AAAAAAADwPwAAAAAAAPA/AAAAAAAA8D8AAAAAAADwPwAAAAAAAPA/AAAAAAAA8D8AAAAAAADwPwAAAAAAAPA/AAAAAAAA8D8AAAAAAADwPwAAAAAAAPA/AAAAAAAA8D8AAAAAAADwPwAAAAAAAPA/AAAAAAAA8D8AAAAAAADwPwAAAAAAAPA/AAAAAAAA8D8AAAAAAADwPwAAAAAAAPA/AAAAAAAA8D8AAAAAAADwPwAAAAAAAPA/AAAAAAAA8D8AAAAAAADwPwAAAAAAAPA/AAAAAAAA8D8AAAAAAADwPwAAAAAAAPA/AAAAAAAA8D8AAAAAAADwPwAAAAAAAPA/AAAAAAAA8D8AAAAAAADwPwAAAAAAAPA/AAAAAAAA8D8AAAAAAADwPwAAAAAAAPA/AAAAAAAA8D8AAAAAAADwPwAAAAAAAPA/AAAAAAAA8D8AAAAAAADwPwAAAAAAAPA/AAAAAAAA8D8AAAAAAADwPwAAAAAAAPA/AAAAAAAA8D8AAAAAAADwPwAAAAAAAPA/AAAAAAAA8D8AAAAAAADwPwAAAAAAAPA/AAAAAAAA8D8AAAAAAADwPwAAAAAAAPA/AAAAAAAA8D8AAAAAAADwPwAAAAAAAPA/AAAAAAAA8D8AAAAAAADwPwAAAAAAAPA/AAAAAAAA8D8AAAAAAADwPwAAAAAAAPA/AAAAAAAA8D8AAAAAAADwPwAAAAAAAPA/AAAAAAAA8D8AAAAAAADwPwAAAAAAAPA/AAAAAAAA8D8AAAAAAADwPwAAAAAAAPA/AAAAAAAA8D8AAAAAAADwPwAAAAAAAPA/AAAAAAAA8D8AAAAAAADwPwAAAAAAAPA/AAAAAAAA8D8AAAAAAADwPwAAAAAAAPA/AAAAAAAA8D8AAAAAAADwPwAAAAAAAPA/AAAAAAAA8D8AAAAAAADwPwAAAAAAAPA/AAAAAAAA8D8AAAAAAADwPwAAAAAAAPA/AAAAAAAA8D8AAAAAAADwPwAAAAAAAPA/AAAAAAAA8D8AAAAAAADwPwAAAAAAAPA/AAAAAAAA8D8AAAAAAADwPwAAAAAAAPA/AAAAAAAA8D8AAAAAAADwPwAAAAAAAPA/AAAAAAAA8D8AAAAAAADwPwAAAAAAAPA/AAAAAAAA8D8AAAAAAADwPwAAAAAAAPA/AAAAAAAA8D8AAAAAAADwPwAAAAAAAPA/AAAAAAAA8D8AAAAAAADwPwAAAAAAAPA/AAAAAAAA8D8AAAAAAADwPwAAAAAAAPA/AAAAAAAA8D8AAAAAAADwPwAAAAAAAPA/AAAAAAAA8D8AAAAAAADwPwAAAAAAAPA/AAAAAAAA8D8AAAAAAADwPwAAAAAAAPA/AAAAAAAA8D8AAAAAAADwPwAAAAAAAPA/AAAAAAAA8D8AAAAAAADwPwAAAAAAAPA/AAAAAAAA8D8AAAAAAADwPwAAAAAAAPA/AAAAAAAA8D8AAAAAAADwPwAAAAAAAPA/AAAAAAAA8D8AAAAAAADwPwAAAAAAAPA/AAAAAAAA8D8AAAAAAADwPwAAAAAAAPA/AAAAAAAA8D8AAAAAAADwPwAAAAAAAPA/AAAAAAAA8D8AAAAAAADwPwAAAAAAAPA/AAAAAAAA8D8AAAAAAADwPwAAAAAAAPA/AAAAAAAA8D8AAAAAAADwPwAAAAAAAPA/AAAAAAAA8D8AAAAAAADwPwAAAAAAAPA/AAAAAAAA8D8AAAAAAADwPwAAAAAAAPA/AAAAAAAA8D8AAAAAAADwPwAAAAAAAPA/AAAAAAAA8D8AAAAAAADwPwAAAAAAAPA/AAAAAAAA8D8AAAAAAADwPwAAAAAAAPA/AAAAAAAA8D8AAAAAAADwPwAAAAAAAPA/AAAAAAAA8D8AAAAAAADwPwAAAAAAAPA/AAAAAAAA8D8AAAAAAADwPwAAAAAAAPA/AAAAAAAA8D8AAAAAAADwPwAAAAAAAPA/AAAAAAAA8D8AAAAAAADwPwAAAAAAAPA/AAAAAAAA8D8AAAAAAADwPw==\",\"dtype\":\"float64\",\"shape\":[2000]}},\"selected\":{\"id\":\"20968\"},\"selection_policy\":{\"id\":\"20967\"}},\"id\":\"20423\",\"type\":\"ColumnDataSource\"},{\"attributes\":{},\"id\":\"20445\",\"type\":\"ResetTool\"},{\"attributes\":{},\"id\":\"20441\",\"type\":\"PanTool\"},{\"attributes\":{\"axis\":{\"id\":\"20437\"},\"dimension\":1,\"ticker\":null},\"id\":\"20440\",\"type\":\"Grid\"},{\"attributes\":{},\"id\":\"20964\",\"type\":\"BasicTickFormatter\"},{\"attributes\":{\"data\":{\"x\":[0,1,2,3,4,5,6,7,8,9,10,11,12,13,14,15,16,17,18,19,20,21,22,23,24,25,26,27,28,29,30,31,32,33,34,35,36,37,38,39,40,41,42,43,44,45,46,47,48,49,50,51,52],\"y\":[1,9,15,39,60,70,106,152,200,237,297,340,408,480,530,591,665,733,779,830,860,889,910,934,950,962,973,982,986,987,988,989,989,989,989,989,989,990,990,990,990,990,990,990,990,990,990,990,990,990,990,990,990,990]},\"selected\":{\"id\":\"20971\"},\"selection_policy\":{\"id\":\"20970\"}},\"id\":\"20422\",\"type\":\"ColumnDataSource\"},{\"attributes\":{},\"id\":\"20434\",\"type\":\"BasicTicker\"},{\"attributes\":{\"bottom_units\":\"screen\",\"fill_alpha\":0.5,\"fill_color\":\"lightgrey\",\"left_units\":\"screen\",\"level\":\"overlay\",\"line_alpha\":1.0,\"line_color\":\"black\",\"line_dash\":[4,4],\"line_width\":2,\"render_mode\":\"css\",\"right_units\":\"screen\",\"top_units\":\"screen\"},\"id\":\"20447\",\"type\":\"BoxAnnotation\"},{\"attributes\":{},\"id\":\"20438\",\"type\":\"BasicTicker\"},{\"attributes\":{\"axis\":{\"id\":\"20433\"},\"ticker\":null},\"id\":\"20436\",\"type\":\"Grid\"},{\"attributes\":{\"line_alpha\":0.6,\"line_color\":\"firebrick\",\"line_width\":3,\"x\":{\"field\":\"x\"},\"y\":{\"field\":\"y\"}},\"id\":\"20461\",\"type\":\"Line\"},{\"attributes\":{},\"id\":\"20431\",\"type\":\"LinearScale\"},{\"attributes\":{\"below\":[{\"id\":\"20433\"}],\"center\":[{\"id\":\"20436\"},{\"id\":\"20440\"}],\"left\":[{\"id\":\"20437\"}],\"plot_height\":400,\"plot_width\":400,\"renderers\":[{\"id\":\"20458\"},{\"id\":\"20463\"}],\"title\":{\"id\":\"20962\"},\"toolbar\":{\"id\":\"20448\"},\"x_range\":{\"id\":\"20425\"},\"x_scale\":{\"id\":\"20429\"},\"y_range\":{\"id\":\"20427\"},\"y_scale\":{\"id\":\"20431\"}},\"id\":\"20424\",\"subtype\":\"Figure\",\"type\":\"Plot\"},{\"attributes\":{},\"id\":\"20967\",\"type\":\"UnionRenderers\"},{\"attributes\":{},\"id\":\"20427\",\"type\":\"DataRange1d\"},{\"attributes\":{\"overlay\":{\"id\":\"20447\"}},\"id\":\"20443\",\"type\":\"BoxZoomTool\"},{\"attributes\":{\"source\":{\"id\":\"20422\"}},\"id\":\"20459\",\"type\":\"CDSView\"},{\"attributes\":{},\"id\":\"20971\",\"type\":\"Selection\"},{\"attributes\":{},\"id\":\"20970\",\"type\":\"UnionRenderers\"},{\"attributes\":{\"data_source\":{\"id\":\"20423\"},\"glyph\":{\"id\":\"20461\"},\"hover_glyph\":null,\"muted_glyph\":null,\"nonselection_glyph\":{\"id\":\"20462\"},\"selection_glyph\":null,\"view\":{\"id\":\"20464\"}},\"id\":\"20463\",\"type\":\"GlyphRenderer\"},{\"attributes\":{\"line_alpha\":0.6,\"line_color\":\"#1f77b4\",\"line_width\":3,\"x\":{\"field\":\"x\"},\"y\":{\"field\":\"y\"}},\"id\":\"20456\",\"type\":\"Line\"},{\"attributes\":{\"args\":{\"slider\":{\"id\":\"20465\"},\"source\":{\"id\":\"20423\"}},\"code\":\"\\n    var data = source.data;\\n    var f = slider.value;\\n    var x = data['x'];\\n    var y = data['y'];\\n    for (var i = 0; i < x.length; i++){\\n        y[i] = 1000*(Math.pow(Math.exp(1), f*x[i])-1)/(5+Math.pow(Math.exp(1), f*x[i]))\\n    }\\n    source.change.emit();\\n\"},\"id\":\"20466\",\"type\":\"CustomJS\"},{\"attributes\":{},\"id\":\"20425\",\"type\":\"DataRange1d\"},{\"attributes\":{\"end\":1,\"format\":\"0[.]00\",\"js_property_callbacks\":{\"change:value\":[{\"id\":\"20466\"}]},\"start\":0,\"step\":0.01,\"value\":0},\"id\":\"20465\",\"type\":\"Slider\"},{\"attributes\":{\"line_alpha\":0.1,\"line_color\":\"firebrick\",\"line_width\":3,\"x\":{\"field\":\"x\"},\"y\":{\"field\":\"y\"}},\"id\":\"20462\",\"type\":\"Line\"},{\"attributes\":{},\"id\":\"20444\",\"type\":\"SaveTool\"},{\"attributes\":{},\"id\":\"20966\",\"type\":\"BasicTickFormatter\"},{\"attributes\":{\"source\":{\"id\":\"20423\"}},\"id\":\"20464\",\"type\":\"CDSView\"},{\"attributes\":{},\"id\":\"20968\",\"type\":\"Selection\"},{\"attributes\":{\"active_drag\":\"auto\",\"active_inspect\":\"auto\",\"active_multi\":null,\"active_scroll\":\"auto\",\"active_tap\":\"auto\",\"tools\":[{\"id\":\"20441\"},{\"id\":\"20442\"},{\"id\":\"20443\"},{\"id\":\"20444\"},{\"id\":\"20445\"},{\"id\":\"20446\"}]},\"id\":\"20448\",\"type\":\"Toolbar\"},{\"attributes\":{\"formatter\":{\"id\":\"20966\"},\"ticker\":{\"id\":\"20438\"}},\"id\":\"20437\",\"type\":\"LinearAxis\"},{\"attributes\":{},\"id\":\"20446\",\"type\":\"HelpTool\"}],\"root_ids\":[\"20467\"]},\"title\":\"Bokeh Application\",\"version\":\"2.0.2\"}};\n  var render_items = [{\"docid\":\"4f49eb80-2b19-4c9d-b05e-2863c03752eb\",\"root_ids\":[\"20467\"],\"roots\":{\"20467\":\"81e29dac-93cb-4e56-b36a-b3e44ffb0da3\"}}];\n  root.Bokeh.embed.embed_items_notebook(docs_json, render_items);\n\n  }\n  if (root.Bokeh !== undefined) {\n    embed_document(root);\n  } else {\n    var attempts = 0;\n    var timer = setInterval(function(root) {\n      if (root.Bokeh !== undefined) {\n        clearInterval(timer);\n        embed_document(root);\n      } else {\n        attempts++;\n        if (attempts > 100) {\n          clearInterval(timer);\n          console.log(\"Bokeh: ERROR: Unable to run BokehJS code because BokehJS library is missing\");\n        }\n      }\n    }, 10, root)\n  }\n})(window);",
      "application/vnd.bokehjs_exec.v0+json": ""
     },
     "metadata": {
      "application/vnd.bokehjs_exec.v0+json": {
       "id": "20467"
      }
     }
    }
   ],
   "source": [
    "#例如，定义一个这样的图片：首先我们发现，感染人数的上升与logistic函数非常接近，现在我们希望通过更改logistic函数的参数，来做一个可视化的拟合过程：\n",
    "from bokeh.layouts import column\n",
    "from bokeh.models import CustomJS, ColumnDataSource, Slider\n",
    "\n",
    "x = np.linspace(0, 53, 2000)\n",
    "y = 1/(np.exp(1)**(-x)+1)\n",
    "\n",
    "source1 = ColumnDataSource(data = dict(x = range(0,53), y = ahconfirmed))\n",
    "source2 = ColumnDataSource(data = dict(x = x, y = y))\n",
    "\n",
    "plot = figure(plot_width = 400, plot_height = 400)\n",
    "plot.line('x', 'y', source = source1, line_width = 3, line_alpha = 0.6)\n",
    "plot.line('x', 'y', source = source2, line_width = 3, line_alpha = 0.6, line_color = 'firebrick')\n",
    "\n",
    "slider = Slider(start = 0, end = 1, value = 0, step = 0.01)\n",
    "\n",
    "callback = CustomJS(args = dict(source = source2, slider = slider), code = \"\"\"\n",
    "    var data = source.data;\n",
    "    var f = slider.value;\n",
    "    var x = data['x'];\n",
    "    var y = data['y'];\n",
    "    for (var i = 0; i < x.length; i++){\n",
    "        y[i] = 1000*(Math.pow(Math.exp(1), f*x[i])-1)/(5+Math.pow(Math.exp(1), f*x[i]))\n",
    "    }\n",
    "    source.change.emit();\n",
    "\"\"\")\n",
    "\n",
    "slider.js_on_change('value', callback)\n",
    "\n",
    "show(column(slider, plot))"
   ]
  },
  {
   "cell_type": "markdown",
   "metadata": {},
   "source": [
    "可以看到，上图我们的拟合结果还是比较接近的。这样，就使用可视化的方法得出了模型的参数。"
   ]
  },
  {
   "cell_type": "markdown",
   "metadata": {},
   "source": [
    "### 8.2 更实用的任务——出现or不出现\n",
    "这种方法主要是通过按钮来控制某个图像是否出现，通过`Button`、`Toggle`以及`CheckBox`等等按钮来隐藏或者显示某一图形。这种方法与之前介绍的图例有些相似，下面对安徽、湖北两省的感染数据进行展示："
   ]
  },
  {
   "cell_type": "code",
   "execution_count": 95,
   "metadata": {},
   "outputs": [
    {
     "output_type": "display_data",
     "data": {
      "text/html": "\n\n\n\n\n\n  <div class=\"bk-root\" id=\"c6083767-4223-4922-9fd5-b50e11056f52\" data-root-id=\"23185\"></div>\n"
     },
     "metadata": {}
    },
    {
     "output_type": "display_data",
     "data": {
      "application/javascript": "(function(root) {\n  function embed_document(root) {\n    \n  var docs_json = {\"70383be1-9e07-43c7-a6d4-76f1380c8d01\":{\"roots\":{\"references\":[{\"attributes\":{\"children\":[{\"id\":\"23140\"},{\"id\":\"23181\"},{\"id\":\"23183\"}]},\"id\":\"23185\",\"type\":\"Column\"},{\"attributes\":{\"active_drag\":\"auto\",\"active_inspect\":\"auto\",\"active_multi\":null,\"active_scroll\":\"auto\",\"active_tap\":\"auto\",\"tools\":[{\"id\":\"23157\"},{\"id\":\"23158\"},{\"id\":\"23159\"},{\"id\":\"23160\"},{\"id\":\"23161\"},{\"id\":\"23162\"}]},\"id\":\"23164\",\"type\":\"Toolbar\"},{\"attributes\":{},\"id\":\"23744\",\"type\":\"DatetimeTickFormatter\"},{\"attributes\":{},\"id\":\"23761\",\"type\":\"Selection\"},{\"attributes\":{},\"id\":\"23147\",\"type\":\"LinearScale\"},{\"attributes\":{\"source\":{\"id\":\"23139\"}},\"id\":\"23175\",\"type\":\"CDSView\"},{\"attributes\":{\"bottom_units\":\"screen\",\"fill_alpha\":0.5,\"fill_color\":\"lightgrey\",\"left_units\":\"screen\",\"level\":\"overlay\",\"line_alpha\":1.0,\"line_color\":\"black\",\"line_dash\":[4,4],\"line_width\":2,\"render_mode\":\"css\",\"right_units\":\"screen\",\"top_units\":\"screen\"},\"id\":\"23163\",\"type\":\"BoxAnnotation\"},{\"attributes\":{\"months\":[0,1,2,3,4,5,6,7,8,9,10,11]},\"id\":\"23755\",\"type\":\"MonthsTicker\"},{\"attributes\":{},\"id\":\"23760\",\"type\":\"UnionRenderers\"},{\"attributes\":{\"line_alpha\":0.8,\"line_color\":\"firebrick\",\"line_width\":3,\"x\":{\"field\":\"x\"},\"y\":{\"field\":\"y2\"}},\"id\":\"23177\",\"type\":\"Line\"},{\"attributes\":{\"days\":[1,8,15,22]},\"id\":\"23753\",\"type\":\"DaysTicker\"},{\"attributes\":{\"active\":true,\"background\":\"grey\",\"icon\":null,\"js_property_callbacks\":{\"change:active\":[{\"id\":\"23182\"}]},\"label\":\"Anhui Province\",\"width_policy\":\"min\"},\"id\":\"23181\",\"type\":\"Toggle\"},{\"attributes\":{},\"id\":\"23157\",\"type\":\"PanTool\"},{\"attributes\":{\"data\":{\"x\":{\"__ndarray__\":\"AABAx6j8dkIAAAAt+/x2QgAAwJJN/XZCAACA+J/9dkIAAEBe8v12QgAAAMRE/nZCAADAKZf+dkIAAICP6f52QgAAQPU7/3ZCAAAAW47/dkIAAMDA4P92QgAAgCYzAHdCAABAjIUAd0IAAADy1wB3QgAAwFcqAXdCAACAvXwBd0IAAEAjzwF3QgAAAIkhAndCAADA7nMCd0IAAIBUxgJ3QgAAQLoYA3dCAAAAIGsDd0IAAMCFvQN3QgAAgOsPBHdCAABAUWIEd0IAAAC3tAR3QgAAwBwHBXdCAACAglkFd0IAAEDoqwV3QgAAAE7+BXdCAADAs1AGd0IAAIAZowZ3QgAAQH/1BndCAAAA5UcHd0IAAMBKmgd3QgAAgLDsB3dCAABAFj8Id0IAAAB8kQh3QgAAwOHjCHdCAACARzYJd0IAAECtiAl3QgAAABPbCXdCAADAeC0Kd0IAAIDefwp3QgAAQETSCndCAAAAqiQLd0IAAMAPdwt3QgAAgHXJC3dCAABA2xsMd0IAAABBbgx3QgAAwKbADHdCAACADBMNd0IAAEByZQ13QgAAANi3DXdC\",\"dtype\":\"float64\",\"shape\":[54]},\"y1\":[1,9,15,39,60,70,106,152,200,237,297,340,408,480,530,591,665,733,779,830,860,889,910,934,950,962,973,982,986,987,988,989,989,989,989,989,989,990,990,990,990,990,990,990,990,990,990,990,990,990,990,990,990,990],\"y2\":[444,444,549,761,1058,1423,3554,3554,4903,5806,7153,11177,13522,16678,19665,22112,24953,27100,29631,31728,33366,33366,48206,54406,56249,58182,59989,61682,62031,62442,62662,64084,64084,64287,64786,65187,65596,65914,66337,66907,67103,67217,67332,67466,67592,67666,67707,67743,67760,67773,67781,67786,67790,67794]},\"selected\":{\"id\":\"23761\"},\"selection_policy\":{\"id\":\"23760\"}},\"id\":\"23139\",\"type\":\"ColumnDataSource\"},{\"attributes\":{},\"id\":\"23143\",\"type\":\"DataRange1d\"},{\"attributes\":{},\"id\":\"23145\",\"type\":\"LinearScale\"},{\"attributes\":{},\"id\":\"23158\",\"type\":\"WheelZoomTool\"},{\"attributes\":{\"source\":{\"id\":\"23139\"}},\"id\":\"23180\",\"type\":\"CDSView\"},{\"attributes\":{\"overlay\":{\"id\":\"23163\"}},\"id\":\"23159\",\"type\":\"BoxZoomTool\"},{\"attributes\":{\"days\":[1,2,3,4,5,6,7,8,9,10,11,12,13,14,15,16,17,18,19,20,21,22,23,24,25,26,27,28,29,30,31]},\"id\":\"23751\",\"type\":\"DaysTicker\"},{\"attributes\":{\"days\":[1,4,7,10,13,16,19,22,25,28]},\"id\":\"23752\",\"type\":\"DaysTicker\"},{\"attributes\":{\"days\":[1,15]},\"id\":\"23754\",\"type\":\"DaysTicker\"},{\"attributes\":{\"axis\":{\"id\":\"23149\"},\"ticker\":null},\"id\":\"23152\",\"type\":\"Grid\"},{\"attributes\":{\"months\":[0,4,8]},\"id\":\"23757\",\"type\":\"MonthsTicker\"},{\"attributes\":{\"formatter\":{\"id\":\"23746\"},\"ticker\":{\"id\":\"23154\"}},\"id\":\"23153\",\"type\":\"LinearAxis\"},{\"attributes\":{},\"id\":\"23141\",\"type\":\"DataRange1d\"},{\"attributes\":{\"num_minor_ticks\":5,\"tickers\":[{\"id\":\"23748\"},{\"id\":\"23749\"},{\"id\":\"23750\"},{\"id\":\"23751\"},{\"id\":\"23752\"},{\"id\":\"23753\"},{\"id\":\"23754\"},{\"id\":\"23755\"},{\"id\":\"23756\"},{\"id\":\"23757\"},{\"id\":\"23758\"},{\"id\":\"23759\"}]},\"id\":\"23150\",\"type\":\"DatetimeTicker\"},{\"attributes\":{},\"id\":\"23154\",\"type\":\"BasicTicker\"},{\"attributes\":{\"below\":[{\"id\":\"23149\"}],\"center\":[{\"id\":\"23152\"},{\"id\":\"23156\"}],\"left\":[{\"id\":\"23153\"}],\"plot_height\":400,\"plot_width\":800,\"renderers\":[{\"id\":\"23174\"},{\"id\":\"23179\"}],\"title\":{\"id\":\"23742\"},\"toolbar\":{\"id\":\"23164\"},\"x_range\":{\"id\":\"23141\"},\"x_scale\":{\"id\":\"23145\"},\"y_range\":{\"id\":\"23143\"},\"y_scale\":{\"id\":\"23147\"}},\"id\":\"23140\",\"subtype\":\"Figure\",\"type\":\"Plot\"},{\"attributes\":{\"active\":true,\"background\":\"grey\",\"icon\":null,\"js_property_callbacks\":{\"change:active\":[{\"id\":\"23184\"}]},\"label\":\"Hubei Province\",\"width_policy\":\"min\"},\"id\":\"23183\",\"type\":\"Toggle\"},{\"attributes\":{\"line_alpha\":0.1,\"line_color\":\"firebrick\",\"line_width\":3,\"x\":{\"field\":\"x\"},\"y\":{\"field\":\"y2\"}},\"id\":\"23178\",\"type\":\"Line\"},{\"attributes\":{},\"id\":\"23746\",\"type\":\"BasicTickFormatter\"},{\"attributes\":{\"line_alpha\":0.1,\"line_color\":\"navy\",\"line_width\":3,\"x\":{\"field\":\"x\"},\"y\":{\"field\":\"y1\"}},\"id\":\"23173\",\"type\":\"Line\"},{\"attributes\":{\"base\":60,\"mantissas\":[1,2,5,10,15,20,30],\"max_interval\":1800000.0,\"min_interval\":1000.0,\"num_minor_ticks\":0},\"id\":\"23749\",\"type\":\"AdaptiveTicker\"},{\"attributes\":{\"months\":[0,2,4,6,8,10]},\"id\":\"23756\",\"type\":\"MonthsTicker\"},{\"attributes\":{\"data_source\":{\"id\":\"23139\"},\"glyph\":{\"id\":\"23177\"},\"hover_glyph\":null,\"muted_glyph\":null,\"nonselection_glyph\":{\"id\":\"23178\"},\"selection_glyph\":null,\"view\":{\"id\":\"23180\"}},\"id\":\"23179\",\"type\":\"GlyphRenderer\"},{\"attributes\":{\"formatter\":{\"id\":\"23744\"},\"ticker\":{\"id\":\"23150\"}},\"id\":\"23149\",\"type\":\"DatetimeAxis\"},{\"attributes\":{\"args\":{\"other\":{\"id\":\"23179\"}},\"code\":\"other.visible = this.active\"},\"id\":\"23184\",\"type\":\"CustomJS\"},{\"attributes\":{\"base\":24,\"mantissas\":[1,2,4,6,8,12],\"max_interval\":43200000.0,\"min_interval\":3600000.0,\"num_minor_ticks\":0},\"id\":\"23750\",\"type\":\"AdaptiveTicker\"},{\"attributes\":{\"axis\":{\"id\":\"23153\"},\"dimension\":1,\"ticker\":null},\"id\":\"23156\",\"type\":\"Grid\"},{\"attributes\":{\"data_source\":{\"id\":\"23139\"},\"glyph\":{\"id\":\"23172\"},\"hover_glyph\":null,\"muted_glyph\":null,\"nonselection_glyph\":{\"id\":\"23173\"},\"selection_glyph\":null,\"view\":{\"id\":\"23175\"}},\"id\":\"23174\",\"type\":\"GlyphRenderer\"},{\"attributes\":{},\"id\":\"23160\",\"type\":\"SaveTool\"},{\"attributes\":{\"line_alpha\":0.8,\"line_color\":\"navy\",\"line_width\":3,\"x\":{\"field\":\"x\"},\"y\":{\"field\":\"y1\"}},\"id\":\"23172\",\"type\":\"Line\"},{\"attributes\":{\"mantissas\":[1,2,5],\"max_interval\":500.0,\"num_minor_ticks\":0},\"id\":\"23748\",\"type\":\"AdaptiveTicker\"},{\"attributes\":{},\"id\":\"23162\",\"type\":\"HelpTool\"},{\"attributes\":{\"text\":\"\"},\"id\":\"23742\",\"type\":\"Title\"},{\"attributes\":{},\"id\":\"23759\",\"type\":\"YearsTicker\"},{\"attributes\":{},\"id\":\"23161\",\"type\":\"ResetTool\"},{\"attributes\":{\"args\":{\"other\":{\"id\":\"23174\"}},\"code\":\"other.visible = this.active\"},\"id\":\"23182\",\"type\":\"CustomJS\"},{\"attributes\":{\"months\":[0,6]},\"id\":\"23758\",\"type\":\"MonthsTicker\"}],\"root_ids\":[\"23185\"]},\"title\":\"Bokeh Application\",\"version\":\"2.0.2\"}};\n  var render_items = [{\"docid\":\"70383be1-9e07-43c7-a6d4-76f1380c8d01\",\"root_ids\":[\"23185\"],\"roots\":{\"23185\":\"c6083767-4223-4922-9fd5-b50e11056f52\"}}];\n  root.Bokeh.embed.embed_items_notebook(docs_json, render_items);\n\n  }\n  if (root.Bokeh !== undefined) {\n    embed_document(root);\n  } else {\n    var attempts = 0;\n    var timer = setInterval(function(root) {\n      if (root.Bokeh !== undefined) {\n        clearInterval(timer);\n        embed_document(root);\n      } else {\n        attempts++;\n        if (attempts > 100) {\n          clearInterval(timer);\n          console.log(\"Bokeh: ERROR: Unable to run BokehJS code because BokehJS library is missing\");\n        }\n      }\n    }, 10, root)\n  }\n})(window);",
      "application/vnd.bokehjs_exec.v0+json": ""
     },
     "metadata": {
      "application/vnd.bokehjs_exec.v0+json": {
       "id": "23185"
      }
     }
    }
   ],
   "source": [
    "from bokeh.models import Toggle\n",
    "\n",
    "source = ColumnDataSource(data = dict(\n",
    "    x =  ahncov['Observation Date'],\n",
    "    y1 = ahconfirmed,\n",
    "    y2 = hbconfirmed,\n",
    "))\n",
    "\n",
    "p = figure(plot_width = 800, plot_height = 400, x_axis_type = 'datetime')\n",
    "ah = p.line('x', 'y1', source = source, line_width = 3, line_color = 'navy', line_alpha = 0.8)\n",
    "hb = p.line('x', 'y2', source = source, line_width = 3, line_color = 'firebrick', line_alpha = 0.8)\n",
    "\n",
    "toggle1 = Toggle(label = 'Anhui Province', button_type = 'default', active = True, width_policy = 'min', background = 'grey')\n",
    "toggle1.js_link('active', ah, 'visible')\n",
    "\n",
    "toggle2 = Toggle(label = 'Hubei Province', button_type = 'default', active = True, width_policy = 'min', background = 'grey' )\n",
    "toggle2.js_link('active', hb, 'visible')\n",
    "\n",
    "show(column(p, toggle1, toggle2))"
   ]
  },
  {
   "cell_type": "markdown",
   "metadata": {},
   "source": [
    "## 9 图片存储\n",
    "\n",
    "Bokeh支持图片的多种存储模式——`png`、`svg`等。\n",
    "`png`:\n",
    "```\n",
    "from bokeh.io import export_png\n",
    "\n",
    "export_png(plot, filename=\"plot.png\")\n",
    "```\n",
    "`svg`:\n",
    "```\n",
    "from bokeh.io import export_svgs\n",
    "\n",
    "plot.output_backend = \"svg\"\n",
    "export_svgs(plot, filename=\"plot.svg\")\n",
    "```\n"
   ]
  },
  {
   "cell_type": "markdown",
   "metadata": {},
   "source": [
    "## 10 将`Bokeh`图片嵌入至网页\n",
    "（这一部分的内容致谢：https://alanlee.fun/2018/03/15/embed-bokeh-plot/， 给出了非常完整的解释。）\n",
    "将Bokeh图像嵌入到网页文件(包括博客、Markdown等等)中，主要有三种方法：\n",
    "- HTML文档\n",
    "- Components\n",
    "- 自动加载脚本\n",
    "\n",
    "其中，最稳定的方法为输出HTML文档。假设现在我们已经输出了HTML文档`layout1.html`，使用您的编辑器打开该文档，查看HTML文件中`<div class=\"bk-root\">`这一div块以及`script type=\"application/json\" id=\"id\">`和`<script type=\"text/javascript\">`中的内容，复制到目标网页中即可。\n",
    "\n",
    "Components方法针对的是html文档标签，通过component去分解作图代码，生成html中指定的标签（div\\script等），但是这种方法并不稳定，不建议使用。\n",
    "\n",
    "自动加载脚本，主要是把绘图的脚本放在自家服务器上面，用`bokeh.embed`中的`autoload_static`函数，自动加载脚本。\n",
    "\n",
    "总的来说，比较支持的是第一种方法，只需要复制到html或md文档内就可以生成图像。"
   ]
  },
  {
   "cell_type": "markdown",
   "metadata": {},
   "source": [
    "## 11 一些有意思的应用\n",
    "\n",
    "### 11.1 元素表(来自于官方文档)："
   ]
  },
  {
   "cell_type": "code",
   "execution_count": 117,
   "metadata": {},
   "outputs": [
    {
     "output_type": "display_data",
     "data": {
      "text/html": "\n\n\n\n\n\n  <div class=\"bk-root\" id=\"3fab58bf-6216-41e9-bbb8-dfffdbd383a8\" data-root-id=\"41254\"></div>\n"
     },
     "metadata": {}
    },
    {
     "output_type": "display_data",
     "data": {
      "application/javascript": "(function(root) {\n  function embed_document(root) {\n    \n  var docs_json = {\"4dd69ec7-6f3f-4822-8def-b056a4bf932c\":{\"roots\":{\"references\":[{\"attributes\":{\"below\":[{\"id\":\"41265\"}],\"center\":[{\"id\":\"41267\"},{\"id\":\"41270\"},{\"id\":\"41285\"}],\"left\":[{\"id\":\"41268\"}],\"outline_line_color\":null,\"plot_height\":500,\"plot_width\":900,\"renderers\":[{\"id\":\"41278\"},{\"id\":\"41291\"},{\"id\":\"41297\"},{\"id\":\"41303\"},{\"id\":\"41309\"},{\"id\":\"41314\"}],\"title\":{\"id\":\"41255\"},\"toolbar\":{\"id\":\"41272\"},\"toolbar_location\":null,\"x_range\":{\"id\":\"41257\"},\"x_scale\":{\"id\":\"41261\"},\"y_range\":{\"id\":\"41259\"},\"y_scale\":{\"id\":\"41263\"}},\"id\":\"41254\",\"subtype\":\"Figure\",\"type\":\"Plot\"},{\"attributes\":{\"text\":{\"field\":\"name\"},\"text_baseline\":\"middle\",\"text_color\":{\"value\":\"black\"},\"text_font_size\":{\"value\":\"7px\"},\"x\":{\"field\":\"group\",\"transform\":{\"id\":\"41287\"}},\"y\":{\"field\":\"period\",\"transform\":{\"id\":\"41299\"}}},\"id\":\"41301\",\"type\":\"Text\"},{\"attributes\":{\"axis_line_color\":null,\"formatter\":{\"id\":\"41284\"},\"major_label_standoff\":0,\"major_tick_line_color\":null,\"ticker\":{\"id\":\"41269\"}},\"id\":\"41268\",\"type\":\"CategoricalAxis\"},{\"attributes\":{\"data_source\":{\"id\":\"41253\"},\"glyph\":{\"id\":\"41276\"},\"hover_glyph\":null,\"muted_glyph\":null,\"nonselection_glyph\":{\"id\":\"41277\"},\"selection_glyph\":null,\"view\":{\"id\":\"41279\"}},\"id\":\"41278\",\"type\":\"GlyphRenderer\"},{\"attributes\":{\"factors\":[\"VII\",\"VI\",\"V\",\"IV\",\"III\",\"II\",\"I\"]},\"id\":\"41259\",\"type\":\"FactorRange\"},{\"attributes\":{\"text\":\"Periodic Table (omitting LA and AC Series)\"},\"id\":\"41255\",\"type\":\"Title\"},{\"attributes\":{\"source\":{\"id\":\"41253\"}},\"id\":\"41310\",\"type\":\"CDSView\"},{\"attributes\":{},\"id\":\"41269\",\"type\":\"CategoricalTicker\"},{\"attributes\":{\"fill_alpha\":{\"value\":0.1},\"fill_color\":{\"field\":\"metal\",\"transform\":{\"id\":\"41274\"}},\"height\":{\"units\":\"data\",\"value\":0.95},\"line_alpha\":{\"value\":0.1},\"line_color\":{\"field\":\"metal\",\"transform\":{\"id\":\"41274\"}},\"width\":{\"units\":\"data\",\"value\":0.95},\"x\":{\"field\":\"group\"},\"y\":{\"field\":\"period\"}},\"id\":\"41277\",\"type\":\"Rect\"},{\"attributes\":{},\"id\":\"42288\",\"type\":\"Selection\"},{\"attributes\":{\"data_source\":{\"id\":\"41253\"},\"glyph\":{\"id\":\"41307\"},\"hover_glyph\":null,\"muted_glyph\":null,\"nonselection_glyph\":{\"id\":\"41308\"},\"selection_glyph\":null,\"view\":{\"id\":\"41310\"}},\"id\":\"41309\",\"type\":\"GlyphRenderer\"},{\"attributes\":{},\"id\":\"41282\",\"type\":\"CategoricalTickFormatter\"},{\"attributes\":{\"source\":{\"id\":\"41253\"}},\"id\":\"41279\",\"type\":\"CDSView\"},{\"attributes\":{\"data_source\":{\"id\":\"41311\"},\"glyph\":{\"id\":\"41312\"},\"hover_glyph\":null,\"muted_glyph\":null,\"nonselection_glyph\":{\"id\":\"41313\"},\"selection_glyph\":null,\"view\":{\"id\":\"41315\"}},\"id\":\"41314\",\"type\":\"GlyphRenderer\"},{\"attributes\":{\"range\":{\"id\":\"41257\"},\"value\":-0.4},\"id\":\"41287\",\"type\":\"Dodge\"},{\"attributes\":{},\"id\":\"41263\",\"type\":\"CategoricalScale\"},{\"attributes\":{\"callback\":null,\"tooltips\":[[\"Name\",\"@name\"],[\"Atomic number\",\"@{atomic number}\"],[\"Atomic mass\",\"@{atomic mass}\"],[\"Type\",\"@metal\"],[\"CPK color\",\"$color[hex, swatch]:CPK\"],[\"Electronic configuration\",\"@{electronic configuration}\"]]},\"id\":\"41271\",\"type\":\"HoverTool\"},{\"attributes\":{\"text\":{\"field\":\"atomic number\"},\"text_baseline\":\"middle\",\"text_color\":{\"value\":\"black\"},\"text_font_size\":{\"value\":\"11px\"},\"x\":{\"field\":\"group\",\"transform\":{\"id\":\"41287\"}},\"y\":{\"field\":\"period\",\"transform\":{\"id\":\"41293\"}}},\"id\":\"41295\",\"type\":\"Text\"},{\"attributes\":{\"range\":{\"id\":\"41259\"},\"value\":-0.2},\"id\":\"41305\",\"type\":\"Dodge\"},{\"attributes\":{\"data_source\":{\"id\":\"41253\"},\"glyph\":{\"id\":\"41295\"},\"hover_glyph\":null,\"muted_glyph\":null,\"nonselection_glyph\":{\"id\":\"41296\"},\"selection_glyph\":null,\"view\":{\"id\":\"41298\"}},\"id\":\"41297\",\"type\":\"GlyphRenderer\"},{\"attributes\":{},\"id\":\"42287\",\"type\":\"UnionRenderers\"},{\"attributes\":{\"text_align\":\"center\",\"text_baseline\":\"middle\",\"text_color\":{\"value\":\"black\"},\"x\":{\"field\":\"x\"},\"y\":{\"field\":\"y\"}},\"id\":\"41312\",\"type\":\"Text\"},{\"attributes\":{\"text\":{\"field\":\"atomic mass\"},\"text_baseline\":\"middle\",\"text_color\":{\"value\":\"black\"},\"text_font_size\":{\"value\":\"7px\"},\"x\":{\"field\":\"group\",\"transform\":{\"id\":\"41287\"}},\"y\":{\"field\":\"period\",\"transform\":{\"id\":\"41305\"}}},\"id\":\"41307\",\"type\":\"Text\"},{\"attributes\":{\"factors\":[\"alkali metal\",\"alkaline earth metal\",\"metal\",\"halogen\",\"metalloid\",\"noble gas\",\"nonmetal\",\"transition metal\"],\"palette\":[\"#a6cee3\",\"#1f78b4\",\"#d93b43\",\"#999d9a\",\"#e08d49\",\"#eaeaea\",\"#f1d4Af\",\"#599d7A\"]},\"id\":\"41274\",\"type\":\"CategoricalColorMapper\"},{\"attributes\":{\"source\":{\"id\":\"41311\"}},\"id\":\"41315\",\"type\":\"CDSView\"},{\"attributes\":{},\"id\":\"41284\",\"type\":\"CategoricalTickFormatter\"},{\"attributes\":{},\"id\":\"41261\",\"type\":\"CategoricalScale\"},{\"attributes\":{\"range\":{\"id\":\"41259\"},\"value\":-0.35},\"id\":\"41299\",\"type\":\"Dodge\"},{\"attributes\":{\"axis_line_color\":null,\"formatter\":{\"id\":\"41282\"},\"major_label_standoff\":0,\"major_tick_line_color\":null,\"ticker\":{\"id\":\"41266\"}},\"id\":\"41265\",\"type\":\"CategoricalAxis\"},{\"attributes\":{},\"id\":\"41266\",\"type\":\"CategoricalTicker\"},{\"attributes\":{\"source\":{\"id\":\"41253\"}},\"id\":\"41292\",\"type\":\"CDSView\"},{\"attributes\":{\"data_source\":{\"id\":\"41253\"},\"glyph\":{\"id\":\"41289\"},\"hover_glyph\":null,\"muted_glyph\":null,\"nonselection_glyph\":{\"id\":\"41290\"},\"selection_glyph\":null,\"view\":{\"id\":\"41292\"}},\"id\":\"41291\",\"type\":\"GlyphRenderer\"},{\"attributes\":{\"text\":{\"field\":\"atomic mass\"},\"text_alpha\":{\"value\":0.1},\"text_baseline\":\"middle\",\"text_color\":{\"value\":\"black\"},\"x\":{\"field\":\"group\",\"transform\":{\"id\":\"41287\"}},\"y\":{\"field\":\"period\",\"transform\":{\"id\":\"41305\"}}},\"id\":\"41308\",\"type\":\"Text\"},{\"attributes\":{\"text\":{\"field\":\"symbol\"},\"text_alpha\":{\"value\":0.1},\"text_baseline\":\"middle\",\"text_color\":{\"value\":\"black\"},\"x\":{\"field\":\"group\",\"transform\":{\"id\":\"41287\"}},\"y\":{\"field\":\"period\"}},\"id\":\"41290\",\"type\":\"Text\"},{\"attributes\":{\"source\":{\"id\":\"41253\"}},\"id\":\"41304\",\"type\":\"CDSView\"},{\"attributes\":{\"factors\":[\"1\",\"2\",\"3\",\"4\",\"5\",\"6\",\"7\",\"8\",\"9\",\"10\",\"11\",\"12\",\"13\",\"14\",\"15\",\"16\",\"17\",\"18\"]},\"id\":\"41257\",\"type\":\"FactorRange\"},{\"attributes\":{\"axis\":{\"id\":\"41265\"},\"grid_line_color\":null,\"ticker\":null},\"id\":\"41267\",\"type\":\"Grid\"},{\"attributes\":{\"text_align\":\"center\",\"text_alpha\":{\"value\":0.1},\"text_baseline\":\"middle\",\"text_color\":{\"value\":\"black\"},\"x\":{\"field\":\"x\"},\"y\":{\"field\":\"y\"}},\"id\":\"41313\",\"type\":\"Text\"},{\"attributes\":{\"text\":{\"field\":\"atomic number\"},\"text_alpha\":{\"value\":0.1},\"text_baseline\":\"middle\",\"text_color\":{\"value\":\"black\"},\"x\":{\"field\":\"group\",\"transform\":{\"id\":\"41287\"}},\"y\":{\"field\":\"period\",\"transform\":{\"id\":\"41293\"}}},\"id\":\"41296\",\"type\":\"Text\"},{\"attributes\":{\"text\":{\"field\":\"name\"},\"text_alpha\":{\"value\":0.1},\"text_baseline\":\"middle\",\"text_color\":{\"value\":\"black\"},\"x\":{\"field\":\"group\",\"transform\":{\"id\":\"41287\"}},\"y\":{\"field\":\"period\",\"transform\":{\"id\":\"41299\"}}},\"id\":\"41302\",\"type\":\"Text\"},{\"attributes\":{\"items\":[{\"id\":\"41286\"}],\"location\":\"top_center\",\"orientation\":\"horizontal\"},\"id\":\"41285\",\"type\":\"Legend\"},{\"attributes\":{\"text\":{\"field\":\"symbol\"},\"text_baseline\":\"middle\",\"text_color\":{\"value\":\"black\"},\"text_font_style\":\"bold\",\"x\":{\"field\":\"group\",\"transform\":{\"id\":\"41287\"}},\"y\":{\"field\":\"period\"}},\"id\":\"41289\",\"type\":\"Text\"},{\"attributes\":{\"data\":{\"text\":[\"LA\",\"AC\"],\"x\":[\"3\",\"3\"],\"y\":[\"VI\",\"VII\"]},\"selected\":{\"id\":\"42288\"},\"selection_policy\":{\"id\":\"42287\"}},\"id\":\"41311\",\"type\":\"ColumnDataSource\"},{\"attributes\":{},\"id\":\"42286\",\"type\":\"Selection\"},{\"attributes\":{\"data_source\":{\"id\":\"41253\"},\"glyph\":{\"id\":\"41301\"},\"hover_glyph\":null,\"muted_glyph\":null,\"nonselection_glyph\":{\"id\":\"41302\"},\"selection_glyph\":null,\"view\":{\"id\":\"41304\"}},\"id\":\"41303\",\"type\":\"GlyphRenderer\"},{\"attributes\":{\"label\":{\"field\":\"metal\"},\"renderers\":[{\"id\":\"41278\"}]},\"id\":\"41286\",\"type\":\"LegendItem\"},{\"attributes\":{\"data\":{\"CPK\":[\"#FFFFFF\",\"#D9FFFF\",\"#CC80FF\",\"#C2FF00\",\"#FFB5B5\",\"#909090\",\"#3050F8\",\"#FF0D0D\",\"#90E050\",\"#B3E3F5\",\"#AB5CF2\",\"#8AFF00\",\"#BFA6A6\",\"#F0C8A0\",\"#FF8000\",\"#FFFF30\",\"#1FF01F\",\"#80D1E3\",\"#8F40D4\",\"#3DFF00\",\"#E6E6E6\",\"#BFC2C7\",\"#A6A6AB\",\"#8A99C7\",\"#9C7AC7\",\"#E06633\",\"#F090A0\",\"#50D050\",\"#C88033\",\"#7D80B0\",\"#C28F8F\",\"#668F8F\",\"#BD80E3\",\"#FFA100\",\"#A62929\",\"#5CB8D1\",\"#702EB0\",\"#00FF00\",\"#94FFFF\",\"#94E0E0\",\"#73C2C9\",\"#54B5B5\",\"#3B9E9E\",\"#248F8F\",\"#0A7D8C\",\"#006985\",\"#C0C0C0\",\"#FFD98F\",\"#A67573\",\"#668080\",\"#9E63B5\",\"#D47A00\",\"#940094\",\"#429EB0\",\"#57178F\",\"#00C900\",\"#4DC2FF\",\"#4DA6FF\",\"#2194D6\",\"#267DAB\",\"#266696\",\"#175487\",\"#D0D0E0\",\"#FFD123\",\"#B8B8D0\",\"#A6544D\",\"#575961\",\"#9E4FB5\",\"#AB5C00\",\"#754F45\",\"#428296\",\"#420066\",\"#007D00\",\"#CC0059\",\"#D1004F\",\"#D90045\",\"#E00038\",\"#E6002E\",\"#EB0026\",\"#FF1493\",\"#FF1493\",\"#FF1493\",\"#FF1493\",\"#FF1493\",\"#FF1493\",\"#FF1493\",\"#FF1493\",\"#FF1493\"],\"EA\":{\"__ndarray__\":\"AAAAAABAUsAAAAAAAAAAAAAAAAAAAE7AAAAAAAAAAAAAAAAAAAA7wAAAAAAAQGPAAAAAAAAAHMAAAAAAAKBhwAAAAAAAgHTAAAAAAAAAAAAAAAAAAIBKwAAAAAAAAAAAAAAAAACARcAAAAAAAMBgwAAAAAAAAFLAAAAAAAAAacAAAAAAANB1wAAAAAAAAAAAAAAAAAAASMAAAAAAAAAAwAAAAAAAADLAAAAAAAAAIMAAAAAAAIBJwAAAAAAAAFDAAAAAAAAAAAAAAAAAAAAwwAAAAAAAAFDAAAAAAAAAXMAAAAAAAIBdwAAAAAAAAAAAAAAAAAAAPcAAAAAAAMBdwAAAAAAAgFPAAAAAAABgaMAAAAAAAFB0wAAAAAAAAAAAAAAAAACAR8AAAAAAAAAUwAAAAAAAAD7AAAAAAACARMAAAAAAAIBVwAAAAAAAAFLAAAAAAACASsAAAAAAAEBZwAAAAAAAgFvAAAAAAAAAS8AAAAAAAIBfwAAAAAAAAAAAAAAAAAAAPcAAAAAAAMBawAAAAAAAwFnAAAAAAADAZ8AAAAAAAHBywAAAAAAAAAAAAAAAAAAAR8AAAAAAAAAswAAAAAAAAAAAAAAAAAAAP8AAAAAAAMBTwAAAAAAAAC7AAAAAAACAWsAAAAAAAOBiwAAAAAAAoGnAAAAAAADga8AAAAAAAAAAAAAAAAAAADPAAAAAAACAQcAAAAAAAMBWwAAAAAAA4GbAAAAAAADgcMAAAAAAAAD4fwAAAAAAAPh/AAAAAAAA+H8AAAAAAAD4fwAAAAAAAPh/AAAAAAAA+H8AAAAAAAD4fwAAAAAAAPh/AAAAAAAA+H8AAAAAAAD4fwAAAAAAAPh/AAAAAAAA+H8AAAAAAAD4fwAAAAAAAPh/AAAAAAAA+H8AAAAAAAD4fwAAAAAAAPh/AAAAAAAA+H8=\",\"dtype\":\"float64\",\"shape\":[88]},\"IE-1\":{\"__ndarray__\":\"AAAAAACAlEAAAAAAAIiiQAAAAAAAQIBAAAAAAAAgjEAAAAAAAAiJQAAAAAAA/JBAAAAAAADolUAAAAAAAIiUQAAAAAAARJpAAAAAAABCoEAAAAAAAAB/QAAAAAAAEIdAAAAAAAAQgkAAAAAAAJiIQAAAAAAAoI9AAAAAAABAj0AAAAAAAIyTQAAAAAAAxJdAAAAAAAAwekAAAAAAAHCCQAAAAAAAyINAAAAAAACYhEAAAAAAAFiEQAAAAAAAaIRAAAAAAABohkAAAAAAANiHQAAAAAAAwIdAAAAAAAAIh0AAAAAAAFCHQAAAAAAAUIxAAAAAAAAYgkAAAAAAANCHQAAAAAAAmI1AAAAAAABojUAAAAAAANCRQAAAAAAAHJVAAAAAAAAweUAAAAAAADCBQAAAAAAAwIJAAAAAAAAAhEAAAAAAAGCEQAAAAAAAYIVAAAAAAADwhUAAAAAAADCGQAAAAAAAgIZAAAAAAAAgiUAAAAAAANiGQAAAAAAAIItAAAAAAABwgUAAAAAAACiGQAAAAAAAEIpAAAAAAAAoi0AAAAAAAICPQAAAAAAASJJAAAAAAACAd0AAAAAAAHB/QAAAAAAAmIRAAAAAAADIh0AAAAAAABCIQAAAAAAAwIdAAAAAAABAikAAAAAAAICLQAAAAAAAMItAAAAAAADQi0AAAAAAAHiPQAAAAAAAaIJAAAAAAABghkAAAAAAAPiFQAAAAAAAYIlAAAAAAADAjEAAAAAAADSQQAAAAAAAwHdAAAAAAADQf0AAAAAAAAD4fwAAAAAAAPh/AAAAAAAA+H8AAAAAAAD4fwAAAAAAAPh/AAAAAAAA+H8AAAAAAAD4fwAAAAAAAPh/AAAAAAAA+H8AAAAAAAD4fwAAAAAAAPh/AAAAAAAA+H8AAAAAAAD4fwAAAAAAAPh/AAAAAAAA+H8=\",\"dtype\":\"float64\",\"shape\":[88]},\"atomic mass\":[\"1.00794\",\"4.002602\",\"6.941\",\"9.012182\",\"10.811\",\"12.0107\",\"14.0067\",\"15.9994\",\"18.9984032\",\"20.1797\",\"22.98976928\",\"24.3050\",\"26.9815386\",\"28.0855\",\"30.973762\",\"32.065\",\"35.453\",\"39.948\",\"39.0983\",\"40.078\",\"44.955912\",\"47.867\",\"50.9415\",\"51.9961\",\"54.938045\",\"55.845\",\"58.933195\",\"58.6934\",\"63.546\",\"65.38\",\"69.723\",\"72.64\",\"74.92160\",\"78.96\",\"79.904\",\"83.798\",\"85.4678\",\"87.62\",\"88.90585\",\"91.224\",\"92.90638\",\"95.96\",\"[98]\",\"101.07\",\"102.90550\",\"106.42\",\"107.8682\",\"112.411\",\"114.818\",\"118.710\",\"121.760\",\"127.60\",\"126.90447\",\"131.293\",\"132.9054519\",\"137.327\",\"178.49\",\"180.94788\",\"183.84\",\"186.207\",\"190.23\",\"192.217\",\"195.084\",\"196.966569\",\"200.59\",\"204.3833\",\"207.2\",\"208.98040\",\"[209]\",\"[210]\",\"[222]\",\"[223]\",\"[226]\",\"[267]\",\"[268]\",\"[271]\",\"[272]\",\"[270]\",\"[276]\",\"[281]\",\"[280]\",\"[285]\",\"[284]\",\"[289]\",\"[288]\",\"[293]\",\"[294]\",\"[294]\"],\"atomic number\":[1,2,3,4,5,6,7,8,9,10,11,12,13,14,15,16,17,18,19,20,21,22,23,24,25,26,27,28,29,30,31,32,33,34,35,36,37,38,39,40,41,42,43,44,45,46,47,48,49,50,51,52,53,54,55,56,72,73,74,75,76,77,78,79,80,81,82,83,84,85,86,87,88,104,105,106,107,108,109,110,111,112,113,114,115,116,117,118],\"atomic radius\":{\"__ndarray__\":\"AAAAAACAQkAAAAAAAABAQAAAAAAAwGBAAAAAAACAVkAAAAAAAIBUQAAAAAAAQFNAAAAAAADAUkAAAAAAAEBSQAAAAAAAwFFAAAAAAABAUUAAAAAAAEBjQAAAAAAAQGBAAAAAAACAXUAAAAAAAMBbQAAAAAAAgFpAAAAAAACAWUAAAAAAAMBYQAAAAAAAQFhAAAAAAACAaEAAAAAAAMBlQAAAAAAAAGJAAAAAAAAAYUAAAAAAAEBfQAAAAAAAwF9AAAAAAABgYUAAAAAAAEBfQAAAAAAAgF9AAAAAAABAXkAAAAAAAEBhQAAAAAAAYGBAAAAAAACAX0AAAAAAAIBeQAAAAAAAwF1AAAAAAAAAXUAAAAAAAIBcQAAAAAAAgFtAAAAAAABgakAAAAAAAABoQAAAAAAAQGRAAAAAAACAYkAAAAAAACBhQAAAAAAAIGJAAAAAAACAY0AAAAAAAIBfQAAAAAAA4GBAAAAAAABgYEAAAAAAACBjQAAAAAAAgGJAAAAAAAAAYkAAAAAAAKBhQAAAAAAAQGFAAAAAAADgYEAAAAAAAKBgQAAAAAAAQGBAAAAAAAAgbEAAAAAAAMBoQAAAAAAAwGJAAAAAAABAYUAAAAAAAEBiQAAAAAAA4GNAAAAAAAAAYEAAAAAAACBhQAAAAAAAAGBAAAAAAAAAYkAAAAAAAKBiQAAAAAAAgGJAAAAAAABgYkAAAAAAAEBiQAAAAAAAAPh/AAAAAAAA+H8AAAAAACBiQAAAAAAAAPh/AAAAAAAA+H8AAAAAAAD4fwAAAAAAAPh/AAAAAAAA+H8AAAAAAAD4fwAAAAAAAPh/AAAAAAAA+H8AAAAAAAD4fwAAAAAAAPh/AAAAAAAA+H8AAAAAAAD4fwAAAAAAAPh/AAAAAAAA+H8AAAAAAAD4fwAAAAAAAPh/AAAAAAAA+H8=\",\"dtype\":\"float64\",\"shape\":[88]},\"boiling point\":{\"__ndarray__\":\"AAAAAAAANEAAAAAAAAAQQAAAAAAAPJlAAAAAAABupUAAAAAAALGwQAAAAAAAzLBAAAAAAABAU0AAAAAAAIBWQAAAAAAAQFVAAAAAAAAAO0AAAAAAABCSQAAAAAAATJVAAAAAAADQpUAAAAAAAMqoQAAAAAAAUIFAAAAAAABwhkAAAAAAAOBtQAAAAAAAwFVAAAAAAAAgkEAAAAAAAHSbQAAAAAAAPqhAAAAAAADQq0AAAAAAAMCsQAAAAAAAAKdAAAAAAAA8okAAAAAAAHyoQAAAAAAAAKlAAAAAAADkqEAAAAAAAACpQAAAAAAAcJJAAAAAAABao0AAAAAAACqoQAAAAAAAuItAAAAAAADwjUAAAAAAAMB0QAAAAAAAAF5AAAAAAAAIjkAAAAAAANyZQAAAAAAARKxAAAAAAABKskAAAAAAAJmzQAAAAAAAMLNAAAAAAAC6sUAAAAAAAEexQAAAAAAAAK9AAAAAAABIqUAAAAAAAAajQAAAAAAAQJBAAAAAAABSokAAAAAAAHamQAAAAAAAEJ1AAAAAAAC0k0AAAAAAAJB8QAAAAAAAoGRAAAAAAACAjUAAAAAAAL6gQAAAAAAADLNAAAAAAABjtkAAAAAAAMS2QAAAAAAA7bZAAAAAAACltEAAAAAAAF2yQAAAAAAAArBAAAAAAAByqEAAAAAAALCDQAAAAAAASJtAAAAAAACYn0AAAAAAALScQAAAAAAATJNAAAAAAAAA+H8AAAAAAGBqQAAAAAAAAPh/AAAAAABon0AAAAAAAAD4fwAAAAAAAPh/AAAAAAAA+H8AAAAAAAD4fwAAAAAAAPh/AAAAAAAA+H8AAAAAAAD4fwAAAAAAAPh/AAAAAAAA+H8AAAAAAAD4fwAAAAAAAPh/AAAAAAAA+H8AAAAAAAD4fwAAAAAAAPh/AAAAAAAA+H8=\",\"dtype\":\"float64\",\"shape\":[88]},\"bonding type\":[\"diatomic\",\"atomic\",\"metallic\",\"metallic\",\"covalent network\",\"covalent network\",\"diatomic\",\"diatomic\",\"atomic\",\"atomic\",\"metallic\",\"metallic\",\"metallic\",\"metallic\",\"covalent network\",\"covalent network\",\"covalent network\",\"atomic\",\"metallic\",\"metallic\",\"metallic\",\"metallic\",\"metallic\",\"metallic\",\"metallic\",\"metallic\",\"metallic\",\"metallic\",\"metallic\",\"metallic\",\"metallic\",\"metallic\",\"metallic\",\"metallic\",\"covalent network\",\"atomic\",\"metallic\",\"metallic\",\"metallic\",\"metallic\",\"metallic\",\"metallic\",\"metallic\",\"metallic\",\"metallic\",\"metallic\",\"metallic\",\"metallic\",\"metallic\",\"metallic\",\"metallic\",\"metallic\",\"covalent network\",\"atomic\",\"metallic\",\"metallic\",\"metallic\",\"metallic\",\"metallic\",\"metallic\",\"metallic\",\"metallic\",\"metallic\",\"metallic\",\"metallic\",\"metallic\",\"metallic\",\"metallic\",\"metallic\",\"covalent network\",\"atomic\",\"metallic\",\"metallic\",\"NaN\",\"NaN\",\"NaN\",\"NaN\",\"NaN\",\"NaN\",\"NaN\",\"NaN\",\"NaN\",\"NaN\",\"NaN\",\"NaN\",\"NaN\",\"NaN\",\"NaN\"],\"density\":{\"__ndarray__\":\"4yZZPRaRFz8AAAAAAAAAAEjhehSuR+E/mpmZmZmZ/T+uR+F6FK4DQBSuR+F6FAJAAAAAAAAAAAAAAAAAAAAAAAAAAAAAAAAAAAAAAAAAAAAK16NwPQrvP9ejcD0K1/s/mpmZmZmZBUCkcD0K16MCQB+F61G4Hv0/XI/C9Shc/z8AAAAAAAAAAAAAAAAAAAAAhetRuB6F6z/NzMzMzMz4P+xRuB6F6wdACtejcD0KEkBxPQrXo3AYQI/C9ShcjxxA4XoUrkfhHUB7FK5H4XofQM3MzMzMzCFAUrgehevRIUDXo3A9CtchQI/C9ShcjxxAmpmZmZmZF0BI4XoUrkcVQOxRuB6F6xZASOF6FK5HE0D2KFyPwvUIQAAAAAAAAAAAexSuR+F6+D8K16NwPQoFQOF6FK5H4RFACtejcD0KGkCkcD0K1yMhQI/C9ShcjyRAAAAAAAAAJ0A9CtejcL0oQGZmZmZm5ihACtejcD0KKEB7FK5H4fokQM3MzMzMTCFAPQrXo3A9HUA9CtejcD0dQM3MzMzMzBpA9ihcj8L1GEDD9Shcj8ITQHsUrkfheoQ/FK5H4XoU/j8UrkfhehQMQB+F61G4nipAZmZmZmamMEAAAAAAAEAzQIXrUbgeBTVA16NwPQqXNkCPwvUoXI82QNejcD0KFzVAzczMzMxMM0CPwvUoXA8rQDMzMzMzsydArkfhehSuJkCPwvUoXI8jQGZmZmZmZiJAAAAAAAAA+H97FK5H4XqEPwAAAAAAAPh/AAAAAAAAFEAAAAAAAAD4fwAAAAAAAPh/AAAAAAAA+H8AAAAAAAD4fwAAAAAAAPh/AAAAAAAA+H8AAAAAAAD4fwAAAAAAAPh/AAAAAAAA+H8AAAAAAAD4fwAAAAAAAPh/AAAAAAAA+H8AAAAAAAD4fwAAAAAAAPh/AAAAAAAA+H8=\",\"dtype\":\"float64\",\"shape\":[88]},\"electronegativity\":{\"__ndarray__\":\"mpmZmZmZAUAAAAAAAAD4f1yPwvUoXO8/H4XrUbge+T9SuB6F61EAQGZmZmZmZgRAUrgehetRCECF61G4HoULQNejcD0K1w9AAAAAAAAA+H/D9Shcj8LtP/YoXI/C9fQ/w/UoXI/C+T9mZmZmZmb+P4XrUbgehQFApHA9CtejBEBI4XoUrkcJQAAAAAAAAPh/PQrXo3A96j8AAAAAAADwP8P1KFyPwvU/pHA9Ctej+D8UrkfhehT6P4/C9Shcj/o/zczMzMzM+D9I4XoUrkf9PxSuR+F6FP4/j8L1KFyP/j9mZmZmZmb+P2ZmZmZmZvo/9ihcj8L1/D8UrkfhehQAQHE9CtejcAFAZmZmZmZmBECuR+F6FK4HQAAAAAAAAPh/PQrXo3A96j9mZmZmZmbuP4XrUbgehfM/SOF6FK5H9T+amZmZmZn5P0jhehSuRwFAZmZmZmZm/j+amZmZmZkBQD0K16NwPQJAmpmZmZmZAUDhehSuR+H+PwrXo3A9Cvs/exSuR+F6/D9cj8L1KFz/P2ZmZmZmZgBAzczMzMzMAEBI4XoUrkcFQAAAAAAAAPh/SOF6FK5H6T97FK5H4XrsP83MzMzMzPQ/AAAAAAAA+D/hehSuR+ECQGZmZmZmZv4/mpmZmZmZAUCamZmZmZkBQD0K16NwPQJAUrgehetRBEAAAAAAAAAAQFK4HoXrUQBApHA9CtejAkApXI/C9SgAQAAAAAAAAABAmpmZmZmZAUAAAAAAAAD4f2ZmZmZmZuY/zczMzMzM7D8AAAAAAAD4fwAAAAAAAPh/AAAAAAAA+H8AAAAAAAD4fwAAAAAAAPh/AAAAAAAA+H8AAAAAAAD4fwAAAAAAAPh/AAAAAAAA+H8AAAAAAAD4fwAAAAAAAPh/AAAAAAAA+H8AAAAAAAD4fwAAAAAAAPh/AAAAAAAA+H8=\",\"dtype\":\"float64\",\"shape\":[88]},\"electronic configuration\":[\"1s1\",\"1s2\",\"[He] 2s1\",\"[He] 2s2\",\"[He] 2s2 2p1\",\"[He] 2s2 2p2\",\"[He] 2s2 2p3\",\"[He] 2s2 2p4\",\"[He] 2s2 2p5\",\"[He] 2s2 2p6\",\"[Ne] 3s1\",\"[Ne] 3s2\",\"[Ne] 3s2 3p1\",\"[Ne] 3s2 3p2\",\"[Ne] 3s2 3p3\",\"[Ne] 3s2 3p4\",\"[Ne] 3s2 3p5\",\"[Ne] 3s2 3p6\",\"[Ar] 4s1\",\"[Ar] 4s2\",\"[Ar] 3d1 4s2\",\"[Ar] 3d2 4s2\",\"[Ar] 3d3 4s2\",\"[Ar] 3d5 4s1\",\"[Ar] 3d5 4s2\",\"[Ar] 3d6 4s2\",\"[Ar] 3d7 4s2\",\"[Ar] 3d8 4s2\",\"[Ar] 3d10 4s1\",\"[Ar] 3d10 4s2\",\"[Ar] 3d10 4s2 4p1\",\"[Ar] 3d10 4s2 4p2\",\"[Ar] 3d10 4s2 4p3\",\"[Ar] 3d10 4s2 4p4\",\"[Ar] 3d10 4s2 4p5\",\"[Ar] 3d10 4s2 4p6\",\"[Kr] 5s1\",\"[Kr] 5s2\",\"[Kr] 4d1 5s2\",\"[Kr] 4d2 5s2\",\"[Kr] 4d4 5s1\",\"[Kr] 4d5 5s1\",\"[Kr] 4d5 5s2\",\"[Kr] 4d7 5s1\",\"[Kr] 4d8 5s1\",\"[Kr] 4d10\",\"[Kr] 4d10 5s1\",\"[Kr] 4d10 5s2\",\"[Kr] 4d10 5s2 5p1\",\"[Kr] 4d10 5s2 5p2\",\"[Kr] 4d10 5s2 5p3\",\"[Kr] 4d10 5s2 5p4\",\"[Kr] 4d10 5s2 5p5\",\"[Kr] 4d10 5s2 5p6\",\"[Xe] 6s1\",\"[Xe] 6s2\",\"[Xe] 4f14 5d2 6s2\",\"[Xe] 4f14 5d3 6s2\",\"[Xe] 4f14 5d4 6s2\",\"[Xe] 4f14 5d5 6s2\",\"[Xe] 4f14 5d6 6s2\",\"[Xe] 4f14 5d7 6s2\",\"[Xe] 4f14 5d9 6s1\",\"[Xe] 4f14 5d10 6s1\",\"[Xe] 4f14 5d10 6s2\",\"[Xe] 4f14 5d10 6s2 6p1\",\"[Xe] 4f14 5d10 6s2 6p2\",\"[Xe] 4f14 5d10 6s2 6p3\",\"[Xe] 4f14 5d10 6s2 6p4\",\"[Xe] 4f14 5d10 6s2 6p5\",\"[Xe] 4f14 5d10 6s2 6p6\",\"[Rn] 7s1\",\"[Rn] 7s2\",\"[Rn] 5f14 6d2 7s2\",\"[Rn].5f14.6d3.7s2\",\"[Rn].5f14.6d4.7s2\",\"[Rn].5f14.6d5.7s2\",\"[Rn].5f14.6d6.7s2\",\"[Rn].5f14.6d7.7s2\",\"[Rn].5f14.6d9.7s1\",\"[Rn].5f14.6d10.7s1\",\"[Rn].5f14.6d10.7s2\",\"[Rn].5f14.6d10.7s2.7p1\",\"[Rn].5f14.6d10.7s2.7p2\",\"[Rn].5f14.6d10.7s2.7p3\",\"[Rn].5f14.6d10.7s2.7p4\",\"[Rn].5f14.6d10.7s2.7p5\",\"[Rn].5f14.6d10.7s2.7p6\"],\"group\":[\"1\",\"18\",\"1\",\"2\",\"13\",\"14\",\"15\",\"16\",\"17\",\"18\",\"1\",\"2\",\"13\",\"14\",\"15\",\"16\",\"17\",\"18\",\"1\",\"2\",\"3\",\"4\",\"5\",\"6\",\"7\",\"8\",\"9\",\"10\",\"11\",\"12\",\"13\",\"14\",\"15\",\"16\",\"17\",\"18\",\"1\",\"2\",\"3\",\"4\",\"5\",\"6\",\"7\",\"8\",\"9\",\"10\",\"11\",\"12\",\"13\",\"14\",\"15\",\"16\",\"17\",\"18\",\"1\",\"2\",\"4\",\"5\",\"6\",\"7\",\"8\",\"9\",\"10\",\"11\",\"12\",\"13\",\"14\",\"15\",\"16\",\"17\",\"18\",\"1\",\"2\",\"4\",\"5\",\"6\",\"7\",\"8\",\"9\",\"10\",\"11\",\"12\",\"13\",\"14\",\"15\",\"16\",\"17\",\"18\"],\"index\":[0,1,2,3,4,5,6,7,8,9,10,11,12,13,14,15,16,17,18,19,20,21,22,23,24,25,26,27,28,29,30,31,32,33,34,35,36,37,38,39,40,41,42,43,44,45,46,47,48,49,50,51,52,53,54,55,71,72,73,74,75,76,77,78,79,80,81,82,83,84,85,86,87,103,104,105,106,107,108,109,110,111,112,113,114,115,116,117],\"ion radius\":[\"NaN\",\"NaN\",\"76 (+1)\",\"45 (+2)\",\"27 (+3)\",\"16 (+4)\",\"146 (-3)\",\"140 (-2)\",\"133 (-1)\",\"NaN\",\"102 (+1)\",\"72 (+2)\",\"53.5 (+3)\",\"40 (+4)\",\"44 (+3)\",\"184 (-2)\",\"181 (-1)\",\"NaN\",\"138 (+1)\",\"100 (+2)\",\"74.5 (+3)\",\"86 (+2)\",\"79 (+2)\",\"80 (+2*)\",\"67 (+2)\",\"78 (+2*)\",\"74.5 (+2*)\",\"69 (+2)\",\"77 (+1)\",\"74 (+2)\",\"62 (+3)\",\"73 (+2)\",\"58 (+3)\",\"198 (-2)\",\"196 (-1)\",\"NaN\",\"152 (+1)\",\"118 (+2)\",\"90 (+3)\",\"72 (+4)\",\"72 (+3)\",\"69 (+3)\",\"64.5 (+4)\",\"68 (+3)\",\"66.5 (+3)\",\"59 (+1)\",\"115 (+1)\",\"95 (+2)\",\"80 (+3)\",\"112 (+2)\",\"76 (+3)\",\"221 (-2)\",\"220 (-1)\",\"48 (+8)\",\"167 (+1)\",\"135 (+2)\",\"71 (+4)\",\"72 (+3)\",\"66 (+4)\",\"63 (+4)\",\"63 (+4)\",\"68 (+3)\",\"86 (+2)\",\"137 (+1)\",\"119 (+1)\",\"150 (+1)\",\"119 (+2)\",\"103 (+3)\",\"94 (+4)\",\"62 (+7)\",\"NaN\",\"180 (+1)\",\"148 (+2)\",\"NaN\",\"NaN\",\"NaN\",\"NaN\",\"NaN\",\"NaN\",\"NaN\",\"NaN\",\"NaN\",\"NaN\",\"NaN\",\"NaN\",\"NaN\",\"NaN\",\"NaN\"],\"melting point\":{\"__ndarray__\":\"AAAAAAAALEAAAAAAAAD4fwAAAAAAYHxAAAAAAABgmEAAAAAAAFiiQAAAAAAA3q1AAAAAAACAT0AAAAAAAIBLQAAAAAAAAEtAAAAAAAAAOUAAAAAAADB3QAAAAAAA2IxAAAAAAAAojUAAAAAAAFyaQAAAAAAA0HNAAAAAAABAeEAAAAAAAIBlQAAAAAAAAFVAAAAAAAAQdUAAAAAAAGyRQAAAAAAAWJxAAAAAAABUnkAAAAAAAA6hQAAAAAAACKFAAAAAAAC8l0AAAAAAAEycQAAAAAAAoJtAAAAAAAAAm0AAAAAAADiVQAAAAAAAqIVAAAAAAADwckAAAAAAAOySQAAAAAAACJFAAAAAAADgfkAAAAAAAKBwQAAAAAAAAF1AAAAAAACAc0AAAAAAAGiQQAAAAAAAHJxAAAAAAACgoEAAAAAAAHylQAAAAAAAoKZAAAAAAAD8okAAAAAAAF6kQAAAAAAAeqFAAAAAAACQnEAAAAAAAEyTQAAAAAAAkIJAAAAAAADgekAAAAAAAJB/QAAAAAAAQIxAAAAAAACYhkAAAAAAADB4QAAAAAAAIGRAAAAAAADgckAAAAAAAECPQAAAAAAAlKNAAAAAAAC0qUAAAAAAAN6sQAAAAAAABqtAAAAAAADUqUAAAAAAAGalQAAAAAAA5J9AAAAAAADklEAAAAAAAEBtQAAAAAAACIJAAAAAAADIgkAAAAAAAACBQAAAAAAAeIBAAAAAAAD4gUAAAAAAAEBpQAAAAAAAAPh/AAAAAABojkAAAAAAAAD4fwAAAAAAAPh/AAAAAAAA+H8AAAAAAAD4fwAAAAAAAPh/AAAAAAAA+H8AAAAAAAD4fwAAAAAAAPh/AAAAAAAA+H8AAAAAAAD4fwAAAAAAAPh/AAAAAAAA+H8AAAAAAAD4fwAAAAAAAPh/AAAAAAAA+H8=\",\"dtype\":\"float64\",\"shape\":[88]},\"metal\":[\"nonmetal\",\"noble gas\",\"alkali metal\",\"alkaline earth metal\",\"metalloid\",\"nonmetal\",\"nonmetal\",\"nonmetal\",\"halogen\",\"noble gas\",\"alkali metal\",\"alkaline earth metal\",\"metal\",\"metalloid\",\"nonmetal\",\"nonmetal\",\"halogen\",\"noble gas\",\"alkali metal\",\"alkaline earth metal\",\"transition metal\",\"transition metal\",\"transition metal\",\"transition metal\",\"transition metal\",\"transition metal\",\"transition metal\",\"transition metal\",\"transition metal\",\"transition metal\",\"metal\",\"metalloid\",\"metalloid\",\"nonmetal\",\"halogen\",\"noble gas\",\"alkali metal\",\"alkaline earth metal\",\"transition metal\",\"transition metal\",\"transition metal\",\"transition metal\",\"transition metal\",\"transition metal\",\"transition metal\",\"transition metal\",\"transition metal\",\"transition metal\",\"metal\",\"metal\",\"metalloid\",\"metalloid\",\"halogen\",\"noble gas\",\"alkali metal\",\"alkaline earth metal\",\"transition metal\",\"transition metal\",\"transition metal\",\"transition metal\",\"transition metal\",\"transition metal\",\"transition metal\",\"transition metal\",\"transition metal\",\"metal\",\"metal\",\"metal\",\"metalloid\",\"halogen\",\"noble gas\",\"alkali metal\",\"alkaline earth metal\",\"transition metal\",\"transition metal\",\"transition metal\",\"transition metal\",\"transition metal\",\"transition metal\",\"transition metal\",\"transition metal\",\"transition metal\",\"metal\",\"metal\",\"metal\",\"metal\",\"halogen\",\"noble gas\"],\"name\":[\"Hydrogen\",\"Helium\",\"Lithium\",\"Beryllium\",\"Boron\",\"Carbon\",\"Nitrogen\",\"Oxygen\",\"Fluorine\",\"Neon\",\"Sodium\",\"Magnesium\",\"Aluminum\",\"Silicon\",\"Phosphorus\",\"Sulfur\",\"Chlorine\",\"Argon\",\"Potassium\",\"Calcium\",\"Scandium\",\"Titanium\",\"Vanadium\",\"Chromium\",\"Manganese\",\"Iron\",\"Cobalt\",\"Nickel\",\"Copper\",\"Zinc\",\"Gallium\",\"Germanium\",\"Arsenic\",\"Selenium\",\"Bromine\",\"Krypton\",\"Rubidium\",\"Strontium\",\"Yttrium\",\"Zirconium\",\"Niobium\",\"Molybdenum\",\"Technetium\",\"Ruthenium\",\"Rhodium\",\"Palladium\",\"Silver\",\"Cadmium\",\"Indium\",\"Tin\",\"Antimony\",\"Tellurium\",\"Iodine\",\"Xenon\",\"Cesium\",\"Barium\",\"Hafnium\",\"Tantalum\",\"Tungsten\",\"Rhenium\",\"Osmium\",\"Iridium\",\"Platinum\",\"Gold\",\"Mercury\",\"Thallium\",\"Lead\",\"Bismuth\",\"Polonium\",\"Astatine\",\"Radon\",\"Francium\",\"Radium\",\"Rutherfordium\",\"Dubnium\",\"Seaborgium\",\"Bohrium\",\"Hassium\",\"Meitnerium\",\"Darmstadtium\",\"Roentgenium\",\"Copernicium\",\"Nihomium\",\"Flerovium\",\"Moscovium\",\"Livermorium\",\"Tennessine\",\"Oganesson\"],\"period\":[\"I\",\"I\",\"II\",\"II\",\"II\",\"II\",\"II\",\"II\",\"II\",\"II\",\"III\",\"III\",\"III\",\"III\",\"III\",\"III\",\"III\",\"III\",\"IV\",\"IV\",\"IV\",\"IV\",\"IV\",\"IV\",\"IV\",\"IV\",\"IV\",\"IV\",\"IV\",\"IV\",\"IV\",\"IV\",\"IV\",\"IV\",\"IV\",\"IV\",\"V\",\"V\",\"V\",\"V\",\"V\",\"V\",\"V\",\"V\",\"V\",\"V\",\"V\",\"V\",\"V\",\"V\",\"V\",\"V\",\"V\",\"V\",\"VI\",\"VI\",\"VI\",\"VI\",\"VI\",\"VI\",\"VI\",\"VI\",\"VI\",\"VI\",\"VI\",\"VI\",\"VI\",\"VI\",\"VI\",\"VI\",\"VI\",\"VII\",\"VII\",\"VII\",\"VII\",\"VII\",\"VII\",\"VII\",\"VII\",\"VII\",\"VII\",\"VII\",\"VII\",\"VII\",\"VII\",\"VII\",\"VII\",\"VII\"],\"standard state\":[\"gas\",\"gas\",\"solid\",\"solid\",\"solid\",\"solid\",\"gas\",\"gas\",\"gas\",\"gas\",\"solid\",\"solid\",\"solid\",\"solid\",\"solid\",\"solid\",\"gas\",\"gas\",\"solid\",\"solid\",\"solid\",\"solid\",\"solid\",\"solid\",\"solid\",\"solid\",\"solid\",\"solid\",\"solid\",\"solid\",\"solid\",\"solid\",\"solid\",\"solid\",\"liquid\",\"gas\",\"solid\",\"solid\",\"solid\",\"solid\",\"solid\",\"solid\",\"solid\",\"solid\",\"solid\",\"solid\",\"solid\",\"solid\",\"solid\",\"solid\",\"solid\",\"solid\",\"solid\",\"gas\",\"solid\",\"solid\",\"solid\",\"solid\",\"solid\",\"solid\",\"solid\",\"solid\",\"solid\",\"solid\",\"liquid\",\"solid\",\"solid\",\"solid\",\"solid\",\"solid\",\"gas\",\"solid\",\"solid\",\"NaN\",\"NaN\",\"NaN\",\"NaN\",\"NaN\",\"NaN\",\"NaN\",\"NaN\",\"NaN\",\"NaN\",\"NaN\",\"NaN\",\"NaN\",\"NaN\",\"NaN\"],\"symbol\":[\"H\",\"He\",\"Li\",\"Be\",\"B\",\"C\",\"N\",\"O\",\"F\",\"Ne\",\"Na\",\"Mg\",\"Al\",\"Si\",\"P\",\"S\",\"Cl\",\"Ar\",\"K\",\"Ca\",\"Sc\",\"Ti\",\"V\",\"Cr\",\"Mn\",\"Fe\",\"Co\",\"Ni\",\"Cu\",\"Zn\",\"Ga\",\"Ge\",\"As\",\"Se\",\"Br\",\"Kr\",\"Rb\",\"Sr\",\"Y\",\"Zr\",\"Nb\",\"Mo\",\"Tc\",\"Ru\",\"Rh\",\"Pd\",\"Ag\",\"Cd\",\"In\",\"Sn\",\"Sb\",\"Te\",\"I\",\"Xe\",\"Cs\",\"Ba\",\"Hf\",\"Ta\",\"W\",\"Re\",\"Os\",\"Ir\",\"Pt\",\"Au\",\"Hg\",\"Tl\",\"Pb\",\"Bi\",\"Po\",\"At\",\"Rn\",\"Fr\",\"Ra\",\"Rf\",\"Db\",\"Sg\",\"Bh\",\"Hs\",\"Mt\",\"Ds\",\"Rg\",\"Cn\",\"Nh\",\"Fl\",\"Mc\",\"Lv\",\"Ts\",\"Og\"],\"van der Waals radius\":{\"__ndarray__\":\"AAAAAAAAXkAAAAAAAIBhQAAAAAAAwGZAAAAAAAAA+H8AAAAAAAD4fwAAAAAAQGVAAAAAAABgY0AAAAAAAABjQAAAAAAAYGJAAAAAAABAY0AAAAAAAGBsQAAAAAAAoGVAAAAAAAAA+H8AAAAAAEBqQAAAAAAAgGZAAAAAAACAZkAAAAAAAOBlQAAAAAAAgGdAAAAAAAAwcUAAAAAAAAD4fwAAAAAAAPh/AAAAAAAA+H8AAAAAAAD4fwAAAAAAAPh/AAAAAAAA+H8AAAAAAAD4fwAAAAAAAPh/AAAAAABgZEAAAAAAAIBhQAAAAAAAYGFAAAAAAABgZ0AAAAAAAAD4fwAAAAAAIGdAAAAAAADAZ0AAAAAAACBnQAAAAAAAQGlAAAAAAAAA+H8AAAAAAAD4fwAAAAAAAPh/AAAAAAAA+H8AAAAAAAD4fwAAAAAAAPh/AAAAAAAA+H8AAAAAAAD4fwAAAAAAAPh/AAAAAABgZEAAAAAAAIBlQAAAAAAAwGNAAAAAAAAgaEAAAAAAACBrQAAAAAAAAPh/AAAAAADAaUAAAAAAAMBoQAAAAAAAAGtAAAAAAAAA+H8AAAAAAAD4fwAAAAAAAPh/AAAAAAAA+H8AAAAAAAD4fwAAAAAAAPh/AAAAAAAA+H8AAAAAAAD4fwAAAAAA4GVAAAAAAADAZEAAAAAAAGBjQAAAAAAAgGhAAAAAAABAaUAAAAAAAAD4fwAAAAAAAPh/AAAAAAAA+H8AAAAAAAD4fwAAAAAAAPh/AAAAAAAA+H8AAAAAAAD4fwAAAAAAAPh/AAAAAAAA+H8AAAAAAAD4fwAAAAAAAPh/AAAAAAAA+H8AAAAAAAD4fwAAAAAAAPh/AAAAAAAA+H8AAAAAAAD4fwAAAAAAAPh/AAAAAAAA+H8AAAAAAAD4fwAAAAAAAPh/AAAAAAAA+H8=\",\"dtype\":\"float64\",\"shape\":[88]},\"year discovered\":[\"1766\",\"1868\",\"1817\",\"1798\",\"1807\",\"Ancient\",\"1772\",\"1774\",\"1670\",\"1898\",\"1807\",\"1808\",\"Ancient\",\"1854\",\"1669\",\"Ancient\",\"1774\",\"1894\",\"1807\",\"Ancient\",\"1876\",\"1791\",\"1803\",\"Ancient\",\"1774\",\"Ancient\",\"Ancient\",\"1751\",\"Ancient\",\"1746\",\"1875\",\"1886\",\"Ancient\",\"1817\",\"1826\",\"1898\",\"1861\",\"1790\",\"1794\",\"1789\",\"1801\",\"1778\",\"1937\",\"1827\",\"1803\",\"1803\",\"Ancient\",\"1817\",\"1863\",\"Ancient\",\"Ancient\",\"1782\",\"1811\",\"1898\",\"1860\",\"1808\",\"1923\",\"1802\",\"1783\",\"1925\",\"1803\",\"1803\",\"Ancient\",\"Ancient\",\"Ancient\",\"1861\",\"Ancient\",\"Ancient\",\"1898\",\"1940\",\"1900\",\"1939\",\"1898\",\"1969\",\"1967\",\"1974\",\"1976\",\"1984\",\"1982\",\"1994\",\"1994\",\"1996\",\"2003\",\"1998\",\"2003\",\"2000\",\"2010\",\"2002\"]},\"selected\":{\"id\":\"42286\"},\"selection_policy\":{\"id\":\"42285\"}},\"id\":\"41253\",\"type\":\"ColumnDataSource\"},{\"attributes\":{},\"id\":\"42285\",\"type\":\"UnionRenderers\"},{\"attributes\":{\"fill_alpha\":{\"value\":0.6},\"fill_color\":{\"field\":\"metal\",\"transform\":{\"id\":\"41274\"}},\"height\":{\"units\":\"data\",\"value\":0.95},\"line_color\":{\"field\":\"metal\",\"transform\":{\"id\":\"41274\"}},\"width\":{\"units\":\"data\",\"value\":0.95},\"x\":{\"field\":\"group\"},\"y\":{\"field\":\"period\"}},\"id\":\"41276\",\"type\":\"Rect\"},{\"attributes\":{\"range\":{\"id\":\"41259\"},\"value\":0.3},\"id\":\"41293\",\"type\":\"Dodge\"},{\"attributes\":{\"axis\":{\"id\":\"41268\"},\"dimension\":1,\"grid_line_color\":null,\"ticker\":null},\"id\":\"41270\",\"type\":\"Grid\"},{\"attributes\":{\"active_drag\":\"auto\",\"active_inspect\":\"auto\",\"active_multi\":null,\"active_scroll\":\"auto\",\"active_tap\":\"auto\",\"tools\":[{\"id\":\"41271\"}]},\"id\":\"41272\",\"type\":\"Toolbar\"},{\"attributes\":{\"source\":{\"id\":\"41253\"}},\"id\":\"41298\",\"type\":\"CDSView\"}],\"root_ids\":[\"41254\"]},\"title\":\"Bokeh Application\",\"version\":\"2.0.2\"}};\n  var render_items = [{\"docid\":\"4dd69ec7-6f3f-4822-8def-b056a4bf932c\",\"root_ids\":[\"41254\"],\"roots\":{\"41254\":\"3fab58bf-6216-41e9-bbb8-dfffdbd383a8\"}}];\n  root.Bokeh.embed.embed_items_notebook(docs_json, render_items);\n\n  }\n  if (root.Bokeh !== undefined) {\n    embed_document(root);\n  } else {\n    var attempts = 0;\n    var timer = setInterval(function(root) {\n      if (root.Bokeh !== undefined) {\n        clearInterval(timer);\n        embed_document(root);\n      } else {\n        attempts++;\n        if (attempts > 100) {\n          clearInterval(timer);\n          console.log(\"Bokeh: ERROR: Unable to run BokehJS code because BokehJS library is missing\");\n        }\n      }\n    }, 10, root)\n  }\n})(window);",
      "application/vnd.bokehjs_exec.v0+json": ""
     },
     "metadata": {
      "application/vnd.bokehjs_exec.v0+json": {
       "id": "41254"
      }
     }
    }
   ],
   "source": [
    "from bokeh.io import output_file, show\n",
    "from bokeh.models import ColumnDataSource\n",
    "from bokeh.plotting import figure\n",
    "from bokeh.sampledata.periodic_table import elements\n",
    "from bokeh.transform import dodge, factor_cmap\n",
    "\n",
    "periods = [\"I\", \"II\", \"III\", \"IV\", \"V\", \"VI\", \"VII\"]\n",
    "groups = [str(x) for x in range(1, 19)]\n",
    "\n",
    "df = elements.copy()\n",
    "df[\"atomic mass\"] = df[\"atomic mass\"].astype(str)\n",
    "df[\"group\"] = df[\"group\"].astype(str)\n",
    "df[\"period\"] = [periods[x-1] for x in df.period]\n",
    "df = df[df.group != \"-\"]\n",
    "df = df[df.symbol != \"Lr\"]\n",
    "df = df[df.symbol != \"Lu\"]\n",
    "\n",
    "cmap = {\n",
    "    \"alkali metal\"         : \"#a6cee3\",\n",
    "    \"alkaline earth metal\" : \"#1f78b4\",\n",
    "    \"metal\"                : \"#d93b43\",\n",
    "    \"halogen\"              : \"#999d9a\",\n",
    "    \"metalloid\"            : \"#e08d49\",\n",
    "    \"noble gas\"            : \"#eaeaea\",\n",
    "    \"nonmetal\"             : \"#f1d4Af\",\n",
    "    \"transition metal\"     : \"#599d7A\",\n",
    "}\n",
    "\n",
    "source = ColumnDataSource(df)\n",
    "\n",
    "p = figure(plot_width=900, plot_height=500, title=\"Periodic Table (omitting LA and AC Series)\",\n",
    "           x_range=groups, y_range=list(reversed(periods)), toolbar_location=None, tools=\"hover\")\n",
    "\n",
    "p.rect(\"group\", \"period\", 0.95, 0.95, source=source, fill_alpha=0.6, legend_field=\"metal\",\n",
    "       color=factor_cmap('metal', palette=list(cmap.values()), factors=list(cmap.keys())))\n",
    "\n",
    "text_props = {\"source\": source, \"text_align\": \"left\", \"text_baseline\": \"middle\"}\n",
    "\n",
    "x = dodge(\"group\", -0.4, range=p.x_range)\n",
    "\n",
    "r = p.text(x=x, y=\"period\", text=\"symbol\", **text_props)\n",
    "r.glyph.text_font_style=\"bold\"\n",
    "\n",
    "r = p.text(x=x, y=dodge(\"period\", 0.3, range=p.y_range), text=\"atomic number\", **text_props)\n",
    "r.glyph.text_font_size=\"11px\"\n",
    "\n",
    "r = p.text(x=x, y=dodge(\"period\", -0.35, range=p.y_range), text=\"name\", **text_props)\n",
    "r.glyph.text_font_size=\"7px\"\n",
    "\n",
    "r = p.text(x=x, y=dodge(\"period\", -0.2, range=p.y_range), text=\"atomic mass\", **text_props)\n",
    "r.glyph.text_font_size=\"7px\"\n",
    "\n",
    "p.text(x=[\"3\", \"3\"], y=[\"VI\", \"VII\"], text=[\"LA\", \"AC\"], text_align=\"center\", text_baseline=\"middle\")\n",
    "\n",
    "p.hover.tooltips = [\n",
    "    (\"Name\", \"@name\"),\n",
    "    (\"Atomic number\", \"@{atomic number}\"),\n",
    "    (\"Atomic mass\", \"@{atomic mass}\"),\n",
    "    (\"Type\", \"@metal\"),\n",
    "    (\"CPK color\", \"$color[hex, swatch]:CPK\"),\n",
    "    (\"Electronic configuration\", \"@{electronic configuration}\"),\n",
    "]\n",
    "\n",
    "p.outline_line_color = None\n",
    "p.grid.grid_line_color = None\n",
    "p.axis.axis_line_color = None\n",
    "p.axis.major_tick_line_color = None\n",
    "p.axis.major_label_standoff = 0\n",
    "p.legend.orientation = \"horizontal\"\n",
    "p.legend.location =\"top_center\"\n",
    "\n",
    "show(p)"
   ]
  },
  {
   "cell_type": "markdown",
   "metadata": {},
   "source": [
    "## "
   ]
  }
 ],
 "metadata": {
  "language_info": {
   "codemirror_mode": {
    "name": "ipython",
    "version": 3
   },
   "file_extension": ".py",
   "mimetype": "text/x-python",
   "name": "python",
   "nbconvert_exporter": "python",
   "pygments_lexer": "ipython3",
   "version": "3.7.4-final"
  },
  "orig_nbformat": 2,
  "kernelspec": {
   "name": "python37464bit1e709d27370248668c5cb1cb9452c666",
   "display_name": "Python 3.7.4 64-bit"
  }
 },
 "nbformat": 4,
 "nbformat_minor": 2
}